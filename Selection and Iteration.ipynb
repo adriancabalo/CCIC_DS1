{
 "cells": [
  {
   "cell_type": "code",
   "execution_count": 2,
   "id": "e6e98f66",
   "metadata": {},
   "outputs": [],
   "source": [
    "matrix = [[1,2,3],\n",
    "          [1,2,3],\n",
    "          [1,2,3]]\n",
    "if (((matrix[len(matrix)-1][len(matrix)-1])/2) % 2 == 0):\n",
    "    print(\"even\")"
   ]
  },
  {
   "cell_type": "code",
   "execution_count": 18,
   "id": "ddfcc05f",
   "metadata": {},
   "outputs": [
    {
     "name": "stdout",
     "output_type": "stream",
     "text": [
      "A\n",
      "E\n",
      "E\n"
     ]
    }
   ],
   "source": [
    "x = [[\"Teacher\",\"Student\"],[\"Spindt\",\"Bowen\"],[\"A\",\"B\",\"D\",\"E\",\"S\"],[\"L\",\"M\",\"E\",\"R\",\"T\"]]\n",
    "for row in x:\n",
    "    for col in row:\n",
    "        if(col == \"A\")or col == \"E\" or col == \"I\" or col == \"O\" or col == \"U\":\n",
    "            print(col)"
   ]
  },
  {
   "cell_type": "code",
   "execution_count": 22,
   "id": "bd4f1da4",
   "metadata": {},
   "outputs": [
    {
     "name": "stdout",
     "output_type": "stream",
     "text": [
      "True\n",
      "True\n",
      "True\n"
     ]
    }
   ],
   "source": [
    "list1 = [3,2,5,4]\n",
    "list2 = [5,3,7,9,2]\n",
    "\n",
    "for i in list1:\n",
    "    for x in list2:\n",
    "        if(i == x):\n",
    "            print(True)"
   ]
  },
  {
   "cell_type": "code",
   "execution_count": 4,
   "id": "96a21db1",
   "metadata": {},
   "outputs": [
    {
     "name": "stdout",
     "output_type": "stream",
     "text": [
      "4\n",
      "6\n",
      "Number: 4\n",
      "Length: 6\n",
      "[4, 8, 12, 16, 20, 24]\n"
     ]
    }
   ],
   "source": [
    "x = input()\n",
    "y = input()\n",
    "print(\"Number: \" + x)\n",
    "print(\"Length: \" + y)\n",
    "\n",
    "number = int(x)\n",
    "length = int(y)\n",
    "\n",
    "z = 1\n",
    "l = [0] * length\n",
    "    \n",
    "for i in range(0,length):\n",
    "    value = number * z\n",
    "    l[i] = value\n",
    "    z = z + 1\n",
    "print(l)\n",
    "    "
   ]
  },
  {
   "cell_type": "code",
   "execution_count": 6,
   "id": "cd8c190d",
   "metadata": {},
   "outputs": [
    {
     "name": "stdout",
     "output_type": "stream",
     "text": [
      "Enter a message: HEllo\n",
      ".... . .-.. .-.. --- "
     ]
    }
   ],
   "source": [
    "\n",
    "message = input(\"Enter a message: \").upper()\n",
    "\n",
    "char_to_dots = {\n",
    "  'A': '.-', 'B': '-...', 'C': '-.-.', 'D': '-..', 'E': '.', 'F': '..-.',\n",
    "  'G': '--.', 'H': '....', 'I': '..', 'J': '.---', 'K': '-.-', 'L': '.-..',\n",
    "  'M': '--', 'N': '-.', 'O': '---', 'P': '.--.', 'Q': '--.-', 'R': '.-.',\n",
    "  'S': '...', 'T': '-', 'U': '..-', 'V': '...-', 'W': '.--', 'X': '-..-',\n",
    "  'Y': '-.--', 'Z': '--..', ' ': ' ', '0': '-----',\n",
    "  '1': '.----', '2': '..---', '3': '...--', '4': '....-', '5': '.....',\n",
    "  '6': '-....', '7': '--...', '8': '---..', '9': '----.',\n",
    "  '&': '.-...', \"'\": '.----.', '@': '.--.-.', ')': '-.--.-', '(': '-.--.',\n",
    "  ':': '---...', ',': '--..--', '=': '-...-', '!': '-.-.--', '.': '.-.-.-',\n",
    "  '-': '-....-', '+': '.-.-.', '\"': '.-..-.', '?': '..--..', '/': '-..-.'\n",
    "}\n",
    "for x in range(0, len(message)):\n",
    "    word = message[x]\n",
    "    print(char_to_dots[word] + \" \", end=\"\")"
   ]
  },
  {
   "cell_type": "code",
   "execution_count": 53,
   "id": "79de6910",
   "metadata": {},
   "outputs": [
    {
     "name": "stdout",
     "output_type": "stream",
     "text": [
      "True\n"
     ]
    }
   ],
   "source": [
    "matrix =[[1,2,3],\n",
    "         [5,6,4],\n",
    "         [7,7,6]]\n",
    "result = True\n",
    "for c in range(len(matrix[0])):\n",
    "    for r in range(len(matrix)):\n",
    "        if(r < len(matrix) - 1 and matrix[r][c] >= matrix[r+1][c]):\n",
    "            result = False\n",
    "            break\n",
    "print(result)    "
   ]
  },
  {
   "cell_type": "code",
   "execution_count": null,
   "id": "02a99645",
   "metadata": {},
   "outputs": [],
   "source": [
    "        "
   ]
  }
 ],
 "metadata": {
  "kernelspec": {
   "display_name": "Python 3 (ipykernel)",
   "language": "python",
   "name": "python3"
  },
  "language_info": {
   "codemirror_mode": {
    "name": "ipython",
    "version": 3
   },
   "file_extension": ".py",
   "mimetype": "text/x-python",
   "name": "python",
   "nbconvert_exporter": "python",
   "pygments_lexer": "ipython3",
   "version": "3.9.12"
  }
 },
 "nbformat": 4,
 "nbformat_minor": 5
}
