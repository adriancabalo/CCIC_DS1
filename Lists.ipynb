{
 "cells": [
  {
   "cell_type": "code",
   "execution_count": 11,
   "id": "d4706e5e",
   "metadata": {},
   "outputs": [
    {
     "name": "stdout",
     "output_type": "stream",
     "text": [
      "['poop', 'dry chicken', 'poop']\n"
     ]
    }
   ],
   "source": [
    "foods = [\"pizza\",\"tacos\",\"hotdogs\"]\n",
    "foods[0] = \"poop\"\n",
    "foods[1] = \"dry chicken\"\n",
    "foods[2] = \"dry steak\"\n",
    "foods[len(foods)-1] = \"poop\"\n",
    "print(foods)\n"
   ]
  },
  {
   "cell_type": "code",
   "execution_count": 13,
   "id": "398e4992",
   "metadata": {},
   "outputs": [
    {
     "data": {
      "text/plain": [
       "4.2"
      ]
     },
     "execution_count": 13,
     "metadata": {},
     "output_type": "execute_result"
    }
   ],
   "source": [
    "Matrix = [[\"Student\",\"Height\",\"Weight\",\"Age\"],[\"Ellie\",4.6,60,10,],[\"Sofia\",4.9, 75, 11],[\"Jesus\",5.0,8010],[\"Jamal\",4.2,45,10],[\"Poppy\",5.1,80,11]]\n",
    "Matrix[4][1]"
   ]
  },
  {
   "cell_type": "code",
   "execution_count": null,
   "id": "d1a85639",
   "metadata": {},
   "outputs": [],
   "source": []
  }
 ],
 "metadata": {
  "kernelspec": {
   "display_name": "Python 3 (ipykernel)",
   "language": "python",
   "name": "python3"
  },
  "language_info": {
   "codemirror_mode": {
    "name": "ipython",
    "version": 3
   },
   "file_extension": ".py",
   "mimetype": "text/x-python",
   "name": "python",
   "nbconvert_exporter": "python",
   "pygments_lexer": "ipython3",
   "version": "3.9.12"
  }
 },
 "nbformat": 4,
 "nbformat_minor": 5
}
