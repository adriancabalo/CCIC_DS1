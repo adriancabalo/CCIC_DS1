{
 "cells": [
  {
   "cell_type": "code",
   "execution_count": 57,
   "id": "4f9a4205",
   "metadata": {},
   "outputs": [
    {
     "data": {
      "text/html": [
       "<div>\n",
       "<style scoped>\n",
       "    .dataframe tbody tr th:only-of-type {\n",
       "        vertical-align: middle;\n",
       "    }\n",
       "\n",
       "    .dataframe tbody tr th {\n",
       "        vertical-align: top;\n",
       "    }\n",
       "\n",
       "    .dataframe thead th {\n",
       "        text-align: right;\n",
       "    }\n",
       "</style>\n",
       "<table border=\"1\" class=\"dataframe\">\n",
       "  <thead>\n",
       "    <tr style=\"text-align: right;\">\n",
       "      <th></th>\n",
       "      <th>distance_from_home</th>\n",
       "      <th>distance_from_last_transaction</th>\n",
       "      <th>ratio_to_median_purchase_price</th>\n",
       "      <th>repeat_retailer</th>\n",
       "      <th>used_chip</th>\n",
       "      <th>used_pin_number</th>\n",
       "      <th>online_order</th>\n",
       "      <th>fraud</th>\n",
       "    </tr>\n",
       "  </thead>\n",
       "  <tbody>\n",
       "    <tr>\n",
       "      <th>0</th>\n",
       "      <td>57.877857</td>\n",
       "      <td>0.311140</td>\n",
       "      <td>1.945940</td>\n",
       "      <td>1.0</td>\n",
       "      <td>1.0</td>\n",
       "      <td>0.0</td>\n",
       "      <td>0.0</td>\n",
       "      <td>0.0</td>\n",
       "    </tr>\n",
       "    <tr>\n",
       "      <th>1</th>\n",
       "      <td>10.829943</td>\n",
       "      <td>0.175592</td>\n",
       "      <td>1.294219</td>\n",
       "      <td>1.0</td>\n",
       "      <td>0.0</td>\n",
       "      <td>0.0</td>\n",
       "      <td>0.0</td>\n",
       "      <td>0.0</td>\n",
       "    </tr>\n",
       "    <tr>\n",
       "      <th>2</th>\n",
       "      <td>5.091079</td>\n",
       "      <td>0.805153</td>\n",
       "      <td>0.427715</td>\n",
       "      <td>1.0</td>\n",
       "      <td>0.0</td>\n",
       "      <td>0.0</td>\n",
       "      <td>1.0</td>\n",
       "      <td>0.0</td>\n",
       "    </tr>\n",
       "    <tr>\n",
       "      <th>3</th>\n",
       "      <td>2.247564</td>\n",
       "      <td>5.600044</td>\n",
       "      <td>0.362663</td>\n",
       "      <td>1.0</td>\n",
       "      <td>1.0</td>\n",
       "      <td>0.0</td>\n",
       "      <td>1.0</td>\n",
       "      <td>0.0</td>\n",
       "    </tr>\n",
       "    <tr>\n",
       "      <th>4</th>\n",
       "      <td>44.190936</td>\n",
       "      <td>0.566486</td>\n",
       "      <td>2.222767</td>\n",
       "      <td>1.0</td>\n",
       "      <td>1.0</td>\n",
       "      <td>0.0</td>\n",
       "      <td>1.0</td>\n",
       "      <td>0.0</td>\n",
       "    </tr>\n",
       "  </tbody>\n",
       "</table>\n",
       "</div>"
      ],
      "text/plain": [
       "   distance_from_home  distance_from_last_transaction  \\\n",
       "0           57.877857                        0.311140   \n",
       "1           10.829943                        0.175592   \n",
       "2            5.091079                        0.805153   \n",
       "3            2.247564                        5.600044   \n",
       "4           44.190936                        0.566486   \n",
       "\n",
       "   ratio_to_median_purchase_price  repeat_retailer  used_chip  \\\n",
       "0                        1.945940              1.0        1.0   \n",
       "1                        1.294219              1.0        0.0   \n",
       "2                        0.427715              1.0        0.0   \n",
       "3                        0.362663              1.0        1.0   \n",
       "4                        2.222767              1.0        1.0   \n",
       "\n",
       "   used_pin_number  online_order  fraud  \n",
       "0              0.0           0.0    0.0  \n",
       "1              0.0           0.0    0.0  \n",
       "2              0.0           1.0    0.0  \n",
       "3              0.0           1.0    0.0  \n",
       "4              0.0           1.0    0.0  "
      ]
     },
     "execution_count": 57,
     "metadata": {},
     "output_type": "execute_result"
    }
   ],
   "source": [
    "import pandas as pd\n",
    "import seaborn as sns\n",
    "import matplotlib.pyplot as plt\n",
    "import math\n",
    "import random\n",
    "import time\n",
    "\n",
    "df = pd.read_csv('cardData.csv')\n",
    "\n",
    "df.head()\n",
    "\n",
    "# Yes is 1 and No is 0"
   ]
  },
  {
   "cell_type": "code",
   "execution_count": 58,
   "id": "0e054dc4",
   "metadata": {},
   "outputs": [
    {
     "name": "stdout",
     "output_type": "stream",
     "text": [
      "False\n",
      "0\n",
      "False\n",
      "0\n"
     ]
    }
   ],
   "source": [
    "print(df.isnull().values.any())\n",
    "print(df.isnull().sum().sum())\n",
    "\n",
    "df = df.dropna()\n",
    "\n",
    "print(df.isnull().values.any())\n",
    "print(df.isnull().sum().sum())\n"
   ]
  },
  {
   "cell_type": "code",
   "execution_count": 59,
   "id": "7805fdfe",
   "metadata": {},
   "outputs": [
    {
     "data": {
      "text/plain": [
       "<AxesSubplot:>"
      ]
     },
     "execution_count": 59,
     "metadata": {},
     "output_type": "execute_result"
    },
    {
     "data": {
      "image/png": "[encoded data removed]",
      "text/plain": [
       "<Figure size 720x432 with 2 Axes>"
      ]
     },
     "metadata": {
      "needs_background": "light"
     },
     "output_type": "display_data"
    }
   ],
   "source": [
    "cor = df.corr()\n",
    "\n",
    "plt.figure(figsize = (10,6))\n",
    "sns.heatmap(data = cor, annot = True)"
   ]
  },
  {
   "cell_type": "code",
   "execution_count": 60,
   "id": "8b16f50e",
   "metadata": {},
   "outputs": [
    {
     "data": {
      "text/plain": [
       "<AxesSubplot:xlabel='used_pin_number', ylabel='fraud'>"
      ]
     },
     "execution_count": 60,
     "metadata": {},
     "output_type": "execute_result"
    },
    {
     "data": {
      "image/png": "[encoded data removed]",
      "text/plain": [
       "<Figure size 432x288 with 1 Axes>"
      ]
     },
     "metadata": {
      "needs_background": "light"
     },
     "output_type": "display_data"
    }
   ],
   "source": [
    "sns.barplot(data = df, x = \"used_pin_number\", y = \"fraud\")"
   ]
  },
  {
   "cell_type": "code",
   "execution_count": 61,
   "id": "2b387c06",
   "metadata": {},
   "outputs": [
    {
     "data": {
      "text/plain": [
       "<AxesSubplot:xlabel='repeat_retailer', ylabel='fraud'>"
      ]
     },
     "execution_count": 61,
     "metadata": {},
     "output_type": "execute_result"
    },
    {
     "data": {
      "image/png": "[encoded data removed]",
      "text/plain": [
       "<Figure size 432x288 with 1 Axes>"
      ]
     },
     "metadata": {
      "needs_background": "light"
     },
     "output_type": "display_data"
    }
   ],
   "source": [
    "sns.barplot(data = df, x = \"repeat_retailer\", y = \"fraud\")"
   ]
  },
  {
   "cell_type": "code",
   "execution_count": 62,
   "id": "02ee8309",
   "metadata": {},
   "outputs": [
    {
     "data": {
      "text/plain": [
       "<AxesSubplot:xlabel='online_order', ylabel='fraud'>"
      ]
     },
     "execution_count": 62,
     "metadata": {},
     "output_type": "execute_result"
    },
    {
     "data": {
      "image/png": "[encoded data removed]",
      "text/plain": [
       "<Figure size 432x288 with 1 Axes>"
      ]
     },
     "metadata": {
      "needs_background": "light"
     },
     "output_type": "display_data"
    }
   ],
   "source": [
    "sns.barplot(data = df, x = \"online_order\", y = \"fraud\")"
   ]
  },
  {
   "cell_type": "code",
   "execution_count": 63,
   "id": "b4f23da5",
   "metadata": {},
   "outputs": [
    {
     "data": {
      "text/plain": [
       "<AxesSubplot:xlabel='used_chip', ylabel='fraud'>"
      ]
     },
     "execution_count": 63,
     "metadata": {},
     "output_type": "execute_result"
    },
    {
     "data": {
      "image/png": "[encoded data removed]",
      "text/plain": [
       "<Figure size 432x288 with 1 Axes>"
      ]
     },
     "metadata": {
      "needs_background": "light"
     },
     "output_type": "display_data"
    }
   ],
   "source": [
    "sns.barplot(data = df, x = \"used_chip\", y = \"fraud\")"
   ]
  },
  {
   "cell_type": "code",
   "execution_count": 64,
   "id": "f6753d32",
   "metadata": {},
   "outputs": [],
   "source": [
    "length = len(df.index)\n",
    "splitPoint = int(length * 0.7)\n",
    "train = df[0:splitPoint]\n",
    "test = df[splitPoint:length]"
   ]
  },
  {
   "cell_type": "code",
   "execution_count": 65,
   "id": "027255a6",
   "metadata": {},
   "outputs": [],
   "source": [
    "df.drop(columns = ['distance_from_home','distance_from_last_transaction','repeat_retailer'], axis =1 , inplace =True)\n"
   ]
  },
  {
   "cell_type": "code",
   "execution_count": 66,
   "id": "c14f441d",
   "metadata": {},
   "outputs": [],
   "source": [
    "# K-NN Training Algorithm\n",
    "def trainKNN(df, iterations):\n",
    "  '''\n",
    "  Pseudocode Algorithm\n",
    "  1. Set K to 3 because this is the first odd value greater than the number of categories in the Titanic dataset.\n",
    "  2. Create an empty list to collect accuracy values during training.\n",
    "  2. Segment the training dataset into three equal parts: \n",
    "    - Segment 1: Class 1 labels\n",
    "    - Segment 2: Class 2 labels\n",
    "    - Segment 3: Remaining data of \"unknown\" labels \n",
    "  3. Calculate the euclidean distance between each data point in segment 3 with all data in segment 1 and segment 2. \n",
    "  4. Take the top K smallest distances to determine the label of the \"unknown\" data point.\n",
    "  5. Append 0 to accuracy list if the label does not match the actual label. Append 1 to accuracy list if the label does match the actual label.\n",
    "  6. Calculate the overall accuracy percent of the K value and append it to a dictionary of k, accuracy values.\n",
    "  7. Add 2 to K and repeat steps 3 - 6 for a desired number of iterations.\n",
    "  '''\n",
    "  # Set initial value of k\n",
    "  k = 3\n",
    "\n",
    "  # Segment training data into 3 segments.\n",
    "  class1, class2, unknowns = getSegments(df)\n",
    "  \n",
    "  # Calculate accuracy of K values for desired iterations\n",
    "  count = 0\n",
    "  accuracies = {}\n",
    "  t0 = time.time() # for measuring how long it takes to compute\n",
    "  t0_k = k\n",
    "  while count < iterations:\n",
    "    if count % 10 == 0:\n",
    "      elapsed = time.time() - t0\n",
    "      t0 = time.time()\n",
    "      print(f\"Took {elapsed:.2f} seconds to compute {t0_k}<=k<{k}\")\n",
    "      t0_k = k\n",
    "    # Calculate percent accuracy for current k\n",
    "    accuracy_at_k = calculateAccuracy(class1, class2, unknowns, k)\n",
    "    accuracies[k] = accuracy_at_k\n",
    "    k = k + 2\n",
    "    count = count + 1\n",
    "  \n",
    "  return accuracies"
   ]
  },
  {
   "cell_type": "code",
   "execution_count": 67,
   "id": "84cba677",
   "metadata": {},
   "outputs": [],
   "source": [
    "def getSegments(df):\n",
    "  # Segment training data into 3 segments. If not divisible by 3, add extra data to unknown segment.\n",
    "  length = len(df.index)\n",
    "  splitPoint = int(length/3)\n",
    "  fraud = df[df.fraud == 1]\n",
    "  notFraud = df[df.fraud == 0]\n",
    "  fraud_df = fraud.iloc[:splitPoint]\n",
    "  notfraud_df = notFraud.iloc[:splitPoint]\n",
    "  leftover = pd.concat([fraud.iloc[splitPoint:], notFraud.iloc[splitPoint:]])\n",
    "  fraud.reset_index(inplace=True, drop=True)\n",
    "  notFraud.reset_index(inplace=True, drop=True)\n",
    "  leftover.reset_index(inplace=True, drop=True)\n",
    "  return fraud_df, notfraud_df, leftover"
   ]
  },
  {
   "cell_type": "code",
   "execution_count": 74,
   "id": "96a57149",
   "metadata": {},
   "outputs": [],
   "source": [
    "cache = {}\n",
    "def calculateAccuracy(class1, class2, unknowns, k):\n",
    "  known = pd.concat([class1, class2], axis=0)\n",
    "  unknown_prediction_correct = []\n",
    "  for idx in unknowns.index:\n",
    "    if not idx in cache:\n",
    "      cache[idx] = known.apply(lambda x: euclidianDistance(x, unknowns.iloc[idx]), axis=1)\n",
    "    known['distance_to_unknown'] = cache[idx]\n",
    "    top_k = known.sort_values('distance_to_unknown',ascending=True).head(k)\n",
    "    predicted_class = top_k.value_counts(ascending=False, subset='fraud').index[0] # TODO: double check this line\n",
    "    unknown_prediction_correct.append(1 if predicted_class == unknowns.iloc[idx].fraud else 0)\n",
    "    known.pop('distance_to_unknown') # remove this so we don't use it in future distance calculations\n",
    "  return sum(unknown_prediction_correct) / len(unknown_prediction_correct)"
   ]
  },
  {
   "cell_type": "code",
   "execution_count": 75,
   "id": "74b51c41",
   "metadata": {},
   "outputs": [],
   "source": [
    "def euclidianDistance(row1, row2):\n",
    "  sum = 0\n",
    "  for (i, j) in zip(row1[1:10], row2[1:10]):\n",
    "    diffSQ = (i - j) **2\n",
    "    sum = sum + diffSQ\n",
    "  return math.sqrt(sum)"
   ]
  },
  {
   "cell_type": "code",
   "execution_count": null,
   "id": "2ffe5eaa",
   "metadata": {},
   "outputs": [],
   "source": [
    " "
   ]
  },
  {
   "cell_type": "code",
   "execution_count": null,
   "id": "e844051c",
   "metadata": {},
   "outputs": [],
   "source": [
    "performance = trainKNN(train, 10)"
   ]
  },
  {
   "cell_type": "code",
   "execution_count": null,
   "id": "95d38663",
   "metadata": {},
   "outputs": [],
   "source": []
  },
  {
   "cell_type": "code",
   "execution_count": null,
   "id": "08d6389b",
   "metadata": {},
   "outputs": [],
   "source": []
  }
 ],
 "metadata": {
  "kernelspec": {
   "display_name": "Python 3 (ipykernel)",
   "language": "python",
   "name": "python3"
  },
  "language_info": {
   "codemirror_mode": {
    "name": "ipython",
    "version": 3
   },
   "file_extension": ".py",
   "mimetype": "text/x-python",
   "name": "python",
   "nbconvert_exporter": "python",
   "pygments_lexer": "ipython3",
   "version": "3.9.12"
  }
 },
 "nbformat": 4,
 "nbformat_minor": 5
}
