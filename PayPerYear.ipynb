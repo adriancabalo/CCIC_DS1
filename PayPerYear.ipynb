{
 "cells": [
  {
   "cell_type": "code",
   "execution_count": 45,
   "id": "d0837292",
   "metadata": {},
   "outputs": [],
   "source": [
    "import pandas as pd\n",
    "import seaborn as sns\n",
    "from sklearn import linear_model\n",
    "from sklearn.metrics import mean_squared_error\n",
    "import random\n",
    "import math\n",
    "\n",
    "df = pd.read_csv('Salaries.csv')\n",
    "\n",
    "df = df.dropna()\n",
    "df = df.dropna(axis=0)\n",
    "\n",
    "df = df[(df != 0).all(1)]"
   ]
  },
  {
   "cell_type": "code",
   "execution_count": 46,
   "id": "4a463046",
   "metadata": {},
   "outputs": [
    {
     "data": {
      "text/html": [
       "<div>\n",
       "<style scoped>\n",
       "    .dataframe tbody tr th:only-of-type {\n",
       "        vertical-align: middle;\n",
       "    }\n",
       "\n",
       "    .dataframe tbody tr th {\n",
       "        vertical-align: top;\n",
       "    }\n",
       "\n",
       "    .dataframe thead th {\n",
       "        text-align: right;\n",
       "    }\n",
       "</style>\n",
       "<table border=\"1\" class=\"dataframe\">\n",
       "  <thead>\n",
       "    <tr style=\"text-align: right;\">\n",
       "      <th></th>\n",
       "      <th>total_experience_years</th>\n",
       "      <th>annual_base_pay</th>\n",
       "    </tr>\n",
       "  </thead>\n",
       "  <tbody>\n",
       "    <tr>\n",
       "      <th>0</th>\n",
       "      <td>13.0</td>\n",
       "      <td>125000.0</td>\n",
       "    </tr>\n",
       "    <tr>\n",
       "      <th>1</th>\n",
       "      <td>15.0</td>\n",
       "      <td>65000.0</td>\n",
       "    </tr>\n",
       "    <tr>\n",
       "      <th>2</th>\n",
       "      <td>4.0</td>\n",
       "      <td>86000.0</td>\n",
       "    </tr>\n",
       "    <tr>\n",
       "      <th>3</th>\n",
       "      <td>4.0</td>\n",
       "      <td>105000.0</td>\n",
       "    </tr>\n",
       "    <tr>\n",
       "      <th>4</th>\n",
       "      <td>4.0</td>\n",
       "      <td>110000.0</td>\n",
       "    </tr>\n",
       "    <tr>\n",
       "      <th>...</th>\n",
       "      <td>...</td>\n",
       "      <td>...</td>\n",
       "    </tr>\n",
       "    <tr>\n",
       "      <th>1648</th>\n",
       "      <td>4.0</td>\n",
       "      <td>130000.0</td>\n",
       "    </tr>\n",
       "    <tr>\n",
       "      <th>1650</th>\n",
       "      <td>1.0</td>\n",
       "      <td>60500.0</td>\n",
       "    </tr>\n",
       "    <tr>\n",
       "      <th>1651</th>\n",
       "      <td>6.0</td>\n",
       "      <td>164000.0</td>\n",
       "    </tr>\n",
       "    <tr>\n",
       "      <th>1652</th>\n",
       "      <td>7.0</td>\n",
       "      <td>150000.0</td>\n",
       "    </tr>\n",
       "    <tr>\n",
       "      <th>1653</th>\n",
       "      <td>5.0</td>\n",
       "      <td>75000.0</td>\n",
       "    </tr>\n",
       "  </tbody>\n",
       "</table>\n",
       "<p>1454 rows × 2 columns</p>\n",
       "</div>"
      ],
      "text/plain": [
       "      total_experience_years  annual_base_pay\n",
       "0                       13.0         125000.0\n",
       "1                       15.0          65000.0\n",
       "2                        4.0          86000.0\n",
       "3                        4.0         105000.0\n",
       "4                        4.0         110000.0\n",
       "...                      ...              ...\n",
       "1648                     4.0         130000.0\n",
       "1650                     1.0          60500.0\n",
       "1651                     6.0         164000.0\n",
       "1652                     7.0         150000.0\n",
       "1653                     5.0          75000.0\n",
       "\n",
       "[1454 rows x 2 columns]"
      ]
     },
     "execution_count": 46,
     "metadata": {},
     "output_type": "execute_result"
    }
   ],
   "source": [
    "df = df.drop(df[df['annual_base_pay'] >= 1000000].index, inplace = False)\n",
    "df = df.drop(df[df['annual_base_pay'] <= 15000].index, inplace = False)\n",
    "df"
   ]
  },
  {
   "cell_type": "code",
   "execution_count": 47,
   "id": "bbae5d97",
   "metadata": {},
   "outputs": [
    {
     "data": {
      "text/html": [
       "<div>\n",
       "<style scoped>\n",
       "    .dataframe tbody tr th:only-of-type {\n",
       "        vertical-align: middle;\n",
       "    }\n",
       "\n",
       "    .dataframe tbody tr th {\n",
       "        vertical-align: top;\n",
       "    }\n",
       "\n",
       "    .dataframe thead th {\n",
       "        text-align: right;\n",
       "    }\n",
       "</style>\n",
       "<table border=\"1\" class=\"dataframe\">\n",
       "  <thead>\n",
       "    <tr style=\"text-align: right;\">\n",
       "      <th></th>\n",
       "      <th>total_experience_years</th>\n",
       "      <th>annual_base_pay</th>\n",
       "    </tr>\n",
       "  </thead>\n",
       "  <tbody>\n",
       "    <tr>\n",
       "      <th>0</th>\n",
       "      <td>13.0</td>\n",
       "      <td>125000.0</td>\n",
       "    </tr>\n",
       "    <tr>\n",
       "      <th>1</th>\n",
       "      <td>15.0</td>\n",
       "      <td>65000.0</td>\n",
       "    </tr>\n",
       "    <tr>\n",
       "      <th>2</th>\n",
       "      <td>4.0</td>\n",
       "      <td>86000.0</td>\n",
       "    </tr>\n",
       "    <tr>\n",
       "      <th>3</th>\n",
       "      <td>4.0</td>\n",
       "      <td>105000.0</td>\n",
       "    </tr>\n",
       "    <tr>\n",
       "      <th>4</th>\n",
       "      <td>4.0</td>\n",
       "      <td>110000.0</td>\n",
       "    </tr>\n",
       "    <tr>\n",
       "      <th>...</th>\n",
       "      <td>...</td>\n",
       "      <td>...</td>\n",
       "    </tr>\n",
       "    <tr>\n",
       "      <th>1648</th>\n",
       "      <td>4.0</td>\n",
       "      <td>130000.0</td>\n",
       "    </tr>\n",
       "    <tr>\n",
       "      <th>1650</th>\n",
       "      <td>1.0</td>\n",
       "      <td>60500.0</td>\n",
       "    </tr>\n",
       "    <tr>\n",
       "      <th>1651</th>\n",
       "      <td>6.0</td>\n",
       "      <td>164000.0</td>\n",
       "    </tr>\n",
       "    <tr>\n",
       "      <th>1652</th>\n",
       "      <td>7.0</td>\n",
       "      <td>150000.0</td>\n",
       "    </tr>\n",
       "    <tr>\n",
       "      <th>1653</th>\n",
       "      <td>5.0</td>\n",
       "      <td>75000.0</td>\n",
       "    </tr>\n",
       "  </tbody>\n",
       "</table>\n",
       "<p>1454 rows × 2 columns</p>\n",
       "</div>"
      ],
      "text/plain": [
       "      total_experience_years  annual_base_pay\n",
       "0                       13.0         125000.0\n",
       "1                       15.0          65000.0\n",
       "2                        4.0          86000.0\n",
       "3                        4.0         105000.0\n",
       "4                        4.0         110000.0\n",
       "...                      ...              ...\n",
       "1648                     4.0         130000.0\n",
       "1650                     1.0          60500.0\n",
       "1651                     6.0         164000.0\n",
       "1652                     7.0         150000.0\n",
       "1653                     5.0          75000.0\n",
       "\n",
       "[1454 rows x 2 columns]"
      ]
     },
     "execution_count": 47,
     "metadata": {},
     "output_type": "execute_result"
    }
   ],
   "source": [
    "df.dropna()"
   ]
  },
  {
   "cell_type": "code",
   "execution_count": 48,
   "id": "62a85664",
   "metadata": {},
   "outputs": [
    {
     "name": "stdout",
     "output_type": "stream",
     "text": [
      "<class 'pandas.core.frame.DataFrame'>\n",
      "Int64Index: 1454 entries, 0 to 1653\n",
      "Data columns (total 2 columns):\n",
      " #   Column                  Non-Null Count  Dtype  \n",
      "---  ------                  --------------  -----  \n",
      " 0   total_experience_years  1454 non-null   float64\n",
      " 1   annual_base_pay         1454 non-null   float64\n",
      "dtypes: float64(2)\n",
      "memory usage: 34.1 KB\n"
     ]
    }
   ],
   "source": [
    "df.info()"
   ]
  },
  {
   "cell_type": "code",
   "execution_count": 59,
   "id": "73a00ce7",
   "metadata": {},
   "outputs": [
    {
     "data": {
      "text/html": [
       "<div>\n",
       "<style scoped>\n",
       "    .dataframe tbody tr th:only-of-type {\n",
       "        vertical-align: middle;\n",
       "    }\n",
       "\n",
       "    .dataframe tbody tr th {\n",
       "        vertical-align: top;\n",
       "    }\n",
       "\n",
       "    .dataframe thead th {\n",
       "        text-align: right;\n",
       "    }\n",
       "</style>\n",
       "<table border=\"1\" class=\"dataframe\">\n",
       "  <thead>\n",
       "    <tr style=\"text-align: right;\">\n",
       "      <th></th>\n",
       "      <th>total_experience_years</th>\n",
       "      <th>annual_base_pay</th>\n",
       "    </tr>\n",
       "  </thead>\n",
       "  <tbody>\n",
       "    <tr>\n",
       "      <th>0</th>\n",
       "      <td>13.0</td>\n",
       "      <td>125000.0</td>\n",
       "    </tr>\n",
       "    <tr>\n",
       "      <th>1</th>\n",
       "      <td>15.0</td>\n",
       "      <td>65000.0</td>\n",
       "    </tr>\n",
       "    <tr>\n",
       "      <th>2</th>\n",
       "      <td>4.0</td>\n",
       "      <td>86000.0</td>\n",
       "    </tr>\n",
       "    <tr>\n",
       "      <th>3</th>\n",
       "      <td>4.0</td>\n",
       "      <td>105000.0</td>\n",
       "    </tr>\n",
       "    <tr>\n",
       "      <th>4</th>\n",
       "      <td>4.0</td>\n",
       "      <td>110000.0</td>\n",
       "    </tr>\n",
       "    <tr>\n",
       "      <th>...</th>\n",
       "      <td>...</td>\n",
       "      <td>...</td>\n",
       "    </tr>\n",
       "    <tr>\n",
       "      <th>1648</th>\n",
       "      <td>4.0</td>\n",
       "      <td>130000.0</td>\n",
       "    </tr>\n",
       "    <tr>\n",
       "      <th>1650</th>\n",
       "      <td>1.0</td>\n",
       "      <td>60500.0</td>\n",
       "    </tr>\n",
       "    <tr>\n",
       "      <th>1651</th>\n",
       "      <td>6.0</td>\n",
       "      <td>164000.0</td>\n",
       "    </tr>\n",
       "    <tr>\n",
       "      <th>1652</th>\n",
       "      <td>7.0</td>\n",
       "      <td>150000.0</td>\n",
       "    </tr>\n",
       "    <tr>\n",
       "      <th>1653</th>\n",
       "      <td>5.0</td>\n",
       "      <td>75000.0</td>\n",
       "    </tr>\n",
       "  </tbody>\n",
       "</table>\n",
       "<p>1454 rows × 2 columns</p>\n",
       "</div>"
      ],
      "text/plain": [
       "      total_experience_years  annual_base_pay\n",
       "0                       13.0         125000.0\n",
       "1                       15.0          65000.0\n",
       "2                        4.0          86000.0\n",
       "3                        4.0         105000.0\n",
       "4                        4.0         110000.0\n",
       "...                      ...              ...\n",
       "1648                     4.0         130000.0\n",
       "1650                     1.0          60500.0\n",
       "1651                     6.0         164000.0\n",
       "1652                     7.0         150000.0\n",
       "1653                     5.0          75000.0\n",
       "\n",
       "[1454 rows x 2 columns]"
      ]
     },
     "execution_count": 59,
     "metadata": {},
     "output_type": "execute_result"
    }
   ],
   "source": []
  },
  {
   "cell_type": "code",
   "execution_count": 51,
   "id": "70506cae",
   "metadata": {},
   "outputs": [
    {
     "data": {
      "text/plain": [
       "<AxesSubplot:xlabel='total_experience_years', ylabel='annual_base_pay'>"
      ]
     },
     "execution_count": 51,
     "metadata": {},
     "output_type": "execute_result"
    },
    {
     "data": {
      "image/png": "[encoded data removed]",
      "text/plain": [
       "<Figure size 432x288 with 1 Axes>"
      ]
     },
     "metadata": {
      "needs_background": "light"
     },
     "output_type": "display_data"
    }
   ],
   "source": [
    "sns.regplot(data=df, x=\"total_experience_years\", y=\"annual_base_pay\")"
   ]
  },
  {
   "cell_type": "code",
   "execution_count": 49,
   "id": "db90dccf",
   "metadata": {},
   "outputs": [],
   "source": [
    "def testTrainSplit(data):\n",
    "  length = len(df.index)\n",
    "  splitLimit = int(length * 0.7)\n",
    "  train = data[0: splitLimit]\n",
    "  test = data[splitLimit + 1: length]\n",
    "  return train, test"
   ]
  },
  {
   "cell_type": "code",
   "execution_count": 50,
   "id": "b1c88dc2",
   "metadata": {},
   "outputs": [],
   "source": [
    "train, test = testTrainSplit(df)"
   ]
  },
  {
   "cell_type": "code",
   "execution_count": 188,
   "id": "78d3c008",
   "metadata": {},
   "outputs": [],
   "source": [
    "def sumOfDistances(a, b, c, trainDF):\n",
    "  sum = 0\n",
    "  for row in range(0, len(trainDF.index)):\n",
    "    gpa = trainDF.iat[row, 0]\n",
    "    sat = trainDF.iat[row, 1]\n",
    "    distance = abs((a*gpa) + (b*sat) + c) / math.sqrt((a*a) + (b*b))\n",
    "    sum = sum + distance\n",
    "  return sum"
   ]
  },
  {
   "cell_type": "code",
   "execution_count": 189,
   "id": "0942be9a",
   "metadata": {},
   "outputs": [],
   "source": [
    "def trainLinearRegression(trainDF):\n",
    "  count = 0\n",
    "  slopes = {}\n",
    "  while count < 100:\n",
    "    a = random.randint(25000,50000)#Slope\n",
    "    b = 1 # Coefficient to y --> by = ax + c --> negative because we move to other side\n",
    "    c = 50000 # Y-intercept\n",
    "    sum = sumOfDistances(a, b, c, trainDF)\n",
    "    slopes[a] = sum\n",
    "    count = count + 1\n",
    "  print(slopes)"
   ]
  },
  {
   "cell_type": "code",
   "execution_count": null,
   "id": "e9b6bd6e",
   "metadata": {},
   "outputs": [],
   "source": []
  },
  {
   "cell_type": "code",
   "execution_count": 190,
   "id": "25a6a9f7",
   "metadata": {},
   "outputs": [
    {
     "name": "stdout",
     "output_type": "stream",
     "text": [
      "{29161: 13031.020135680117, 47849: 10805.03553526914, 39424: 11547.321017490625, 47348: 10841.788961424118, 41406: 11345.524208158167, 35388: 12028.126113090679, 25310: 13898.208753276984, 35044: 12074.22849468462, 39727: 11515.1673304068, 32830: 12394.064734426993, 25184: 13931.062756647652, 45671: 10970.680827656373, 26957: 13497.005446809995, 34012: 12218.131036116221, 33079: 12355.957213133273, 28028: 13261.413515892169, 34763: 12112.564778235022, 41181: 11367.455133726295, 38619: 11635.196713777132, 27115: 13461.079309303988, 40211: 11464.811550507126, 46633: 10895.609204708628, 47374: 10839.86247362672, 25055: 13965.0413347161, 40038: 11482.670810644971, 40222: 11463.681185358624, 34476: 12152.364715273116, 37633: 11747.953232639298, 47119: 10858.848700625475, 29024: 13057.922812674004, 45316: 10999.18909830169, 31859: 12548.359366052415, 36116: 11933.456560382934, 25389: 13877.776137961202, 39309: 11559.65433089024, 37974: 11708.294959336361, 48357: 10768.546187080563, 34268: 12181.62592746175, 39472: 11542.19445768627, 34777: 12110.640121513705, 43087: 11188.923836659773, 28012: 13264.80054059796, 28388: 13186.214838232709, 31989: 12527.158912257208, 39139: 11578.018945095435, 43478: 11154.234535436892, 25968: 13731.817744747428, 30341: 12809.361675254946, 30234: 12828.74788409878, 47658: 10818.956178322502, 44632: 11055.39640742403, 34439: 12157.543989764268, 49058: 10719.434660009529, 44261: 11086.609798123816, 33066: 12357.932562545573, 26412: 13624.226288129747, 39213: 11570.00536588559, 43906: 11116.970923641431, 26699: 13556.58369924422, 42270: 11263.47907468103, 39954: 11491.398137763235, 49100: 10716.536698795726, 37290: 11788.575812870302, 45104: 11016.42777176919, 47091: 10860.945991477809, 30304: 12816.049832647259, 30542: 12773.311838481084, 46765: 10885.549291213823, 35962: 11953.163167059916, 32171: 12497.766124949794, 28258: 13213.148893276424, 25818: 13769.002486379477, 49769: 10671.035763885042, 38972: 11596.215478580114, 27252: 13430.265372581523, 45634: 10973.631406840606, 40059: 11480.494697738464, 45229: 11006.243908075063, 43377: 11163.135291774995, 30956: 12700.535091577141, 34689: 12122.763771376107, 46759: 10886.005327821269, 45258: 11003.889291140391, 28745: 13113.502901092352, 30947: 12702.096489959493, 35292: 12040.901485022392, 25652: 13810.660529814744, 45938: 10949.529712674112, 48738: 10741.678360823216, 27922: 13283.92488153156, 49187: 10710.549522660938, 40848: 11400.356289670315, 35836: 11969.412733926716, 35173: 12056.834423808214, 47037: 10864.997817983836, 27877: 13293.533358739043, 33247: 12330.568595499186, 27886: 13291.609182445656, 34760: 12112.977406379789, 48650: 10747.846678510588}\n"
     ]
    }
   ],
   "source": [
    "trainData = trainLinearRegression(train)\n",
    "\n"
   ]
  },
  {
   "cell_type": "code",
   "execution_count": 130,
   "id": "98b2f1d6",
   "metadata": {},
   "outputs": [],
   "source": [
    "def MSE(testDF, m, b):\n",
    "  sum = 0\n",
    "  for row in range(0, len(testDF.index)):\n",
    "    pay = testDF.iat[row, 0]\n",
    "    actual = testDF.iat[row, 1]\n",
    "    predicted = m * pay + b\n",
    "    sum = sum + (predicted - actual) * (predicted - actual)\n",
    "  return sum/len(testDF.index)"
   ]
  },
  {
   "cell_type": "code",
   "execution_count": 131,
   "id": "82123baf",
   "metadata": {},
   "outputs": [
    {
     "name": "stdout",
     "output_type": "stream",
     "text": [
      "13174762945.10889\n"
     ]
    }
   ],
   "source": [
    "print(MSE(test, 861, 50000))"
   ]
  },
  {
   "cell_type": "code",
   "execution_count": 153,
   "id": "11d4ee05",
   "metadata": {},
   "outputs": [],
   "source": [
    "x = df['annual_base_pay']\n",
    "\n",
    "y = df['total_experience_years']\n",
    "\n",
    "from sklearn.model_selection import train_test_split\n",
    "\n",
    "x_train, x_test, y_train, y_test = train_test_split(x, y, test_size = 0.3)\n"
   ]
  },
  {
   "cell_type": "code",
   "execution_count": 52,
   "id": "ce4c5a42",
   "metadata": {},
   "outputs": [
    {
     "data": {
      "text/plain": [
       "LinearRegression()"
      ]
     },
     "execution_count": 52,
     "metadata": {},
     "output_type": "execute_result"
    }
   ],
   "source": [
    "regr = linear_model.LinearRegression()\n",
    "\n",
    "regr.fit(train, train['annual_base_pay'])"
   ]
  },
  {
   "cell_type": "code",
   "execution_count": 53,
   "id": "5f3b2608",
   "metadata": {},
   "outputs": [],
   "source": [
    "predictions = regr.predict(test)"
   ]
  },
  {
   "cell_type": "code",
   "execution_count": 54,
   "id": "34127f7a",
   "metadata": {},
   "outputs": [
    {
     "data": {
      "text/plain": [
       "array([1.84399064e-13, 1.00000000e+00])"
      ]
     },
     "execution_count": 54,
     "metadata": {},
     "output_type": "execute_result"
    }
   ],
   "source": [
    "regr.coef_"
   ]
  },
  {
   "cell_type": "code",
   "execution_count": 55,
   "id": "3f650bd0",
   "metadata": {},
   "outputs": [
    {
     "data": {
      "text/plain": [
       "2.610794499980213e-21"
      ]
     },
     "execution_count": 55,
     "metadata": {},
     "output_type": "execute_result"
    }
   ],
   "source": [
    "mean_squared_error(test['annual_base_pay'],predictions)"
   ]
  },
  {
   "cell_type": "code",
   "execution_count": 56,
   "id": "298f6fee",
   "metadata": {},
   "outputs": [
    {
     "data": {
      "text/plain": [
       "-4.3655745685100555e-11"
      ]
     },
     "execution_count": 56,
     "metadata": {},
     "output_type": "execute_result"
    }
   ],
   "source": [
    "regr.intercept_"
   ]
  },
  {
   "cell_type": "code",
   "execution_count": 154,
   "id": "59b60002",
   "metadata": {},
   "outputs": [
    {
     "data": {
      "text/plain": [
       "LinearRegression()"
      ]
     },
     "execution_count": 154,
     "metadata": {},
     "output_type": "execute_result"
    }
   ],
   "source": [
    "from sklearn.linear_model import LinearRegression\n",
    "\n",
    "model = LinearRegression()\n",
    "\n",
    "model.fit(train, train['annual_base_pay'])\n"
   ]
  },
  {
   "cell_type": "code",
   "execution_count": 155,
   "id": "aa0aa9a1",
   "metadata": {},
   "outputs": [
    {
     "data": {
      "text/plain": [
       "array([-1.45500739e-12,  1.00000000e+00])"
      ]
     },
     "execution_count": 155,
     "metadata": {},
     "output_type": "execute_result"
    }
   ],
   "source": [
    "model.coef_"
   ]
  },
  {
   "cell_type": "code",
   "execution_count": 156,
   "id": "24fd6af6",
   "metadata": {},
   "outputs": [
    {
     "data": {
      "text/plain": [
       "5.820766091346741e-11"
      ]
     },
     "execution_count": 156,
     "metadata": {},
     "output_type": "execute_result"
    }
   ],
   "source": [
    "model.intercept_"
   ]
  },
  {
   "cell_type": "code",
   "execution_count": 160,
   "id": "a2ead85c",
   "metadata": {},
   "outputs": [
    {
     "ename": "AttributeError",
     "evalue": "'Series' object has no attribute 'columns'",
     "output_type": "error",
     "traceback": [
      "\u001b[1;31m---------------------------------------------------------------------------\u001b[0m",
      "\u001b[1;31mAttributeError\u001b[0m                            Traceback (most recent call last)",
      "Input \u001b[1;32mIn [160]\u001b[0m, in \u001b[0;36m<cell line: 1>\u001b[1;34m()\u001b[0m\n\u001b[1;32m----> 1\u001b[0m pd\u001b[38;5;241m.\u001b[39mDataFrame(model\u001b[38;5;241m.\u001b[39mcoef_,\u001b[43mx\u001b[49m\u001b[38;5;241;43m.\u001b[39;49m\u001b[43mcolumns\u001b[49m,columns \u001b[38;5;241m=\u001b[39m [\u001b[38;5;124m'\u001b[39m\u001b[38;5;124mCoef\u001b[39m\u001b[38;5;124m'\u001b[39m])\n",
      "File \u001b[1;32m~\\Anaconda3\\lib\\site-packages\\pandas\\core\\generic.py:5575\u001b[0m, in \u001b[0;36mNDFrame.__getattr__\u001b[1;34m(self, name)\u001b[0m\n\u001b[0;32m   5568\u001b[0m \u001b[38;5;28;01mif\u001b[39;00m (\n\u001b[0;32m   5569\u001b[0m     name \u001b[38;5;129;01mnot\u001b[39;00m \u001b[38;5;129;01min\u001b[39;00m \u001b[38;5;28mself\u001b[39m\u001b[38;5;241m.\u001b[39m_internal_names_set\n\u001b[0;32m   5570\u001b[0m     \u001b[38;5;129;01mand\u001b[39;00m name \u001b[38;5;129;01mnot\u001b[39;00m \u001b[38;5;129;01min\u001b[39;00m \u001b[38;5;28mself\u001b[39m\u001b[38;5;241m.\u001b[39m_metadata\n\u001b[0;32m   5571\u001b[0m     \u001b[38;5;129;01mand\u001b[39;00m name \u001b[38;5;129;01mnot\u001b[39;00m \u001b[38;5;129;01min\u001b[39;00m \u001b[38;5;28mself\u001b[39m\u001b[38;5;241m.\u001b[39m_accessors\n\u001b[0;32m   5572\u001b[0m     \u001b[38;5;129;01mand\u001b[39;00m \u001b[38;5;28mself\u001b[39m\u001b[38;5;241m.\u001b[39m_info_axis\u001b[38;5;241m.\u001b[39m_can_hold_identifiers_and_holds_name(name)\n\u001b[0;32m   5573\u001b[0m ):\n\u001b[0;32m   5574\u001b[0m     \u001b[38;5;28;01mreturn\u001b[39;00m \u001b[38;5;28mself\u001b[39m[name]\n\u001b[1;32m-> 5575\u001b[0m \u001b[38;5;28;01mreturn\u001b[39;00m \u001b[38;5;28;43mobject\u001b[39;49m\u001b[38;5;241;43m.\u001b[39;49m\u001b[38;5;21;43m__getattribute__\u001b[39;49m\u001b[43m(\u001b[49m\u001b[38;5;28;43mself\u001b[39;49m\u001b[43m,\u001b[49m\u001b[43m \u001b[49m\u001b[43mname\u001b[49m\u001b[43m)\u001b[49m\n",
      "\u001b[1;31mAttributeError\u001b[0m: 'Series' object has no attribute 'columns'"
     ]
    }
   ],
   "source": [
    "pd.DataFrame(model.coef_, x.columns, columns = ['Coef'])"
   ]
  },
  {
   "cell_type": "code",
   "execution_count": 159,
   "id": "998a7d49",
   "metadata": {},
   "outputs": [
    {
     "name": "stderr",
     "output_type": "stream",
     "text": [
      "C:\\Users\\acabalo\\Anaconda3\\lib\\site-packages\\sklearn\\base.py:450: UserWarning: X does not have valid feature names, but LinearRegression was fitted with feature names\n",
      "  warnings.warn(\n"
     ]
    },
    {
     "ename": "ValueError",
     "evalue": "Expected 2D array, got 1D array instead:\narray=[2.5000000e+04 8.3500000e+04 6.7200000e+04 9.8000000e+04 1.2000000e+05\n 7.0000000e+04 9.2000000e+04 6.0000000e+04 7.5000000e+04 7.5000000e+04\n 1.7500000e+05 1.1250000e+05 1.1500000e+05 9.5000000e+04 1.1800000e+05\n 1.3000000e+05 7.5000000e+04 1.1800000e+05 3.2524000e+04 7.3000000e+04\n 1.4500000e+05 1.6000000e+05 1.9000000e+04 1.0000000e+05 1.2800000e+05\n 2.1600000e+05 1.5500000e+05 6.5198700e+04 8.5000000e+04 6.5000000e+04\n 1.2000000e+05 1.0500000e+05 1.1950000e+05 8.0000000e+04 1.2000000e+05\n 4.0000000e+04 5.0000000e+05 1.1040648e+05 1.0300000e+05 1.2400000e+05\n 2.6700000e+05 1.2000000e+05 1.5200000e+03 3.0000000e+04 6.0000000e+04\n 6.0000000e+01 1.8500000e+05 1.6000000e+05 1.2500000e+05 6.3000000e+04\n 1.0000000e+05 6.5000000e+04 8.5000000e+04 2.3000000e+04 8.1500000e+04\n 6.5000000e+04 1.0200000e+05 1.2500000e+05 1.3000000e+05 4.5000000e+04\n 2.1600000e+05 7.5000000e+04 3.2000000e+04 1.1802600e+05 8.5000000e+04\n 1.1000000e+05 6.8256000e+04 6.5000000e+04 7.2000000e+04 1.4000000e+05\n 2.8500000e+04 7.4000000e+04 1.4500000e+05 1.4500000e+05 9.0000000e+04\n 1.2000000e+05 4.2000000e+04 1.2000000e+05 6.6500000e+04 1.1337500e+05\n 1.2500000e+05 8.6000000e+04 2.0000000e+04 5.1000000e+04 1.1500000e+05\n 1.1000000e+05 6.0000000e+04 1.2000000e+05 1.0920000e+05 8.5000000e+04\n 1.5000000e+05 1.5000000e+05 1.3100000e+05 9.6000000e+04 5.5000000e+04\n 1.3200000e+05 9.3000000e+04 3.0000000e+04 8.7000000e+04 1.4000000e+05\n 7.0000000e+04 1.7000000e+02 1.3200000e+05 6.5000000e+04 1.1200000e+05\n 1.1500000e+05 8.5000000e+04 8.5000000e+04 1.2600000e+05 1.4500000e+05\n 1.3500000e+05 3.6500000e+01 8.4000000e+03 1.5500000e+05 1.3000000e+05\n 1.3000000e+05 8.6500000e+04 2.2500000e+05 7.5000000e+04 1.3000000e+05\n 2.1027000e+04 3.5000000e+04 1.6500000e+05 3.2000000e+04 7.3200000e+04\n 1.6000000e+05 1.2000000e+05 9.6000000e+04 4.2000000e+04 6.2000000e+04\n 1.3000000e+05 7.8500000e+04 1.4500000e+05 1.6500000e+05 1.3500000e+05\n 6.0000000e+04 5.7500000e+05 7.5000000e+04 1.1500000e+05 1.8100000e+05\n 1.7800000e+05 2.3000000e+04 6.2000000e+04 1.1000000e+05 5.5000000e+04\n 9.7000000e+04 2.0600000e+05 1.6000000e+05 1.2500000e+05 1.0600000e+04\n 1.3200000e+05 6.1000000e+04 5.2200000e+04 1.0000000e+05 3.8400000e+04\n 1.0000000e+04 1.7000000e+05 5.4036000e+04 1.4500000e+05 1.8000000e+05\n 1.0200000e+05 4.4000000e+04 1.3000000e+05 3.4500000e+04 1.1900000e+05\n 5.4100000e+04 4.5000000e+04 1.3000000e+05 1.0000000e+05 7.8000000e+05\n 1.1000000e+05 1.0100000e+05 1.2618000e+04 7.5000000e+04 4.9000000e+04\n 1.3000000e+05 2.3600000e+05 6.0000000e+04 7.4000000e+04 5.5000000e+04\n 7.0000000e+03 8.5000000e+04 1.0000000e+03 1.3500000e+05 4.3680000e+04\n 6.0000000e+04 9.0000000e+04 7.0000000e+04 1.4000000e+05 7.1000000e+04\n 8.9000000e+04 5.6565600e+05 9.0000000e+04 1.7000000e+05 1.0800000e+05\n 1.0000000e+05 9.5000000e+04 3.6276000e+04 5.1000000e+05 1.5000000e+05\n 7.7000000e+04 7.5000000e+04 9.0000000e+04 3.3000000e+05 6.9000000e+04\n 2.4000000e+05 4.0000000e+01 2.7600000e+04 1.2500000e+05 5.7000000e+04\n 3.6090000e+03 1.3000000e+05 1.5000000e+05 2.0500000e+05 4.5960000e+01\n 1.5600000e+05 2.5000000e+05 1.2500000e+05 7.5000000e+04 8.0000000e+04\n 1.5500000e+05 3.0000000e+04 2.9000000e+04 1.0500000e+05 1.0000000e+05\n 1.2400000e+05 1.7000000e+05 8.8800000e+04 5.5000000e+04 4.5000000e+04\n 5.5000000e+04 2.8000000e+04 9.5000000e+04 7.5000000e+04 7.3000000e+04\n 1.4600000e+05 5.4000000e+04 2.1000000e+05 6.0000000e+05 7.5000000e+04\n 9.4000000e+04 3.1000000e+04 8.4000000e+05 8.2000000e+04 4.0000000e+05\n 1.0000000e+05 1.4000000e+05 1.1200000e+05 1.0359500e+05 4.3000000e+04\n 1.2000000e+05 1.0500000e+05 9.5000000e+04 8.0000000e+04 1.7500000e+05\n 1.6500000e+05 1.2800000e+05 1.0500000e+05 3.6000000e+04 1.3100000e+05\n 1.1000000e+05 1.0500000e+05 2.5000000e+04 7.2000000e+04 1.4000000e+05\n 8.0000000e+04 5.5000000e+04 5.5000000e+04 9.5000000e+04 1.0500000e+05\n 7.5000000e+04 9.4000000e+04 4.0000000e+05 1.2600000e+05 2.0000000e+04\n 1.5000000e+05 9.2000000e+04 1.2600000e+05 1.5000000e+05 1.5000000e+05\n 1.1000000e+05 1.0800000e+05 1.0600000e+05 1.2000000e+05 1.2500000e+05\n 3.3000000e+04 1.1000000e+05 1.0000000e+05 5.5000000e+04 2.1000000e+05\n 1.3000000e+05 4.2000000e+04 1.7000000e+05 1.0000000e+05 9.5000000e+04\n 3.6000000e+04 1.4000000e+05 6.1000000e+04 4.0000000e+04 7.3000000e+04\n 1.2000000e+05 1.1136000e+05 8.5000000e+04 7.0000000e+04 3.2000000e+04\n 4.6000000e+04 1.7000000e+05 1.0900000e+05 6.3000000e+04 1.2500000e+05\n 1.1000000e+05 6.0000000e+04 1.5642000e+02 1.2500000e+05 5.5000000e+04\n 7.5000000e+04 6.4000000e+03 6.2000000e+04 1.3700000e+05 1.1200000e+05\n 7.0000000e+04 9.6000000e+04 1.2000000e+05 1.4500000e+05 1.9500000e+05\n 8.8000000e+04 1.4500000e+05 2.9000000e+05 9.5000000e+04 5.9724000e+04\n 1.1300000e+05 1.0500000e+05 1.1500000e+05 1.0500000e+05 1.7500000e+05\n 7.8000000e+04 5.5000000e+04 8.0000000e+04 2.3423000e+04 5.0000000e+04\n 8.3000000e+04 1.0100000e+05 8.8000000e+04 9.0000000e+04 1.1700000e+05\n 3.2500000e+05 5.0000000e+04 8.6742000e+04 1.1500000e+05 5.7000000e+04\n 7.0000000e+04 8.0000000e+03 9.0000000e+04 1.8000000e+05 8.7000000e+04\n 3.0500000e+04 1.2000000e+05 1.4600000e+05 8.0000000e+04 7.0200000e+04\n 6.7000000e+04 5.5000000e+01 1.1700000e+05 7.8000000e+04 2.2500000e+05\n 1.1200000e+05 1.4000000e+05 6.1500000e+04 7.3500000e+04 1.2000000e+05\n 6.9678000e+04 1.2000000e+05 3.6000000e+04 1.8500000e+05 1.1000000e+05\n 1.3000000e+05 7.5000000e+04 1.4600000e+05 7.9500000e+03 1.0000000e+05\n 1.4000000e+03 1.6500000e+05 6.9000000e+05 9.9000000e+04 1.0500000e+05\n 5.0000000e+04 5.8000000e+04 1.2500000e+05 2.2176000e+04 1.2589500e+05\n 1.5000000e+02 1.0000000e+05 4.5000000e+04 1.7500000e+05 1.9800000e+05\n 4.6999000e+04 7.0000000e+04 1.1500000e+05 7.0000000e+04 3.5000000e+05\n 7.5000000e+04 8.0000000e+04 1.2850000e+05 1.3050000e+05 9.7000000e+04\n 1.0800000e+05 8.5320000e+04 1.1500000e+05 1.0600000e+05 6.4000000e+04\n 1.0025000e+05 8.4000000e+04 6.1000000e+04 1.2000000e+05 8.8000000e+04\n 1.2600000e+05 1.7500000e+05 9.0000000e+04 7.0000000e+04 8.5000000e+04\n 9.8000000e+04 1.5000000e+05 1.0200000e+05 1.3000000e+05 1.3200000e+05\n 3.7500000e+04 1.5000000e+05 1.3200000e+05 4.2660000e+04 1.0000000e+05\n 8.5000000e+04 3.1000000e+01 5.1000000e+04 6.0000000e+04 6.0000000e+04\n 1.5000000e+05 1.3000000e+05 2.5200000e+04 1.1000000e+05 7.1100000e+04\n 1.3200000e+04 1.1500000e+05 1.2300000e+05 1.0000000e+05 1.4600000e+05\n 1.0500000e+05 9.0000000e+04 9.0000000e+04 2.5000000e+05 3.8000000e+04\n 5.0000000e+04 1.6000000e+05 3.0000000e+04 1.6500000e+05 1.5200000e+05\n 2.0000000e+05 1.8500000e+05 9.9190000e+04 1.4400000e+05 3.8150000e+04\n 1.3000000e+05 8.5320000e+04 4.5000000e+04 1.0000000e+05 1.3000000e+04\n 1.4600000e+05 8.0000000e+04 1.6100000e+05 1.5100000e+05 1.7264000e+04\n 4.3000000e+04 1.2000000e+05 1.4300000e+05 1.4400000e+05 1.6500000e+05\n 1.2500000e+05 1.5000000e+05].\nReshape your data either using array.reshape(-1, 1) if your data has a single feature or array.reshape(1, -1) if it contains a single sample.",
     "output_type": "error",
     "traceback": [
      "\u001b[1;31m---------------------------------------------------------------------------\u001b[0m",
      "\u001b[1;31mValueError\u001b[0m                                Traceback (most recent call last)",
      "Input \u001b[1;32mIn [159]\u001b[0m, in \u001b[0;36m<cell line: 1>\u001b[1;34m()\u001b[0m\n\u001b[1;32m----> 1\u001b[0m predictions \u001b[38;5;241m=\u001b[39m \u001b[43mmodel\u001b[49m\u001b[38;5;241;43m.\u001b[39;49m\u001b[43mpredict\u001b[49m\u001b[43m(\u001b[49m\u001b[43mx_test\u001b[49m\u001b[43m)\u001b[49m\n",
      "File \u001b[1;32m~\\Anaconda3\\lib\\site-packages\\sklearn\\linear_model\\_base.py:362\u001b[0m, in \u001b[0;36mLinearModel.predict\u001b[1;34m(self, X)\u001b[0m\n\u001b[0;32m    348\u001b[0m \u001b[38;5;28;01mdef\u001b[39;00m \u001b[38;5;21mpredict\u001b[39m(\u001b[38;5;28mself\u001b[39m, X):\n\u001b[0;32m    349\u001b[0m     \u001b[38;5;124;03m\"\"\"\u001b[39;00m\n\u001b[0;32m    350\u001b[0m \u001b[38;5;124;03m    Predict using the linear model.\u001b[39;00m\n\u001b[0;32m    351\u001b[0m \n\u001b[1;32m   (...)\u001b[0m\n\u001b[0;32m    360\u001b[0m \u001b[38;5;124;03m        Returns predicted values.\u001b[39;00m\n\u001b[0;32m    361\u001b[0m \u001b[38;5;124;03m    \"\"\"\u001b[39;00m\n\u001b[1;32m--> 362\u001b[0m     \u001b[38;5;28;01mreturn\u001b[39;00m \u001b[38;5;28;43mself\u001b[39;49m\u001b[38;5;241;43m.\u001b[39;49m\u001b[43m_decision_function\u001b[49m\u001b[43m(\u001b[49m\u001b[43mX\u001b[49m\u001b[43m)\u001b[49m\n",
      "File \u001b[1;32m~\\Anaconda3\\lib\\site-packages\\sklearn\\linear_model\\_base.py:345\u001b[0m, in \u001b[0;36mLinearModel._decision_function\u001b[1;34m(self, X)\u001b[0m\n\u001b[0;32m    342\u001b[0m \u001b[38;5;28;01mdef\u001b[39;00m \u001b[38;5;21m_decision_function\u001b[39m(\u001b[38;5;28mself\u001b[39m, X):\n\u001b[0;32m    343\u001b[0m     check_is_fitted(\u001b[38;5;28mself\u001b[39m)\n\u001b[1;32m--> 345\u001b[0m     X \u001b[38;5;241m=\u001b[39m \u001b[38;5;28;43mself\u001b[39;49m\u001b[38;5;241;43m.\u001b[39;49m\u001b[43m_validate_data\u001b[49m\u001b[43m(\u001b[49m\u001b[43mX\u001b[49m\u001b[43m,\u001b[49m\u001b[43m \u001b[49m\u001b[43maccept_sparse\u001b[49m\u001b[38;5;241;43m=\u001b[39;49m\u001b[43m[\u001b[49m\u001b[38;5;124;43m\"\u001b[39;49m\u001b[38;5;124;43mcsr\u001b[39;49m\u001b[38;5;124;43m\"\u001b[39;49m\u001b[43m,\u001b[49m\u001b[43m \u001b[49m\u001b[38;5;124;43m\"\u001b[39;49m\u001b[38;5;124;43mcsc\u001b[39;49m\u001b[38;5;124;43m\"\u001b[39;49m\u001b[43m,\u001b[49m\u001b[43m \u001b[49m\u001b[38;5;124;43m\"\u001b[39;49m\u001b[38;5;124;43mcoo\u001b[39;49m\u001b[38;5;124;43m\"\u001b[39;49m\u001b[43m]\u001b[49m\u001b[43m,\u001b[49m\u001b[43m \u001b[49m\u001b[43mreset\u001b[49m\u001b[38;5;241;43m=\u001b[39;49m\u001b[38;5;28;43;01mFalse\u001b[39;49;00m\u001b[43m)\u001b[49m\n\u001b[0;32m    346\u001b[0m     \u001b[38;5;28;01mreturn\u001b[39;00m safe_sparse_dot(X, \u001b[38;5;28mself\u001b[39m\u001b[38;5;241m.\u001b[39mcoef_\u001b[38;5;241m.\u001b[39mT, dense_output\u001b[38;5;241m=\u001b[39m\u001b[38;5;28;01mTrue\u001b[39;00m) \u001b[38;5;241m+\u001b[39m \u001b[38;5;28mself\u001b[39m\u001b[38;5;241m.\u001b[39mintercept_\n",
      "File \u001b[1;32m~\\Anaconda3\\lib\\site-packages\\sklearn\\base.py:566\u001b[0m, in \u001b[0;36mBaseEstimator._validate_data\u001b[1;34m(self, X, y, reset, validate_separately, **check_params)\u001b[0m\n\u001b[0;32m    564\u001b[0m     \u001b[38;5;28;01mraise\u001b[39;00m \u001b[38;5;167;01mValueError\u001b[39;00m(\u001b[38;5;124m\"\u001b[39m\u001b[38;5;124mValidation should be done on X, y or both.\u001b[39m\u001b[38;5;124m\"\u001b[39m)\n\u001b[0;32m    565\u001b[0m \u001b[38;5;28;01melif\u001b[39;00m \u001b[38;5;129;01mnot\u001b[39;00m no_val_X \u001b[38;5;129;01mand\u001b[39;00m no_val_y:\n\u001b[1;32m--> 566\u001b[0m     X \u001b[38;5;241m=\u001b[39m check_array(X, \u001b[38;5;241m*\u001b[39m\u001b[38;5;241m*\u001b[39mcheck_params)\n\u001b[0;32m    567\u001b[0m     out \u001b[38;5;241m=\u001b[39m X\n\u001b[0;32m    568\u001b[0m \u001b[38;5;28;01melif\u001b[39;00m no_val_X \u001b[38;5;129;01mand\u001b[39;00m \u001b[38;5;129;01mnot\u001b[39;00m no_val_y:\n",
      "File \u001b[1;32m~\\Anaconda3\\lib\\site-packages\\sklearn\\utils\\validation.py:769\u001b[0m, in \u001b[0;36mcheck_array\u001b[1;34m(array, accept_sparse, accept_large_sparse, dtype, order, copy, force_all_finite, ensure_2d, allow_nd, ensure_min_samples, ensure_min_features, estimator)\u001b[0m\n\u001b[0;32m    767\u001b[0m     \u001b[38;5;66;03m# If input is 1D raise error\u001b[39;00m\n\u001b[0;32m    768\u001b[0m     \u001b[38;5;28;01mif\u001b[39;00m array\u001b[38;5;241m.\u001b[39mndim \u001b[38;5;241m==\u001b[39m \u001b[38;5;241m1\u001b[39m:\n\u001b[1;32m--> 769\u001b[0m         \u001b[38;5;28;01mraise\u001b[39;00m \u001b[38;5;167;01mValueError\u001b[39;00m(\n\u001b[0;32m    770\u001b[0m             \u001b[38;5;124m\"\u001b[39m\u001b[38;5;124mExpected 2D array, got 1D array instead:\u001b[39m\u001b[38;5;130;01m\\n\u001b[39;00m\u001b[38;5;124marray=\u001b[39m\u001b[38;5;132;01m{}\u001b[39;00m\u001b[38;5;124m.\u001b[39m\u001b[38;5;130;01m\\n\u001b[39;00m\u001b[38;5;124m\"\u001b[39m\n\u001b[0;32m    771\u001b[0m             \u001b[38;5;124m\"\u001b[39m\u001b[38;5;124mReshape your data either using array.reshape(-1, 1) if \u001b[39m\u001b[38;5;124m\"\u001b[39m\n\u001b[0;32m    772\u001b[0m             \u001b[38;5;124m\"\u001b[39m\u001b[38;5;124myour data has a single feature or array.reshape(1, -1) \u001b[39m\u001b[38;5;124m\"\u001b[39m\n\u001b[0;32m    773\u001b[0m             \u001b[38;5;124m\"\u001b[39m\u001b[38;5;124mif it contains a single sample.\u001b[39m\u001b[38;5;124m\"\u001b[39m\u001b[38;5;241m.\u001b[39mformat(array)\n\u001b[0;32m    774\u001b[0m         )\n\u001b[0;32m    776\u001b[0m \u001b[38;5;66;03m# make sure we actually converted to numeric:\u001b[39;00m\n\u001b[0;32m    777\u001b[0m \u001b[38;5;28;01mif\u001b[39;00m dtype_numeric \u001b[38;5;129;01mand\u001b[39;00m array\u001b[38;5;241m.\u001b[39mdtype\u001b[38;5;241m.\u001b[39mkind \u001b[38;5;129;01min\u001b[39;00m \u001b[38;5;124m\"\u001b[39m\u001b[38;5;124mOUSV\u001b[39m\u001b[38;5;124m\"\u001b[39m:\n",
      "\u001b[1;31mValueError\u001b[0m: Expected 2D array, got 1D array instead:\narray=[2.5000000e+04 8.3500000e+04 6.7200000e+04 9.8000000e+04 1.2000000e+05\n 7.0000000e+04 9.2000000e+04 6.0000000e+04 7.5000000e+04 7.5000000e+04\n 1.7500000e+05 1.1250000e+05 1.1500000e+05 9.5000000e+04 1.1800000e+05\n 1.3000000e+05 7.5000000e+04 1.1800000e+05 3.2524000e+04 7.3000000e+04\n 1.4500000e+05 1.6000000e+05 1.9000000e+04 1.0000000e+05 1.2800000e+05\n 2.1600000e+05 1.5500000e+05 6.5198700e+04 8.5000000e+04 6.5000000e+04\n 1.2000000e+05 1.0500000e+05 1.1950000e+05 8.0000000e+04 1.2000000e+05\n 4.0000000e+04 5.0000000e+05 1.1040648e+05 1.0300000e+05 1.2400000e+05\n 2.6700000e+05 1.2000000e+05 1.5200000e+03 3.0000000e+04 6.0000000e+04\n 6.0000000e+01 1.8500000e+05 1.6000000e+05 1.2500000e+05 6.3000000e+04\n 1.0000000e+05 6.5000000e+04 8.5000000e+04 2.3000000e+04 8.1500000e+04\n 6.5000000e+04 1.0200000e+05 1.2500000e+05 1.3000000e+05 4.5000000e+04\n 2.1600000e+05 7.5000000e+04 3.2000000e+04 1.1802600e+05 8.5000000e+04\n 1.1000000e+05 6.8256000e+04 6.5000000e+04 7.2000000e+04 1.4000000e+05\n 2.8500000e+04 7.4000000e+04 1.4500000e+05 1.4500000e+05 9.0000000e+04\n 1.2000000e+05 4.2000000e+04 1.2000000e+05 6.6500000e+04 1.1337500e+05\n 1.2500000e+05 8.6000000e+04 2.0000000e+04 5.1000000e+04 1.1500000e+05\n 1.1000000e+05 6.0000000e+04 1.2000000e+05 1.0920000e+05 8.5000000e+04\n 1.5000000e+05 1.5000000e+05 1.3100000e+05 9.6000000e+04 5.5000000e+04\n 1.3200000e+05 9.3000000e+04 3.0000000e+04 8.7000000e+04 1.4000000e+05\n 7.0000000e+04 1.7000000e+02 1.3200000e+05 6.5000000e+04 1.1200000e+05\n 1.1500000e+05 8.5000000e+04 8.5000000e+04 1.2600000e+05 1.4500000e+05\n 1.3500000e+05 3.6500000e+01 8.4000000e+03 1.5500000e+05 1.3000000e+05\n 1.3000000e+05 8.6500000e+04 2.2500000e+05 7.5000000e+04 1.3000000e+05\n 2.1027000e+04 3.5000000e+04 1.6500000e+05 3.2000000e+04 7.3200000e+04\n 1.6000000e+05 1.2000000e+05 9.6000000e+04 4.2000000e+04 6.2000000e+04\n 1.3000000e+05 7.8500000e+04 1.4500000e+05 1.6500000e+05 1.3500000e+05\n 6.0000000e+04 5.7500000e+05 7.5000000e+04 1.1500000e+05 1.8100000e+05\n 1.7800000e+05 2.3000000e+04 6.2000000e+04 1.1000000e+05 5.5000000e+04\n 9.7000000e+04 2.0600000e+05 1.6000000e+05 1.2500000e+05 1.0600000e+04\n 1.3200000e+05 6.1000000e+04 5.2200000e+04 1.0000000e+05 3.8400000e+04\n 1.0000000e+04 1.7000000e+05 5.4036000e+04 1.4500000e+05 1.8000000e+05\n 1.0200000e+05 4.4000000e+04 1.3000000e+05 3.4500000e+04 1.1900000e+05\n 5.4100000e+04 4.5000000e+04 1.3000000e+05 1.0000000e+05 7.8000000e+05\n 1.1000000e+05 1.0100000e+05 1.2618000e+04 7.5000000e+04 4.9000000e+04\n 1.3000000e+05 2.3600000e+05 6.0000000e+04 7.4000000e+04 5.5000000e+04\n 7.0000000e+03 8.5000000e+04 1.0000000e+03 1.3500000e+05 4.3680000e+04\n 6.0000000e+04 9.0000000e+04 7.0000000e+04 1.4000000e+05 7.1000000e+04\n 8.9000000e+04 5.6565600e+05 9.0000000e+04 1.7000000e+05 1.0800000e+05\n 1.0000000e+05 9.5000000e+04 3.6276000e+04 5.1000000e+05 1.5000000e+05\n 7.7000000e+04 7.5000000e+04 9.0000000e+04 3.3000000e+05 6.9000000e+04\n 2.4000000e+05 4.0000000e+01 2.7600000e+04 1.2500000e+05 5.7000000e+04\n 3.6090000e+03 1.3000000e+05 1.5000000e+05 2.0500000e+05 4.5960000e+01\n 1.5600000e+05 2.5000000e+05 1.2500000e+05 7.5000000e+04 8.0000000e+04\n 1.5500000e+05 3.0000000e+04 2.9000000e+04 1.0500000e+05 1.0000000e+05\n 1.2400000e+05 1.7000000e+05 8.8800000e+04 5.5000000e+04 4.5000000e+04\n 5.5000000e+04 2.8000000e+04 9.5000000e+04 7.5000000e+04 7.3000000e+04\n 1.4600000e+05 5.4000000e+04 2.1000000e+05 6.0000000e+05 7.5000000e+04\n 9.4000000e+04 3.1000000e+04 8.4000000e+05 8.2000000e+04 4.0000000e+05\n 1.0000000e+05 1.4000000e+05 1.1200000e+05 1.0359500e+05 4.3000000e+04\n 1.2000000e+05 1.0500000e+05 9.5000000e+04 8.0000000e+04 1.7500000e+05\n 1.6500000e+05 1.2800000e+05 1.0500000e+05 3.6000000e+04 1.3100000e+05\n 1.1000000e+05 1.0500000e+05 2.5000000e+04 7.2000000e+04 1.4000000e+05\n 8.0000000e+04 5.5000000e+04 5.5000000e+04 9.5000000e+04 1.0500000e+05\n 7.5000000e+04 9.4000000e+04 4.0000000e+05 1.2600000e+05 2.0000000e+04\n 1.5000000e+05 9.2000000e+04 1.2600000e+05 1.5000000e+05 1.5000000e+05\n 1.1000000e+05 1.0800000e+05 1.0600000e+05 1.2000000e+05 1.2500000e+05\n 3.3000000e+04 1.1000000e+05 1.0000000e+05 5.5000000e+04 2.1000000e+05\n 1.3000000e+05 4.2000000e+04 1.7000000e+05 1.0000000e+05 9.5000000e+04\n 3.6000000e+04 1.4000000e+05 6.1000000e+04 4.0000000e+04 7.3000000e+04\n 1.2000000e+05 1.1136000e+05 8.5000000e+04 7.0000000e+04 3.2000000e+04\n 4.6000000e+04 1.7000000e+05 1.0900000e+05 6.3000000e+04 1.2500000e+05\n 1.1000000e+05 6.0000000e+04 1.5642000e+02 1.2500000e+05 5.5000000e+04\n 7.5000000e+04 6.4000000e+03 6.2000000e+04 1.3700000e+05 1.1200000e+05\n 7.0000000e+04 9.6000000e+04 1.2000000e+05 1.4500000e+05 1.9500000e+05\n 8.8000000e+04 1.4500000e+05 2.9000000e+05 9.5000000e+04 5.9724000e+04\n 1.1300000e+05 1.0500000e+05 1.1500000e+05 1.0500000e+05 1.7500000e+05\n 7.8000000e+04 5.5000000e+04 8.0000000e+04 2.3423000e+04 5.0000000e+04\n 8.3000000e+04 1.0100000e+05 8.8000000e+04 9.0000000e+04 1.1700000e+05\n 3.2500000e+05 5.0000000e+04 8.6742000e+04 1.1500000e+05 5.7000000e+04\n 7.0000000e+04 8.0000000e+03 9.0000000e+04 1.8000000e+05 8.7000000e+04\n 3.0500000e+04 1.2000000e+05 1.4600000e+05 8.0000000e+04 7.0200000e+04\n 6.7000000e+04 5.5000000e+01 1.1700000e+05 7.8000000e+04 2.2500000e+05\n 1.1200000e+05 1.4000000e+05 6.1500000e+04 7.3500000e+04 1.2000000e+05\n 6.9678000e+04 1.2000000e+05 3.6000000e+04 1.8500000e+05 1.1000000e+05\n 1.3000000e+05 7.5000000e+04 1.4600000e+05 7.9500000e+03 1.0000000e+05\n 1.4000000e+03 1.6500000e+05 6.9000000e+05 9.9000000e+04 1.0500000e+05\n 5.0000000e+04 5.8000000e+04 1.2500000e+05 2.2176000e+04 1.2589500e+05\n 1.5000000e+02 1.0000000e+05 4.5000000e+04 1.7500000e+05 1.9800000e+05\n 4.6999000e+04 7.0000000e+04 1.1500000e+05 7.0000000e+04 3.5000000e+05\n 7.5000000e+04 8.0000000e+04 1.2850000e+05 1.3050000e+05 9.7000000e+04\n 1.0800000e+05 8.5320000e+04 1.1500000e+05 1.0600000e+05 6.4000000e+04\n 1.0025000e+05 8.4000000e+04 6.1000000e+04 1.2000000e+05 8.8000000e+04\n 1.2600000e+05 1.7500000e+05 9.0000000e+04 7.0000000e+04 8.5000000e+04\n 9.8000000e+04 1.5000000e+05 1.0200000e+05 1.3000000e+05 1.3200000e+05\n 3.7500000e+04 1.5000000e+05 1.3200000e+05 4.2660000e+04 1.0000000e+05\n 8.5000000e+04 3.1000000e+01 5.1000000e+04 6.0000000e+04 6.0000000e+04\n 1.5000000e+05 1.3000000e+05 2.5200000e+04 1.1000000e+05 7.1100000e+04\n 1.3200000e+04 1.1500000e+05 1.2300000e+05 1.0000000e+05 1.4600000e+05\n 1.0500000e+05 9.0000000e+04 9.0000000e+04 2.5000000e+05 3.8000000e+04\n 5.0000000e+04 1.6000000e+05 3.0000000e+04 1.6500000e+05 1.5200000e+05\n 2.0000000e+05 1.8500000e+05 9.9190000e+04 1.4400000e+05 3.8150000e+04\n 1.3000000e+05 8.5320000e+04 4.5000000e+04 1.0000000e+05 1.3000000e+04\n 1.4600000e+05 8.0000000e+04 1.6100000e+05 1.5100000e+05 1.7264000e+04\n 4.3000000e+04 1.2000000e+05 1.4300000e+05 1.4400000e+05 1.6500000e+05\n 1.2500000e+05 1.5000000e+05].\nReshape your data either using array.reshape(-1, 1) if your data has a single feature or array.reshape(1, -1) if it contains a single sample."
     ]
    }
   ],
   "source": [
    "predictions = model.predict(x_test)"
   ]
  },
  {
   "cell_type": "code",
   "execution_count": null,
   "id": "c76dbd5f",
   "metadata": {},
   "outputs": [],
   "source": []
  }
 ],
 "metadata": {
  "kernelspec": {
   "display_name": "Python 3 (ipykernel)",
   "language": "python",
   "name": "python3"
  },
  "language_info": {
   "codemirror_mode": {
    "name": "ipython",
    "version": 3
   },
   "file_extension": ".py",
   "mimetype": "text/x-python",
   "name": "python",
   "nbconvert_exporter": "python",
   "pygments_lexer": "ipython3",
   "version": "3.9.13"
  }
 },
 "nbformat": 4,
 "nbformat_minor": 5
}
