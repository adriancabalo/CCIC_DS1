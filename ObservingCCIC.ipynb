{
 "cells": [
  {
   "cell_type": "code",
   "execution_count": 30,
   "id": "a6e43718",
   "metadata": {},
   "outputs": [
    {
     "name": "stdout",
     "output_type": "stream",
     "text": [
      "Percentage of students leaving in each classroom: \n",
      "[[89.58333333333333, 77.27272727272727, 100.0], [66.66666666666667, 100.0, 15.0], [68.75, 68.18181818181819, 0.0], [96.96969696969697, 100.0, 94.11764705882354]]\n",
      "Percentage of total number of students leaving in CCIC: \n",
      "80.76923076923077\n",
      "Number of total students surveyed: \n",
      "260\n",
      "Number of total leaving: \n",
      "210\n"
     ]
    }
   ],
   "source": [
    "# How many students leave CCIC during their break? #\n",
    "\n",
    "\n",
    "\n",
    "CCIC = [[\"Class\",\"Number of Students\",\"Number Staying\",\"Number Leaving\"],\n",
    "       [\"Business Services\",48,5,43],\n",
    "       [\"Intro to Healthcare\",22,5,17],\n",
    "       [\"Pharmacy Tech\",19,0,19],\n",
    "       [\"CNA\",12,4,8],\n",
    "       [\"Physical Therapy\",22,0,22],\n",
    "       [\"Autotech\",20,17,3],\n",
    "       [\"Aviation\",16,5,11],\n",
    "       [\"Aviation2\",22,7,15],\n",
    "       [\"Advanced Manufacturing\",5,5,0],\n",
    "       [\"Infrastructure\",33,1,32],\n",
    "       [\"Resort and Event Management\",24,0,24],\n",
    "       [\"Data Science\",17,1,16]]\n",
    "\n",
    "BusinessS = ((CCIC[1][len(CCIC[0])-1]) * 100)/(CCIC[1][1])\n",
    "IntroH = ((CCIC[2][len(CCIC[0])-1]) * 100)/(CCIC[2][1])\n",
    "PharmT = ((CCIC[3][len(CCIC[0])-1]) * 100)/(CCIC[3][1])\n",
    "CNA = ((CCIC[4][len(CCIC[0])-1]) * 100)/(CCIC[4][1])\n",
    "PhysT = ((CCIC[5][len(CCIC[0])-1]) * 100)/(CCIC[5][1])\n",
    "AutoT = ((CCIC[6][len(CCIC[0])-1]) * 100)/(CCIC[6][1])\n",
    "Avia = ((CCIC[7][len(CCIC[0])-1]) * 100)/(CCIC[7][1])\n",
    "Avia2 = ((CCIC[8][len(CCIC[0])-1]) * 100)/(CCIC[8][1])\n",
    "AdvanceM = ((CCIC[9][len(CCIC[0])-1]) * 100)/(CCIC[9][1])\n",
    "Infra = ((CCIC[10][len(CCIC[0])-1]) * 100)/(CCIC[10][1])\n",
    "Resort = ((CCIC[11][len(CCIC[0])-1]) * 100)/(CCIC[11][1])\n",
    "DS1 = ((CCIC[12][len(CCIC[0])-1]) * 100)/(CCIC[12][1])\n",
    "\n",
    "TotalStudents = (CCIC[1][1] + CCIC[2][1] + CCIC[3][1] + CCIC[4][1] + CCIC[5][1] + CCIC[6][1] + CCIC[7][1] + CCIC[8][1] + CCIC[9][1] + CCIC[10][1]+ CCIC[11][1]+ CCIC[12][1])\n",
    "TotalLeaving = (CCIC[1][len(CCIC[0])-1] + CCIC[2][len(CCIC[0])-1] + CCIC[3][len(CCIC[0])-1] + CCIC[4][len(CCIC[0])-1] + CCIC[5][len(CCIC[0])-1] + CCIC[6][len(CCIC[0])-1] + CCIC[7][len(CCIC[0])-1] + CCIC[8][len(CCIC[0])-1] + CCIC[9][len(CCIC[0])-1] + CCIC[10][len(CCIC[0])-1] + CCIC[11][len(CCIC[0])-1] + CCIC[12][len(CCIC[0])-1])\n",
    "PercentageTotalLeaving = ((TotalLeaving)*100)/260\n",
    "\n",
    "PercentageIndividual = [[BusinessS, IntroH, PharmT], \n",
    "              [CNA, PhysT, AutoT], \n",
    "              [Avia, Avia2, AdvanceM],\n",
    "              [Infra, Resort,DS1]]\n",
    "print(\"Percentage of students leaving in each classroom: \")\n",
    "print(PercentageIndividual)\n",
    "print(\"Percentage of total number of students leaving in CCIC: \")\n",
    "print(PercentageTotalLeaving)\n",
    "print(\"Number of total students surveyed: \")\n",
    "print(TotalStudents)\n",
    "print(\"Number of total leaving: \")\n",
    "print(TotalLeaving)"
   ]
  },
  {
   "cell_type": "code",
   "execution_count": null,
   "id": "f2501b15",
   "metadata": {},
   "outputs": [],
   "source": []
  },
  {
   "cell_type": "code",
   "execution_count": null,
   "id": "611c85c2",
   "metadata": {},
   "outputs": [],
   "source": []
  }
 ],
 "metadata": {
  "kernelspec": {
   "display_name": "Python 3 (ipykernel)",
   "language": "python",
   "name": "python3"
  },
  "language_info": {
   "codemirror_mode": {
    "name": "ipython",
    "version": 3
   },
   "file_extension": ".py",
   "mimetype": "text/x-python",
   "name": "python",
   "nbconvert_exporter": "python",
   "pygments_lexer": "ipython3",
   "version": "3.9.12"
  }
 },
 "nbformat": 4,
 "nbformat_minor": 5
}
