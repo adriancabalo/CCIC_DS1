{
 "cells": [
  {
   "cell_type": "code",
   "execution_count": 25,
   "id": "2fbdcd55",
   "metadata": {},
   "outputs": [],
   "source": [
    "import pandas as pd\n",
    "from random import random\n",
    "import math"
   ]
  },
  {
   "cell_type": "code",
   "execution_count": 26,
   "id": "e6b6203f",
   "metadata": {},
   "outputs": [
    {
     "name": "stdout",
     "output_type": "stream",
     "text": [
      "<class 'pandas.core.frame.DataFrame'>\n",
      "RangeIndex: 3536 entries, 0 to 3535\n",
      "Data columns (total 4 columns):\n",
      " #   Column     Non-Null Count  Dtype  \n",
      "---  ------     --------------  -----  \n",
      " 0   rent       3536 non-null   float64\n",
      " 1   bedrooms   3536 non-null   float64\n",
      " 2   bathrooms  3536 non-null   float64\n",
      " 3   size_sqft  3536 non-null   float64\n",
      "dtypes: float64(4)\n",
      "memory usage: 110.6 KB\n"
     ]
    },
    {
     "data": {
      "text/html": [
       "<div>\n",
       "<style scoped>\n",
       "    .dataframe tbody tr th:only-of-type {\n",
       "        vertical-align: middle;\n",
       "    }\n",
       "\n",
       "    .dataframe tbody tr th {\n",
       "        vertical-align: top;\n",
       "    }\n",
       "\n",
       "    .dataframe thead th {\n",
       "        text-align: right;\n",
       "    }\n",
       "</style>\n",
       "<table border=\"1\" class=\"dataframe\">\n",
       "  <thead>\n",
       "    <tr style=\"text-align: right;\">\n",
       "      <th></th>\n",
       "      <th>rent</th>\n",
       "      <th>bedrooms</th>\n",
       "      <th>bathrooms</th>\n",
       "      <th>size_sqft</th>\n",
       "    </tr>\n",
       "  </thead>\n",
       "  <tbody>\n",
       "    <tr>\n",
       "      <th>0</th>\n",
       "      <td>0.066845</td>\n",
       "      <td>0.0</td>\n",
       "      <td>0.2</td>\n",
       "      <td>0.050549</td>\n",
       "    </tr>\n",
       "    <tr>\n",
       "      <th>1</th>\n",
       "      <td>0.545455</td>\n",
       "      <td>0.4</td>\n",
       "      <td>0.4</td>\n",
       "      <td>0.384615</td>\n",
       "    </tr>\n",
       "    <tr>\n",
       "      <th>2</th>\n",
       "      <td>0.171123</td>\n",
       "      <td>0.2</td>\n",
       "      <td>0.2</td>\n",
       "      <td>0.146374</td>\n",
       "    </tr>\n",
       "    <tr>\n",
       "      <th>3</th>\n",
       "      <td>0.186898</td>\n",
       "      <td>0.2</td>\n",
       "      <td>0.2</td>\n",
       "      <td>0.159341</td>\n",
       "    </tr>\n",
       "    <tr>\n",
       "      <th>4</th>\n",
       "      <td>0.866310</td>\n",
       "      <td>0.4</td>\n",
       "      <td>0.4</td>\n",
       "      <td>1.000000</td>\n",
       "    </tr>\n",
       "    <tr>\n",
       "      <th>...</th>\n",
       "      <td>...</td>\n",
       "      <td>...</td>\n",
       "      <td>...</td>\n",
       "      <td>...</td>\n",
       "    </tr>\n",
       "    <tr>\n",
       "      <th>3531</th>\n",
       "      <td>0.155615</td>\n",
       "      <td>0.2</td>\n",
       "      <td>0.2</td>\n",
       "      <td>0.061978</td>\n",
       "    </tr>\n",
       "    <tr>\n",
       "      <th>3532</th>\n",
       "      <td>0.287433</td>\n",
       "      <td>0.4</td>\n",
       "      <td>0.4</td>\n",
       "      <td>0.162198</td>\n",
       "    </tr>\n",
       "    <tr>\n",
       "      <th>3533</th>\n",
       "      <td>0.021337</td>\n",
       "      <td>0.0</td>\n",
       "      <td>0.2</td>\n",
       "      <td>0.000000</td>\n",
       "    </tr>\n",
       "    <tr>\n",
       "      <th>3534</th>\n",
       "      <td>0.116310</td>\n",
       "      <td>0.2</td>\n",
       "      <td>0.2</td>\n",
       "      <td>0.088132</td>\n",
       "    </tr>\n",
       "    <tr>\n",
       "      <th>3535</th>\n",
       "      <td>0.171123</td>\n",
       "      <td>0.2</td>\n",
       "      <td>0.2</td>\n",
       "      <td>0.124396</td>\n",
       "    </tr>\n",
       "  </tbody>\n",
       "</table>\n",
       "<p>3536 rows × 4 columns</p>\n",
       "</div>"
      ],
      "text/plain": [
       "          rent  bedrooms  bathrooms  size_sqft\n",
       "0     0.066845       0.0        0.2   0.050549\n",
       "1     0.545455       0.4        0.4   0.384615\n",
       "2     0.171123       0.2        0.2   0.146374\n",
       "3     0.186898       0.2        0.2   0.159341\n",
       "4     0.866310       0.4        0.4   1.000000\n",
       "...        ...       ...        ...        ...\n",
       "3531  0.155615       0.2        0.2   0.061978\n",
       "3532  0.287433       0.4        0.4   0.162198\n",
       "3533  0.021337       0.0        0.2   0.000000\n",
       "3534  0.116310       0.2        0.2   0.088132\n",
       "3535  0.171123       0.2        0.2   0.124396\n",
       "\n",
       "[3536 rows x 4 columns]"
      ]
     },
     "execution_count": 26,
     "metadata": {},
     "output_type": "execute_result"
    }
   ],
   "source": [
    "df = pd.read_csv(\"wrangledNYC - data.csv\")\n",
    "df.drop(\"Unnamed: 0\", axis=1, inplace=True)\n",
    "df.info()\n",
    "df"
   ]
  },
  {
   "cell_type": "code",
   "execution_count": 27,
   "id": "b36be0be",
   "metadata": {},
   "outputs": [],
   "source": [
    "# Test/Train Split\n",
    "length = len(df.index)\n",
    "splitHere = int(length * 0.7)\n",
    "train = df[0:splitHere]\n",
    "test = df[splitHere:length]"
   ]
  },
  {
   "cell_type": "code",
   "execution_count": 28,
   "id": "81749f4c",
   "metadata": {},
   "outputs": [],
   "source": [
    "# Training Algorithm:  \n",
    "# Reminder --> Standard equation for 3 features: ax + by + cz + d = 0\n",
    "def trainMRModel(trainDF, iterations):\n",
    "  '''\n",
    "  Pseudocode Algorithm:\n",
    "  1. Naively choose starting weights for initial model. This is model A.\n",
    "  2. Calculate the distance between data and model A.\n",
    "  3. Randomly generate steps to take when generating model B from current model A.\n",
    "    - if distance of model B is less than model A, replace model A with model B.\n",
    "    - elif distance of model B is NOT less than model A after 50 tries of randomly stepping, keep model A.\n",
    "  4. Repeat step 3 for desired number of iterations.\n",
    "  '''\n",
    "  \n",
    "  # Initialize naive model A\n",
    "  modelA = [0.5, 0.5, 0.5, 0.5] # [a, b, c, d]\n",
    "\n",
    "  distanceA = calculateDistance(trainDF, modelA)\n",
    "  print(\"First model - weights: \", modelA, \" distance: \", distanceA)\n",
    "  \n",
    "  modelB = modelA[:] # make a copy of model A -> 'modelB = modelA' just references original model A\n",
    "  \n",
    "  # Randomly take steps for desired iterations\n",
    "  for i in range(iterations):\n",
    "    modelB = take_best_step(trainDF, modelB)\n",
    "  \n",
    "  # Calculate distance of best model found\n",
    "  distanceB = calculateDistance(trainDF, modelB)\n",
    "  print(\"Final model - weights: \", modelB, \" distance: \", distanceB)"
   ]
  },
  {
   "cell_type": "code",
   "execution_count": 29,
   "id": "235d22fc",
   "metadata": {},
   "outputs": [],
   "source": [
    "# Helper functions\n",
    "def take_random_step(model):\n",
    "  return [\n",
    "      model[0] + (random() - 0.5), # Subtract off 0.5 to generate negative and positive steps\n",
    "      model[1] + (random() - 0.5),\n",
    "      model[2] + (random() - 0.5),\n",
    "      model[3] + (random() - 0.5)\n",
    "  ]\n",
    "\n",
    "def take_best_step(trainDF, model):\n",
    "  old_distance = calculateDistance(trainDF, model)\n",
    "  for i in range(50): # try 50 times; if we fail to improve, return the old model\n",
    "    new_model = take_random_step(model)\n",
    "    new_distance = calculateDistance(trainDF, new_model)\n",
    "    if new_distance < old_distance:\n",
    "      return new_model\n",
    "  return model # by default, return the old model\n",
    "\n",
    "def calculateDistance(trainDF, model):\n",
    "  sum = 0\n",
    "  for i in range(len(trainDF.index[:10])):\n",
    "    # Get data points\n",
    "    bed = trainDF.iat[i, 1]\n",
    "    bath = trainDF.iat[i, 2]\n",
    "    sqft = trainDF.iat[i, 3]\n",
    "\n",
    "    # Get coefficients\n",
    "    a = model[0]\n",
    "    b = model[1]\n",
    "    c = model[2]\n",
    "    d = model[3]\n",
    "\n",
    "    # Calculate distance using formula: https://i.ytimg.com/vi/zWMTTRJ0l4w/maxresdefault.jpg\n",
    "    numerator = abs((a * bed) + (b * bath) + (c * sqft) + d)\n",
    "    denominator = math.sqrt((a * a) + (b * b) + (c * c ) + (d * d))\n",
    "    distance = numerator / denominator\n",
    "    sum = sum + distance\n",
    " \n",
    "  return sum"
   ]
  },
  {
   "cell_type": "code",
   "execution_count": 30,
   "id": "61232a3f",
   "metadata": {},
   "outputs": [
    {
     "name": "stdout",
     "output_type": "stream",
     "text": [
      "First model - weights:  [0.5, 0.5, 0.5, 0.5]  distance:  8.77252747254\n",
      "Final model - weights:  [1.5739333346908857, -2.9433953145048166, 0.2936516821041284, 0.2463025548162293]  distance:  0.42829554951037124\n"
     ]
    }
   ],
   "source": [
    "trainMRModel(train, 100)"
   ]
  },
  {
   "cell_type": "code",
   "execution_count": 31,
   "id": "08c988fd",
   "metadata": {},
   "outputs": [],
   "source": [
    "def MSE(test, w1, w2, w3, b):\n",
    "    sum = 0\n",
    "    for row in range(0, len(test.index)):\n",
    "        bedrooms = test.iat[row, 1]\n",
    "        bathrooms = test.iat[row, 2]\n",
    "        size_sqft = test.iat[row, 3]\n",
    "        actual = test.iat[row, 0]\n",
    "        predicted = (w1 * bedrooms) + (w2 * bathrooms) + (w3 *size_sqft) + b\n",
    "        sum = sum + (actual - predicted) * (actual - predicted)\n",
    "    return sum/len(test.index)"
   ]
  },
  {
   "cell_type": "code",
   "execution_count": 32,
   "id": "6099babf",
   "metadata": {},
   "outputs": [
    {
     "data": {
      "text/plain": [
       "0.08430112235849602"
      ]
     },
     "execution_count": 32,
     "metadata": {},
     "output_type": "execute_result"
    }
   ],
   "source": [
    "MSE(test,-1.7515804406788689,3.596717357220347,-0.43382785150620806,-0.3059737545463622) #10,000 iterations"
   ]
  },
  {
   "cell_type": "code",
   "execution_count": 33,
   "id": "adc1df34",
   "metadata": {},
   "outputs": [
    {
     "data": {
      "text/plain": [
       "0.07733983316047599"
      ]
     },
     "execution_count": 33,
     "metadata": {},
     "output_type": "execute_result"
    }
   ],
   "source": [
    "MSE(test,-1.6086322282630496, 3.2119239086874107, -0.3872185641246365,-0.26360815921849834) #1,000 iterations"
   ]
  },
  {
   "cell_type": "code",
   "execution_count": 10,
   "id": "cb917a0f",
   "metadata": {},
   "outputs": [
    {
     "data": {
      "text/plain": [
       "0.09501308793697975"
      ]
     },
     "execution_count": 10,
     "metadata": {},
     "output_type": "execute_result"
    }
   ],
   "source": [
    "MSE(train,-1.7515804406788689,3.596717357220347,-0.43382785150620806,-0.3059737545463622)"
   ]
  },
  {
   "cell_type": "code",
   "execution_count": 11,
   "id": "9c2a5b73",
   "metadata": {},
   "outputs": [
    {
     "data": {
      "text/plain": [
       "0.023499981064529777"
      ]
     },
     "execution_count": 11,
     "metadata": {},
     "output_type": "execute_result"
    }
   ],
   "source": [
    "MSE(test,0.024651779254613815,0.7765181213835992,-0.43382785150620806,0.01869844856885916)"
   ]
  },
  {
   "cell_type": "code",
   "execution_count": 12,
   "id": "de442ca5",
   "metadata": {},
   "outputs": [
    {
     "data": {
      "text/plain": [
       "LinearRegression()"
      ]
     },
     "execution_count": 12,
     "metadata": {},
     "output_type": "execute_result"
    }
   ],
   "source": [
    "from sklearn import linear_model\n",
    "from sklearn.metrics import mean_squared_error\n",
    "\n",
    "regr = linear_model.LinearRegression()\n",
    "\n",
    "regr.fit(train, train['bedrooms'],train['size_sqft'])"
   ]
  },
  {
   "cell_type": "code",
   "execution_count": 13,
   "id": "7f73e89f",
   "metadata": {},
   "outputs": [],
   "source": [
    "prediction = regr.predict(test)"
   ]
  },
  {
   "cell_type": "code",
   "execution_count": 14,
   "id": "07fdeaf6",
   "metadata": {},
   "outputs": [
    {
     "data": {
      "text/plain": [
       "array([ 1.58953127e-16,  1.00000000e+00, -4.59880279e-16, -3.24764095e-16])"
      ]
     },
     "execution_count": 14,
     "metadata": {},
     "output_type": "execute_result"
    }
   ],
   "source": [
    "regr.coef_"
   ]
  },
  {
   "cell_type": "code",
   "execution_count": 15,
   "id": "7b100430",
   "metadata": {},
   "outputs": [
    {
     "data": {
      "text/plain": [
       "0.02550829570362983"
      ]
     },
     "execution_count": 15,
     "metadata": {},
     "output_type": "execute_result"
    }
   ],
   "source": [
    "mean_squared_error(test['rent'],prediction)"
   ]
  },
  {
   "cell_type": "code",
   "execution_count": 21,
   "id": "4660bbd0",
   "metadata": {},
   "outputs": [],
   "source": [
    "def rent(w1,w2,w3,b):\n",
    "    \n",
    "   \n",
    "    for row in range(0, len(test.index)):\n",
    "        bedrooms = test.iat[row, 1]\n",
    "        bathrooms = test.iat[row, 2]\n",
    "        size_sqft = test.iat[row, 3]\n",
    "    \n",
    "        predicted = (w1 * bedrooms) + (w2 * bathrooms) + (w3 *size_sqft) + b\n",
    "    \n",
    "    return predicted"
   ]
  },
  {
   "cell_type": "code",
   "execution_count": 24,
   "id": "1da15abe",
   "metadata": {},
   "outputs": [
    {
     "name": "stdout",
     "output_type": "stream",
     "text": [
      "297.1067196179094\n"
     ]
    }
   ],
   "source": [
    "predicted =  (1.6086322282630496 * 2) + (3.2119239086874107 * 1) + (0.3872185641246365 * 750) + 0.26360815921849834\n",
    "\n",
    "\n",
    "print(predicted)"
   ]
  },
  {
   "cell_type": "code",
   "execution_count": null,
   "id": "25376fb6",
   "metadata": {},
   "outputs": [],
   "source": []
  }
 ],
 "metadata": {
  "kernelspec": {
   "display_name": "Python 3 (ipykernel)",
   "language": "python",
   "name": "python3"
  },
  "language_info": {
   "codemirror_mode": {
    "name": "ipython",
    "version": 3
   },
   "file_extension": ".py",
   "mimetype": "text/x-python",
   "name": "python",
   "nbconvert_exporter": "python",
   "pygments_lexer": "ipython3",
   "version": "3.9.12"
  }
 },
 "nbformat": 4,
 "nbformat_minor": 5
}
