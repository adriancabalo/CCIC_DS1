{
 "cells": [
  {
   "cell_type": "code",
   "execution_count": null,
   "id": "b75b7716",
   "metadata": {},
   "outputs": [
    {
     "name": "stdout",
     "output_type": "stream",
     "text": [
      "Adjective:Strong\n"
     ]
    }
   ],
   "source": [
    "\n",
    "adject1 = input(\"Adjective:\")\n",
    "food1 = input(\"Food:\")\n",
    "noun1 = input(\"Noun:\")\n",
    "verb1 = input(\"Verb:\")\n",
    "noun2= input(\"Noun:\")\n",
    "verb2 =input(\"Verb with -ing:\")\n",
    "verb3 = input(\"Verb:\")\n",
    "noun3 = input(\"Noun:\")\n",
    "noun4 = input(\"Noun:\")\n",
    "adj2 = input(\"Adjective:\")\n",
    "verb4 = input(\"Verb:\")\n",
    "verb5 = input(\"Verb:\")\n",
    "adj3 = input(\"Adjective:\")\n",
    "emo = input(\"Emotion:\")\n",
    "verb6 = input(\"Verb:\")\n",
    "noun5 = input(\"Noun:\")\n",
    "noun6 = input(\"Noun:\")\n",
    "emo2 = input(\"Emotion:\")\n",
    "adj4 = input(\"Adjective:\")\n",
    "\n",
    "\n",
    "\n",
    "\n",
    "\n",
    "\n",
    "\n",
    "print(\"Welcome to build a human!\")\n",
    "print(\"You will be building a human going on a human adventure\")\n",
    "\n",
    "\n",
    "print(\"Your human is very \" + adject1 + \" and they love to eat\" + food1)\n",
    "print(\"Their love\" + noun1 + \"because it reminds them of home\")\n",
    "print(\"This human is\" + verb1 + \"to the store because they forgot\" + noun1)\n",
    "print(\"On the way there they saw a\" + noun2 + \"and it was\" + verb2 + \" so your human\" + verb3)\n",
    "print(\"Inside the store they saw a giant\" + noun3 + \"it was buying\" + noun4 + \"and it was very\" + adj2)\n",
    "print(\"Surprised your human decides to\" + verb4 + \"in the middle of the store. The giant ends up\" + verb5)\n",
    "print(\"Your human\" + adj3 + \"runs out of the store, and suddeny\" + food1 + \"starts falling out of the sky!\")\n",
    "print(\"Your human is\" + emo + \"and starts to\" + verb6 + \"the food is all over the place!\")\n",
    "print(\"On the way home he sees a\" + noun5 + \"and begins to run after it at light speeds!\")\n",
    "print(\"When Theyches up it ends up being a\" + noun6 + \"and your human punches it for no reason!\")\n",
    "print(\"They end up walking home, \" + emo2 + \"in their adventure\")\n",
    "print(\"I hope you enjoyed that very human adventure, your human is truly\" + adj4)\n",
    "\n"
   ]
  },
  {
   "cell_type": "code",
   "execution_count": null,
   "id": "49e63655",
   "metadata": {
    "scrolled": true
   },
   "outputs": [],
   "source": []
  },
  {
   "cell_type": "code",
   "execution_count": null,
   "id": "4d91bb47",
   "metadata": {},
   "outputs": [],
   "source": []
  },
  {
   "cell_type": "code",
   "execution_count": null,
   "id": "b0969c8e",
   "metadata": {},
   "outputs": [],
   "source": []
  }
 ],
 "metadata": {
  "kernelspec": {
   "display_name": "Python 3 (ipykernel)",
   "language": "python",
   "name": "python3"
  },
  "language_info": {
   "codemirror_mode": {
    "name": "ipython",
    "version": 3
   },
   "file_extension": ".py",
   "mimetype": "text/x-python",
   "name": "python",
   "nbconvert_exporter": "python",
   "pygments_lexer": "ipython3",
   "version": "3.9.12"
  }
 },
 "nbformat": 4,
 "nbformat_minor": 5
}
