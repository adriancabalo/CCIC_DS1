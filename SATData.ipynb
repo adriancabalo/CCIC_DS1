{
 "cells": [
  {
   "cell_type": "code",
   "execution_count": 28,
   "id": "251b2914",
   "metadata": {},
   "outputs": [
    {
     "name": "stdout",
     "output_type": "stream",
     "text": [
      "<class 'pandas.core.frame.DataFrame'>\n",
      "RangeIndex: 1000 entries, 0 to 999\n",
      "Data columns (total 3 columns):\n",
      " #   Column      Non-Null Count  Dtype  \n",
      "---  ------      --------------  -----  \n",
      " 0   Unnamed: 0  1000 non-null   int64  \n",
      " 1   GPA         1000 non-null   float64\n",
      " 2   SAT         1000 non-null   int64  \n",
      "dtypes: float64(1), int64(2)\n",
      "memory usage: 23.6 KB\n"
     ]
    }
   ],
   "source": [
    "import pandas as pd\n",
    "import seaborn as sns\n",
    "import random\n",
    "import math\n",
    "from sklearn import linear_model\n",
    "\n",
    "df = pd.read_csv('SATData - SATData.csv')\n",
    "\n",
    "df.info()\n",
    "\n"
   ]
  },
  {
   "cell_type": "code",
   "execution_count": 32,
   "id": "83b7ba0e",
   "metadata": {},
   "outputs": [
    {
     "data": {
      "text/plain": [
       "Unnamed: 0     999.0\n",
       "GPA              4.5\n",
       "SAT           1440.0\n",
       "dtype: float64"
      ]
     },
     "execution_count": 32,
     "metadata": {},
     "output_type": "execute_result"
    }
   ],
   "source": [
    "df.max()"
   ]
  },
  {
   "cell_type": "code",
   "execution_count": 33,
   "id": "24d66811",
   "metadata": {},
   "outputs": [
    {
     "data": {
      "text/plain": [
       "Unnamed: 0      0.0\n",
       "GPA             1.8\n",
       "SAT           530.0\n",
       "dtype: float64"
      ]
     },
     "execution_count": 33,
     "metadata": {},
     "output_type": "execute_result"
    }
   ],
   "source": [
    "df.min()"
   ]
  },
  {
   "cell_type": "code",
   "execution_count": 34,
   "id": "ff9d485b",
   "metadata": {},
   "outputs": [
    {
     "data": {
      "text/html": [
       "<div>\n",
       "<style scoped>\n",
       "    .dataframe tbody tr th:only-of-type {\n",
       "        vertical-align: middle;\n",
       "    }\n",
       "\n",
       "    .dataframe tbody tr th {\n",
       "        vertical-align: top;\n",
       "    }\n",
       "\n",
       "    .dataframe thead th {\n",
       "        text-align: right;\n",
       "    }\n",
       "</style>\n",
       "<table border=\"1\" class=\"dataframe\">\n",
       "  <thead>\n",
       "    <tr style=\"text-align: right;\">\n",
       "      <th></th>\n",
       "      <th>Unnamed: 0</th>\n",
       "      <th>GPA</th>\n",
       "      <th>SAT</th>\n",
       "    </tr>\n",
       "  </thead>\n",
       "  <tbody>\n",
       "    <tr>\n",
       "      <th>0</th>\n",
       "      <td>0</td>\n",
       "      <td>3.4</td>\n",
       "      <td>1270</td>\n",
       "    </tr>\n",
       "    <tr>\n",
       "      <th>1</th>\n",
       "      <td>1</td>\n",
       "      <td>4.0</td>\n",
       "      <td>1220</td>\n",
       "    </tr>\n",
       "    <tr>\n",
       "      <th>2</th>\n",
       "      <td>2</td>\n",
       "      <td>3.8</td>\n",
       "      <td>1160</td>\n",
       "    </tr>\n",
       "    <tr>\n",
       "      <th>3</th>\n",
       "      <td>3</td>\n",
       "      <td>3.8</td>\n",
       "      <td>950</td>\n",
       "    </tr>\n",
       "    <tr>\n",
       "      <th>4</th>\n",
       "      <td>4</td>\n",
       "      <td>4.0</td>\n",
       "      <td>1070</td>\n",
       "    </tr>\n",
       "  </tbody>\n",
       "</table>\n",
       "</div>"
      ],
      "text/plain": [
       "   Unnamed: 0  GPA   SAT\n",
       "0           0  3.4  1270\n",
       "1           1  4.0  1220\n",
       "2           2  3.8  1160\n",
       "3           3  3.8   950\n",
       "4           4  4.0  1070"
      ]
     },
     "execution_count": 34,
     "metadata": {},
     "output_type": "execute_result"
    }
   ],
   "source": [
    "df.head()"
   ]
  },
  {
   "cell_type": "code",
   "execution_count": 35,
   "id": "fa56d61d",
   "metadata": {},
   "outputs": [],
   "source": [
    "df.drop(columns= \"Unnamed: 0\", axis = 1, inplace = True)"
   ]
  },
  {
   "cell_type": "code",
   "execution_count": 39,
   "id": "91234396",
   "metadata": {},
   "outputs": [
    {
     "data": {
      "text/plain": [
       "<AxesSubplot:xlabel='GPA', ylabel='SAT'>"
      ]
     },
     "execution_count": 39,
     "metadata": {},
     "output_type": "execute_result"
    },
    {
     "data": {
      "image/png": "[encoded data removed]",
      "text/plain": [
       "<Figure size 432x288 with 1 Axes>"
      ]
     },
     "metadata": {
      "needs_background": "light"
     },
     "output_type": "display_data"
    }
   ],
   "source": [
    "sns.regplot(x = 'GPA', y = 'SAT', data = df)\n"
   ]
  },
  {
   "cell_type": "code",
   "execution_count": 40,
   "id": "643bbc33",
   "metadata": {},
   "outputs": [
    {
     "data": {
      "text/html": [
       "<div>\n",
       "<style scoped>\n",
       "    .dataframe tbody tr th:only-of-type {\n",
       "        vertical-align: middle;\n",
       "    }\n",
       "\n",
       "    .dataframe tbody tr th {\n",
       "        vertical-align: top;\n",
       "    }\n",
       "\n",
       "    .dataframe thead th {\n",
       "        text-align: right;\n",
       "    }\n",
       "</style>\n",
       "<table border=\"1\" class=\"dataframe\">\n",
       "  <thead>\n",
       "    <tr style=\"text-align: right;\">\n",
       "      <th></th>\n",
       "      <th>Unnamed: 0</th>\n",
       "      <th>GPA</th>\n",
       "      <th>SAT</th>\n",
       "    </tr>\n",
       "  </thead>\n",
       "  <tbody>\n",
       "    <tr>\n",
       "      <th>Unnamed: 0</th>\n",
       "      <td>1.000000</td>\n",
       "      <td>-0.079774</td>\n",
       "      <td>-0.059818</td>\n",
       "    </tr>\n",
       "    <tr>\n",
       "      <th>GPA</th>\n",
       "      <td>-0.079774</td>\n",
       "      <td>1.000000</td>\n",
       "      <td>0.429649</td>\n",
       "    </tr>\n",
       "    <tr>\n",
       "      <th>SAT</th>\n",
       "      <td>-0.059818</td>\n",
       "      <td>0.429649</td>\n",
       "      <td>1.000000</td>\n",
       "    </tr>\n",
       "  </tbody>\n",
       "</table>\n",
       "</div>"
      ],
      "text/plain": [
       "            Unnamed: 0       GPA       SAT\n",
       "Unnamed: 0    1.000000 -0.079774 -0.059818\n",
       "GPA          -0.079774  1.000000  0.429649\n",
       "SAT          -0.059818  0.429649  1.000000"
      ]
     },
     "execution_count": 40,
     "metadata": {},
     "output_type": "execute_result"
    }
   ],
   "source": [
    "df.corr()"
   ]
  },
  {
   "cell_type": "code",
   "execution_count": 2,
   "id": "620648e7",
   "metadata": {},
   "outputs": [
    {
     "name": "stderr",
     "output_type": "stream",
     "text": [
      "C:\\Users\\acabalo\\AppData\\Local\\Temp\\ipykernel_15232\\1109136023.py:3: SettingWithCopyWarning: \n",
      "A value is trying to be set on a copy of a slice from a DataFrame\n",
      "\n",
      "See the caveats in the documentation: https://pandas.pydata.org/pandas-docs/stable/user_guide/indexing.html#returning-a-view-versus-a-copy\n",
      "  train.drop(columns= \"Unnamed: 0\", axis = 1, inplace = True)\n",
      "C:\\Users\\acabalo\\AppData\\Local\\Temp\\ipykernel_15232\\1109136023.py:4: SettingWithCopyWarning: \n",
      "A value is trying to be set on a copy of a slice from a DataFrame\n",
      "\n",
      "See the caveats in the documentation: https://pandas.pydata.org/pandas-docs/stable/user_guide/indexing.html#returning-a-view-versus-a-copy\n",
      "  test.drop(columns= \"Unnamed: 0\", axis = 1, inplace = True)\n"
     ]
    }
   ],
   "source": [
    "train = df.iloc[:700,:]\n",
    "test = df.iloc[700:,:]\n",
    "train.drop(columns= \"Unnamed: 0\", axis = 1, inplace = True)\n",
    "test.drop(columns= \"Unnamed: 0\", axis = 1, inplace = True)"
   ]
  },
  {
   "cell_type": "code",
   "execution_count": 5,
   "id": "26b24899",
   "metadata": {},
   "outputs": [
    {
     "name": "stdout",
     "output_type": "stream",
     "text": [
      "<class 'pandas.core.frame.DataFrame'>\n",
      "RangeIndex: 700 entries, 0 to 699\n",
      "Data columns (total 2 columns):\n",
      " #   Column  Non-Null Count  Dtype  \n",
      "---  ------  --------------  -----  \n",
      " 0   GPA     700 non-null    float64\n",
      " 1   SAT     700 non-null    int64  \n",
      "dtypes: float64(1), int64(1)\n",
      "memory usage: 11.1 KB\n"
     ]
    }
   ],
   "source": [
    "train.info()"
   ]
  },
  {
   "cell_type": "code",
   "execution_count": 3,
   "id": "405a79d3",
   "metadata": {},
   "outputs": [
    {
     "data": {
      "text/html": [
       "<div>\n",
       "<style scoped>\n",
       "    .dataframe tbody tr th:only-of-type {\n",
       "        vertical-align: middle;\n",
       "    }\n",
       "\n",
       "    .dataframe tbody tr th {\n",
       "        vertical-align: top;\n",
       "    }\n",
       "\n",
       "    .dataframe thead th {\n",
       "        text-align: right;\n",
       "    }\n",
       "</style>\n",
       "<table border=\"1\" class=\"dataframe\">\n",
       "  <thead>\n",
       "    <tr style=\"text-align: right;\">\n",
       "      <th></th>\n",
       "      <th>GPA</th>\n",
       "      <th>SAT</th>\n",
       "    </tr>\n",
       "  </thead>\n",
       "  <tbody>\n",
       "    <tr>\n",
       "      <th>0</th>\n",
       "      <td>3.4</td>\n",
       "      <td>1270</td>\n",
       "    </tr>\n",
       "    <tr>\n",
       "      <th>1</th>\n",
       "      <td>4.0</td>\n",
       "      <td>1220</td>\n",
       "    </tr>\n",
       "    <tr>\n",
       "      <th>2</th>\n",
       "      <td>3.8</td>\n",
       "      <td>1160</td>\n",
       "    </tr>\n",
       "    <tr>\n",
       "      <th>3</th>\n",
       "      <td>3.8</td>\n",
       "      <td>950</td>\n",
       "    </tr>\n",
       "    <tr>\n",
       "      <th>4</th>\n",
       "      <td>4.0</td>\n",
       "      <td>1070</td>\n",
       "    </tr>\n",
       "    <tr>\n",
       "      <th>...</th>\n",
       "      <td>...</td>\n",
       "      <td>...</td>\n",
       "    </tr>\n",
       "    <tr>\n",
       "      <th>695</th>\n",
       "      <td>2.7</td>\n",
       "      <td>970</td>\n",
       "    </tr>\n",
       "    <tr>\n",
       "      <th>696</th>\n",
       "      <td>3.5</td>\n",
       "      <td>1070</td>\n",
       "    </tr>\n",
       "    <tr>\n",
       "      <th>697</th>\n",
       "      <td>2.8</td>\n",
       "      <td>910</td>\n",
       "    </tr>\n",
       "    <tr>\n",
       "      <th>698</th>\n",
       "      <td>3.8</td>\n",
       "      <td>1220</td>\n",
       "    </tr>\n",
       "    <tr>\n",
       "      <th>699</th>\n",
       "      <td>4.0</td>\n",
       "      <td>1200</td>\n",
       "    </tr>\n",
       "  </tbody>\n",
       "</table>\n",
       "<p>700 rows × 2 columns</p>\n",
       "</div>"
      ],
      "text/plain": [
       "     GPA   SAT\n",
       "0    3.4  1270\n",
       "1    4.0  1220\n",
       "2    3.8  1160\n",
       "3    3.8   950\n",
       "4    4.0  1070\n",
       "..   ...   ...\n",
       "695  2.7   970\n",
       "696  3.5  1070\n",
       "697  2.8   910\n",
       "698  3.8  1220\n",
       "699  4.0  1200\n",
       "\n",
       "[700 rows x 2 columns]"
      ]
     },
     "execution_count": 3,
     "metadata": {},
     "output_type": "execute_result"
    }
   ],
   "source": [
    "train"
   ]
  },
  {
   "cell_type": "code",
   "execution_count": 4,
   "id": "7f970b6e",
   "metadata": {},
   "outputs": [
    {
     "data": {
      "text/html": [
       "<div>\n",
       "<style scoped>\n",
       "    .dataframe tbody tr th:only-of-type {\n",
       "        vertical-align: middle;\n",
       "    }\n",
       "\n",
       "    .dataframe tbody tr th {\n",
       "        vertical-align: top;\n",
       "    }\n",
       "\n",
       "    .dataframe thead th {\n",
       "        text-align: right;\n",
       "    }\n",
       "</style>\n",
       "<table border=\"1\" class=\"dataframe\">\n",
       "  <thead>\n",
       "    <tr style=\"text-align: right;\">\n",
       "      <th></th>\n",
       "      <th>GPA</th>\n",
       "      <th>SAT</th>\n",
       "    </tr>\n",
       "  </thead>\n",
       "  <tbody>\n",
       "    <tr>\n",
       "      <th>700</th>\n",
       "      <td>4.0</td>\n",
       "      <td>1120</td>\n",
       "    </tr>\n",
       "    <tr>\n",
       "      <th>701</th>\n",
       "      <td>3.0</td>\n",
       "      <td>1190</td>\n",
       "    </tr>\n",
       "    <tr>\n",
       "      <th>702</th>\n",
       "      <td>2.5</td>\n",
       "      <td>940</td>\n",
       "    </tr>\n",
       "    <tr>\n",
       "      <th>703</th>\n",
       "      <td>3.5</td>\n",
       "      <td>1160</td>\n",
       "    </tr>\n",
       "    <tr>\n",
       "      <th>704</th>\n",
       "      <td>2.3</td>\n",
       "      <td>920</td>\n",
       "    </tr>\n",
       "    <tr>\n",
       "      <th>...</th>\n",
       "      <td>...</td>\n",
       "      <td>...</td>\n",
       "    </tr>\n",
       "    <tr>\n",
       "      <th>995</th>\n",
       "      <td>3.7</td>\n",
       "      <td>1000</td>\n",
       "    </tr>\n",
       "    <tr>\n",
       "      <th>996</th>\n",
       "      <td>3.3</td>\n",
       "      <td>1080</td>\n",
       "    </tr>\n",
       "    <tr>\n",
       "      <th>997</th>\n",
       "      <td>3.5</td>\n",
       "      <td>1140</td>\n",
       "    </tr>\n",
       "    <tr>\n",
       "      <th>998</th>\n",
       "      <td>2.3</td>\n",
       "      <td>1200</td>\n",
       "    </tr>\n",
       "    <tr>\n",
       "      <th>999</th>\n",
       "      <td>2.7</td>\n",
       "      <td>930</td>\n",
       "    </tr>\n",
       "  </tbody>\n",
       "</table>\n",
       "<p>300 rows × 2 columns</p>\n",
       "</div>"
      ],
      "text/plain": [
       "     GPA   SAT\n",
       "700  4.0  1120\n",
       "701  3.0  1190\n",
       "702  2.5   940\n",
       "703  3.5  1160\n",
       "704  2.3   920\n",
       "..   ...   ...\n",
       "995  3.7  1000\n",
       "996  3.3  1080\n",
       "997  3.5  1140\n",
       "998  2.3  1200\n",
       "999  2.7   930\n",
       "\n",
       "[300 rows x 2 columns]"
      ]
     },
     "execution_count": 4,
     "metadata": {},
     "output_type": "execute_result"
    }
   ],
   "source": [
    "test"
   ]
  },
  {
   "cell_type": "code",
   "execution_count": 8,
   "id": "dba2533c",
   "metadata": {},
   "outputs": [],
   "source": [
    "tr = []\n",
    "te = []\n",
    "trsat = []\n",
    "tesat = []\n",
    "\n",
    "count = 0\n",
    "counter = 0\n",
    "\n",
    "for i in df[\"GPA\"]:\n",
    "    if len(tr) < 700:\n",
    "        tr.append(i)\n",
    "        count+=1\n",
    "    else:\n",
    "        te.append(i)\n",
    "        counter +=1\n",
    "        \n",
    "        \n",
    "for i in df[\"SAT\"]:\n",
    "    if len(tr) < 700:\n",
    "        trsat.append(i)\n",
    "        count+=1\n",
    "    else:\n",
    "        tesat.append(i)\n",
    "        counter +=1\n",
    "        \n",
    "\n",
    "\n",
    "train = pd.DataFrame(tr, columns = [\"GPA\"])\n",
    "test = pd.DataFrame(te, columns =[\"GPA\"]) \n",
    "    \n",
    "\n",
    "\n",
    "\n"
   ]
  },
  {
   "cell_type": "code",
   "execution_count": 25,
   "id": "c658843c",
   "metadata": {
    "scrolled": true
   },
   "outputs": [
    {
     "data": {
      "text/plain": [
       "Unnamed: 0      0.0\n",
       "GPA             1.8\n",
       "SAT           530.0\n",
       "dtype: float64"
      ]
     },
     "execution_count": 25,
     "metadata": {},
     "output_type": "execute_result"
    }
   ],
   "source": [
    "train.min()\n"
   ]
  },
  {
   "cell_type": "code",
   "execution_count": 26,
   "id": "8d9a0c31",
   "metadata": {},
   "outputs": [
    {
     "data": {
      "text/plain": [
       "Unnamed: 0     699.0\n",
       "GPA              4.5\n",
       "SAT           1440.0\n",
       "dtype: float64"
      ]
     },
     "execution_count": 26,
     "metadata": {},
     "output_type": "execute_result"
    }
   ],
   "source": [
    "train.max()"
   ]
  },
  {
   "cell_type": "code",
   "execution_count": 41,
   "id": "a1513c30",
   "metadata": {},
   "outputs": [],
   "source": [
    "slope1 = 413.63\n",
    "yInt1 = 214.55\n",
    "\n",
    "slope2 = 400 \n",
    "yInt2 = 900\n",
    "\n",
    "y = \"413.63x + 214.55\""
   ]
  },
  {
   "cell_type": "code",
   "execution_count": 45,
   "id": "57784ae5",
   "metadata": {},
   "outputs": [
    {
     "ename": "SyntaxError",
     "evalue": "unexpected EOF while parsing (1340113564.py, line 9)",
     "output_type": "error",
     "traceback": [
      "\u001b[1;36m  Input \u001b[1;32mIn [45]\u001b[1;36m\u001b[0m\n\u001b[1;33m    \u001b[0m\n\u001b[1;37m    ^\u001b[0m\n\u001b[1;31mSyntaxError\u001b[0m\u001b[1;31m:\u001b[0m unexpected EOF while parsing\n"
     ]
    }
   ],
   "source": [
    "distance = 0\n",
    "\n",
    "number = 0\n",
    "\n",
    "for i in train:\n",
    "    distance = ((413.63 * train[\"GPA\"].values[i]) + (train[\"SAT\"].values[i]) + (214.55))/(math.sqrt((413.63**2) + (train[\"SAT\"].values[i]))\n",
    "\n",
    "for i in train:\n",
    "    distance = ((413.63 * train[\"GPA\"].values[i]) + (train[\"SAT\"].values[i]) + (214.55))/(math.sqrt((413.63**2) + (train[\"SAT\"].values[i]))\n",
    "\n",
    "                                                                                          "
   ]
  },
  {
   "cell_type": "code",
   "execution_count": 19,
   "id": "1aa84d3d",
   "metadata": {},
   "outputs": [],
   "source": [
    "## Class Example\n",
    "def trainLinearRegression(train):\n",
    "    count = 0\n",
    "    slope = {} ## or slope = []\n",
    "    \n",
    "    while count < 400:\n",
    "        a = random.randint(1, 400) #Slope\n",
    "        b = 1 #Random y coefficient\n",
    "        c = 900 #Y-int\n",
    "        sum = sumOfDistances(a,b,c,train)\n",
    "        slope[a] = sum # or slope = sum\n",
    "        count = count + 1\n",
    "    \n",
    "    print(\"slope: \" + str(a))\n",
    "    print(sum)\n",
    "    print(slope)\n",
    "\n",
    "    \n",
    "    \n",
    "    "
   ]
  },
  {
   "cell_type": "code",
   "execution_count": 18,
   "id": "410df5d2",
   "metadata": {},
   "outputs": [],
   "source": [
    "## Class Examlpe\n",
    "def sumOfDistances(a, b, c, train):\n",
    "    sum = 0\n",
    "\n",
    "    for row in range(0, len(train.index)):\n",
    "        gpa = train.iat[row, 0]\n",
    "        sat = train.iat[row, 1]\n",
    "        distance = abs(((a*gpa) + (b*sat) + c)/(math.sqrt((a*a) + (b*b))))\n",
    "        sum = sum + distance\n",
    "        \n",
    "    return sum"
   ]
  },
  {
   "cell_type": "code",
   "execution_count": 17,
   "id": "a4f8f82e",
   "metadata": {},
   "outputs": [],
   "source": [
    "## My attempt\n",
    "def sumOfDistances1(a, b, c, train):\n",
    "    sum = 0\n",
    "    \n",
    "    for i in range(0, len(train.index)):\n",
    "        distance = ((a * train[\"GPA\"].values[i]) + (train[\"SAT\"].values[i]) + (b))/(math.sqrt((a**2)) + (train[\"SAT\"].values[i]**2))\n",
    "        sum = distance + sum\n",
    "\n",
    "    return sum"
   ]
  },
  {
   "cell_type": "code",
   "execution_count": 20,
   "id": "8c5e8992",
   "metadata": {},
   "outputs": [
    {
     "name": "stdout",
     "output_type": "stream",
     "text": [
      "slope: 163\n",
      "10542.44700312759\n",
      "{62: 24044.595235215405, 391: 5708.417136178461, 373: 5875.193899246954, 28: 50481.28698986057, 154: 11026.907783952873, 101: 15630.940801992598, 321: 6462.057116868827, 216: 8508.37363331573, 172: 10108.682642691649, 166: 10392.633115495173, 152: 11142.356236243259, 142: 11768.375792752227, 4: 329925.96443517425, 6: 224375.74920964206, 241: 7859.427776777725, 211: 8656.615577289733, 153: 11084.254753804504, 90: 17265.889792782236, 243: 7813.280343043387, 26: 54185.79809631815, 170: 10201.10586474703, 227: 8205.22787179973, 305: 6682.88867040736, 363: 5974.994407701843, 42: 34416.69370254103, 337: 6262.194388518856, 107: 14880.815560719799, 370: 5904.567623970631, 357: 6037.558386701568, 70: 21554.629231671617, 209: 8717.898296188268, 184: 9596.334365201075, 268: 7294.550711981222, 347: 6146.639605731944, 377: 5836.756124556359, 141: 11835.861201338683, 72: 21018.567288410566, 400: 5630.6574042231105, 272: 7220.4026736978585, 10: 136701.59231749494, 51: 28743.149637165247, 378: 5827.2737883052205, 360: 6006.015717576644, 189: 9402.056756656375, 103: 15371.190139130193, 37: 38760.13810719255, 328: 6372.2179459625095, 238: 7930.103110054804, 114: 14105.453817232792, 374: 5865.507375472226, 353: 6080.449256325552, 145: 11571.504129214263, 39: 36889.24970796233, 68: 22122.213903765238, 49: 29823.945014516, 350: 6113.260762251893, 322: 6448.983807683643, 99: 15901.184778124794, 75: 20268.065140940613, 312: 6583.487979376886, 252: 7614.681315733343, 286: 6977.217489876247, 183: 9636.463776287133, 190: 9364.428194413513, 280: 7078.4619997485415, 296: 6817.59758047544, 303: 6712.132422125583, 358: 6026.985425807286, 260: 7449.691052784751, 159: 10750.992403661028, 369: 5914.465002261503, 16: 86540.41549213184, 88: 17607.0586718557, 86: 17964.092571296038, 177: 9886.761985969992, 385: 5762.276666328396, 261: 7429.778416705931, 344: 6180.60062961579, 389: 5726.1857066228495, 339: 6238.538049075112, 375: 5855.872512490302, 267: 7313.434848229036, 109: 14649.122968826916, 397: 5656.185582750319, 132: 12489.238583006416, 12: 114464.80704702817, 102: 15499.792376972946, 203: 8908.991412830139, 308: 6639.735133888321, 345: 6169.214664139015, 46: 31621.233294374055, 343: 6192.052984556498, 41: 35200.71187437655, 140: 11904.310608194608, 157: 10859.249788233796, 115: 14002.392358122037, 129: 12727.288915999105, 2: 606338.8115400564, 204: 8876.36198206628, 348: 6135.449381371725, 36: 39773.44715364006, 45: 32273.543318539745, 17: 81600.16868138085, 228: 8179.119576405807, 249: 7679.2858626885145, 289: 6928.171673286144, 277: 7130.728984440365, 285: 6993.795544635163, 192: 9290.346909126714, 105: 15121.333288416487, 120: 13512.847478719146, 307: 6654.025937631765, 196: 9146.719727975262, 199: 9042.788339546305, 295: 6833.0726052687405, 160: 10697.878559099803, 182: 9677.034148032966, 219: 8422.677489693851, 382: 5789.840894469126, 314: 6555.901785644629, 139: 11973.744816782535, 282: 7044.235142768239, 341: 6215.159199070186, 262: 7410.017781664867, 230: 8127.584049663138, 388: 5735.138683942381, 29: 48820.280037995624, 80: 19142.27956782179, 365: 5954.5968302283445, 117: 13801.55401775251, 355: 6058.883003884199, 119: 13607.465771289028, 332: 6322.5821628328595, 359: 6016.471366377918, 317: 6515.175153703661, 161: 10645.424472014918, 342: 6203.572311313518, 156: 10914.419347731187, 398: 5647.633429633991, 258: 7489.979397637858, 168: 10295.72951321006, 331: 6334.8786426548395, 8: 169844.38388725306, 214: 8566.839178176997, 334: 6298.210094499722, 113: 14210.33914711652, 81: 18933.796656358878, 20: 69730.7909205394, 293: 6864.339543153943, 24: 58506.21870885095, 54: 27271.983394090887, 65: 23039.058260927322, 221: 8366.839233467714, 135: 12261.767308666285, 254: 7572.459423785719, 128: 12809.11847769058, 225: 8258.140660741921, 253: 7593.486929515606, 367: 5934.421566681205, 151: 11201.22722020069, 138: 12044.18523348226, 269: 7275.806974877086, 150: 11260.883094267198, 273: 7202.205161876557, 240: 7882.789906634613, 126: 12976.673857724856, 60: 24770.793184273738, 149: 11321.339660101452, 180: 9759.527168952696, 381: 5799.1254320532225, 310: 6611.430117518634, 212: 8626.407805715759, 112: 14317.097193404521, 175: 9974.00858894416, 206: 8812.053454595838, 164: 10491.900078030969, 163: 10542.44700312759, 207: 8780.365176387446, 384: 5771.41688840365, 100: 15764.711784115703, 354: 6069.635669732673, 33: 43181.36627284483, 336: 6274.128165239369, 48: 30398.095573375733, 256: 7530.8972315330075, 44: 32955.48077834136, 324: 6423.079283531541, 35: 40844.58928283554, 71: 21282.82434348722, 301: 6741.764787661372, 234: 8027.155760837977, 213: 8596.483664657642, 274: 7184.140475541106, 338: 6250.331224757769, 327: 6384.816627847919, 34: 41978.65883030919, 376: 5846.2888981207625, 276: 7148.40380447684, 133: 12412.274721598067, 362: 5985.277715628735, 7: 193333.85513656095, 61: 24401.74424818501, 14: 98523.52709466092, 326: 6397.492600975041, 220: 8394.631460866727, 380: 5808.458835011161, 178: 9843.873870152145, 247: 7723.227392714644, 94: 16627.097452068687, 176: 9930.137440965613, 205: 8844.05087450014, 76: 20031.060821165098, 283: 7027.303124766267, 232: 8076.937038314478, 210: 8687.111031045513, 387: 5744.137929316682, 5: 267222.3544875056, 187: 9478.521157977133, 352: 6091.324282864187, 233: 8051.939576134235, 364: 5964.767600696072, 30: 47269.81295014654, 98: 16040.442480999758, 246: 7745.466086373111, 106: 14999.940067357828, 392: 5699.60084212448, 158: 10804.778531679014, 202: 8941.943894114453, 162: 10593.617925677998, 193: 9253.882001934358, 329: 6359.695850550331, 74: 20511.473179616594, 366: 5944.481636990717, 55: 26817.240491808734, 57: 25955.59889165898, 320: 6475.212132830446, 298: 6786.959102405321, 399: 5639.124143958607}\n"
     ]
    }
   ],
   "source": [
    "trainLinearRegression(train) # y = 10x + 900, change the m value based on the number closest to 0, key value"
   ]
  },
  {
   "cell_type": "code",
   "execution_count": 25,
   "id": "bae8853c",
   "metadata": {},
   "outputs": [
    {
     "name": "stdout",
     "output_type": "stream",
     "text": [
      "44562.5\n"
     ]
    }
   ],
   "source": [
    "## Test\n",
    "x = 0\n",
    "    # y = mx + b\n",
    "m = 75\n",
    "b = 800\n",
    "sum = 0\n",
    "gpat = 0.0\n",
    "    \n",
    "while gpat <= 4.5:\n",
    "        \n",
    "    y = m * gpat + b\n",
    "    gpat = gpat + 0.1\n",
    "    \n",
    "    sum = y + sum\n",
    "        \n",
    "    \n",
    "print(sum)\n",
    "       \n"
   ]
  },
  {
   "cell_type": "code",
   "execution_count": 26,
   "id": "0f4f5de6",
   "metadata": {},
   "outputs": [],
   "source": [
    "def MSE(test, m, b):\n",
    "    \n",
    "    sum = 0\n",
    "\n",
    "    for row in range(0, len(train.index)):\n",
    "        gpa = test.iat[row,0]\n",
    "        actual = test.iat[row,1]\n",
    "        predicted = m * gpa + b\n",
    "        sum = sum +(predicted - actual) * (predicted - actual)\n",
    "    \n",
    "    return sum/len(test.index)\n",
    "    "
   ]
  },
  {
   "cell_type": "code",
   "execution_count": 27,
   "id": "2bd47ddf",
   "metadata": {},
   "outputs": [
    {
     "ename": "IndexError",
     "evalue": "index 300 is out of bounds for axis 0 with size 300",
     "output_type": "error",
     "traceback": [
      "\u001b[1;31m---------------------------------------------------------------------------\u001b[0m",
      "\u001b[1;31mIndexError\u001b[0m                                Traceback (most recent call last)",
      "Input \u001b[1;32mIn [27]\u001b[0m, in \u001b[0;36m<cell line: 1>\u001b[1;34m()\u001b[0m\n\u001b[1;32m----> 1\u001b[0m \u001b[38;5;28mprint\u001b[39m(\u001b[43mMSE\u001b[49m\u001b[43m(\u001b[49m\u001b[43mtest\u001b[49m\u001b[43m,\u001b[49m\u001b[38;5;241;43m162.5\u001b[39;49m\u001b[43m,\u001b[49m\u001b[38;5;241;43m530\u001b[39;49m\u001b[43m)\u001b[49m)\n",
      "Input \u001b[1;32mIn [26]\u001b[0m, in \u001b[0;36mMSE\u001b[1;34m(testDF, m, b)\u001b[0m\n\u001b[0;32m      3\u001b[0m \u001b[38;5;28msum\u001b[39m \u001b[38;5;241m=\u001b[39m \u001b[38;5;241m0\u001b[39m\n\u001b[0;32m      5\u001b[0m \u001b[38;5;28;01mfor\u001b[39;00m row \u001b[38;5;129;01min\u001b[39;00m \u001b[38;5;28mrange\u001b[39m(\u001b[38;5;241m0\u001b[39m, \u001b[38;5;28mlen\u001b[39m(train\u001b[38;5;241m.\u001b[39mindex)):\n\u001b[1;32m----> 6\u001b[0m     gpa \u001b[38;5;241m=\u001b[39m \u001b[43mtest\u001b[49m\u001b[38;5;241;43m.\u001b[39;49m\u001b[43miat\u001b[49m\u001b[43m[\u001b[49m\u001b[43mrow\u001b[49m\u001b[43m,\u001b[49m\u001b[38;5;241;43m0\u001b[39;49m\u001b[43m]\u001b[49m\n\u001b[0;32m      7\u001b[0m     actual \u001b[38;5;241m=\u001b[39m test\u001b[38;5;241m.\u001b[39miat[row,\u001b[38;5;241m1\u001b[39m]\n\u001b[0;32m      8\u001b[0m     predicted \u001b[38;5;241m=\u001b[39m m \u001b[38;5;241m*\u001b[39m gpa \u001b[38;5;241m+\u001b[39m b\n",
      "File \u001b[1;32m~\\Anaconda3\\lib\\site-packages\\pandas\\core\\indexing.py:2221\u001b[0m, in \u001b[0;36m_ScalarAccessIndexer.__getitem__\u001b[1;34m(self, key)\u001b[0m\n\u001b[0;32m   2218\u001b[0m         \u001b[38;5;28;01mraise\u001b[39;00m \u001b[38;5;167;01mValueError\u001b[39;00m(\u001b[38;5;124m\"\u001b[39m\u001b[38;5;124mInvalid call for scalar access (getting)!\u001b[39m\u001b[38;5;124m\"\u001b[39m)\n\u001b[0;32m   2220\u001b[0m key \u001b[38;5;241m=\u001b[39m \u001b[38;5;28mself\u001b[39m\u001b[38;5;241m.\u001b[39m_convert_key(key)\n\u001b[1;32m-> 2221\u001b[0m \u001b[38;5;28;01mreturn\u001b[39;00m \u001b[38;5;28;43mself\u001b[39;49m\u001b[38;5;241;43m.\u001b[39;49m\u001b[43mobj\u001b[49m\u001b[38;5;241;43m.\u001b[39;49m\u001b[43m_get_value\u001b[49m\u001b[43m(\u001b[49m\u001b[38;5;241;43m*\u001b[39;49m\u001b[43mkey\u001b[49m\u001b[43m,\u001b[49m\u001b[43m \u001b[49m\u001b[43mtakeable\u001b[49m\u001b[38;5;241;43m=\u001b[39;49m\u001b[38;5;28;43mself\u001b[39;49m\u001b[38;5;241;43m.\u001b[39;49m\u001b[43m_takeable\u001b[49m\u001b[43m)\u001b[49m\n",
      "File \u001b[1;32m~\\Anaconda3\\lib\\site-packages\\pandas\\core\\frame.py:3613\u001b[0m, in \u001b[0;36mDataFrame._get_value\u001b[1;34m(self, index, col, takeable)\u001b[0m\n\u001b[0;32m   3611\u001b[0m \u001b[38;5;28;01mif\u001b[39;00m takeable:\n\u001b[0;32m   3612\u001b[0m     series \u001b[38;5;241m=\u001b[39m \u001b[38;5;28mself\u001b[39m\u001b[38;5;241m.\u001b[39m_ixs(col, axis\u001b[38;5;241m=\u001b[39m\u001b[38;5;241m1\u001b[39m)\n\u001b[1;32m-> 3613\u001b[0m     \u001b[38;5;28;01mreturn\u001b[39;00m \u001b[43mseries\u001b[49m\u001b[38;5;241;43m.\u001b[39;49m\u001b[43m_values\u001b[49m\u001b[43m[\u001b[49m\u001b[43mindex\u001b[49m\u001b[43m]\u001b[49m\n\u001b[0;32m   3615\u001b[0m series \u001b[38;5;241m=\u001b[39m \u001b[38;5;28mself\u001b[39m\u001b[38;5;241m.\u001b[39m_get_item_cache(col)\n\u001b[0;32m   3616\u001b[0m engine \u001b[38;5;241m=\u001b[39m \u001b[38;5;28mself\u001b[39m\u001b[38;5;241m.\u001b[39mindex\u001b[38;5;241m.\u001b[39m_engine\n",
      "\u001b[1;31mIndexError\u001b[0m: index 300 is out of bounds for axis 0 with size 300"
     ]
    }
   ],
   "source": [
    "print(MSE(test,162.5,530))"
   ]
  },
  {
   "cell_type": "code",
   "execution_count": 36,
   "id": "22d2b368",
   "metadata": {},
   "outputs": [
    {
     "ename": "ValueError",
     "evalue": "Expected 2D array, got 1D array instead:\narray=[3.4 4.  3.8 3.8 4.  4.  2.8 3.8 4.  2.6 3.8 3.8 2.8 3.8 3.5 3.8 3.2 4.\n 3.8 4.  4.  3.3 3.9 3.5 3.5 2.  4.  2.3 3.5 3.5 4.  3.8 3.  4.  2.8 2.8\n 3.5 3.8 2.  3.8 2.8 3.  2.3 3.5 3.  3.  2.7 3.  3.8 3.1 3.  3.  3.  3.3\n 3.2 3.8 2.5 4.  3.8 3.5 2.9 2.9 2.3 2.8 4.  4.  3.8 4.  3.3 2.7 3.5 3.\n 3.3 2.8 3.  2.5 2.8 3.5 3.3 4.  3.5 3.  3.5 3.8 4.  3.  3.5 4.  4.  3.8\n 3.3 3.8 3.  2.5 4.  3.8 4.  2.7 3.5 3.2 3.5 2.8 3.4 2.8 2.  4.  4.  3.9\n 3.  3.  4.  2.  3.  3.7 4.  3.8 2.5 3.  3.5 4.  4.  3.8 3.5 3.8 3.  2.3\n 3.8 4.  3.8 3.  4.  4.  2.6 2.8 2.5 2.5 3.8 3.5 4.  4.  3.3 3.2 3.8 2.8\n 3.8 4.  3.8 3.8 3.3 3.  3.5 3.  3.  3.5 3.7 2.4 3.5 2.  3.  3.5 4.  4.\n 3.  4.  4.  3.5 4.  2.  3.7 4.  2.8 3.3 3.8 2.8 2.3 3.  2.3 2.5 2.  3.2\n 2.5 2.5 3.  4.  2.5 2.3 2.9 2.8 3.  3.2 3.  3.4 4.  3.5 3.3 3.4 2.8 2.\n 2.3 2.5 3.5 2.3 2.2 2.5 2.  2.5 2.7 2.3 4.  3.  3.8 2.8 3.  4.  2.8 4.\n 2.7 4.  4.  3.  3.  2.6 3.3 4.  3.  4.  4.  3.8 2.8 3.8 3.3 3.8 3.5 2.3\n 2.  3.5 3.3 3.8 3.8 4.  2.8 3.8 3.3 3.7 3.1 3.  3.8 3.  3.  3.8 4.  2.3\n 3.8 2.5 4.  3.  3.3 3.5 4.  3.5 4.  4.  3.5 3.4 3.6 4.  3.  3.4 3.8 4.\n 3.8 4.  3.8 3.  3.  2.2 3.3 3.3 2.8 3.3 2.1 3.4 2.4 3.7 2.7 3.5 3.6 2.5\n 4.  3.3 3.1 2.1 2.8 3.5 3.1 2.9 2.8 4.  2.8 3.3 2.5 2.7 2.3 2.6 2.8 2.8\n 2.5 3.8 2.7 3.3 2.3 3.2 2.9 2.8 3.4 2.5 3.8 3.3 3.2 3.3 2.6 3.1 3.1 3.2\n 3.8 3.3 2.8 3.5 2.2 2.8 3.3 3.  3.7 2.9 2.7 2.8 3.7 3.  3.5 4.  3.8 3.5\n 2.9 3.5 2.8 2.8 3.2 3.2 2.7 3.  2.4 4.  3.  2.1 2.8 2.  2.8 2.9 2.5 3.1\n 2.8 3.1 3.  3.1 3.7 2.9 2.5 3.4 4.  3.8 3.8 3.4 3.5 3.5 3.5 2.7 2.9 2.5\n 2.8 4.  2.7 3.5 4.  2.9 3.2 3.7 2.7 2.7 3.  3.5 3.2 2.8 2.5 2.5 3.3 3.3\n 2.4 3.2 3.  2.6 2.4 3.5 3.7 2.7 3.  3.1 3.2 3.7 3.9 3.8 3.1 2.9 4.  4.\n 2.6 2.9 2.8 3.3 2.7 2.4 2.5 3.4 3.9 3.4 2.5 2.9 3.  2.5 3.8 3.6 2.3 3.4\n 3.5 4.  2.8 2.9 4.  3.7 2.8 2.7 2.5 3.4 3.  3.8 3.7 3.7 3.6 3.4 4.  3.2\n 3.2 2.6 3.9 2.7 2.5 2.6 2.9 2.8 3.7 2.9 3.3 3.8 2.2 3.3 2.7 2.9 2.8 3.8\n 3.3 3.1 2.9 2.8 2.6 2.9 3.5 3.8 2.9 3.3 3.3 3.2 2.9 3.5 3.3 3.4 3.7 2.9\n 2.7 3.8 3.8 3.7 3.8 2.8 4.  4.  2.7 2.2 3.7 2.9 3.4 2.6 4.  3.9 3.7 3.9\n 2.8 2.5 3.4 3.7 3.9 2.5 3.5 2.8 4.  2.4 3.5 3.8 3.8 3.2 3.2 3.5 2.3 3.\n 2.3 2.3 2.1 3.7 4.  3.9 3.  3.8 3.7 3.8 3.2 3.4 3.2 3.4 3.1 3.7 3.3 2.1\n 2.5 2.8 2.9 3.1 2.1 3.1 2.8 3.5 3.8 3.4 2.8 2.6 3.  2.6 3.1 3.4 3.1 3.4\n 3.8 3.7 3.3 3.4 2.7 3.5 3.8 3.2 3.  3.5 3.2 3.2 3.1 3.6 2.5 3.5 3.1 3.\n 3.2 2.5 2.6 3.5 2.6 3.5 3.7 3.7 2.7 3.3 3.5 3.7 2.7 2.6 1.8 3.5 3.1 2.7\n 2.8 3.6 3.5 3.3 3.2 2.8 3.7 3.9 3.1 3.7 3.1 3.3 2.6 2.8 3.6 3.8 3.5 4.5\n 3.9 3.4 3.  2.5 3.5 4.  3.5 4.  2.7 3.3 3.8 3.8 2.5 2.5 3.3 3.5 4.  4.\n 2.5 3.  2.8 4.  2.7 3.5 3.3 2.7 3.  3.  2.6 3.5 2.3 2.3 4.  3.5 2.8 3.4\n 3.  3.  3.3 3.3 3.5 2.7 2.8 2.1 3.3 2.4 2.6 2.2 3.8 3.1 3.7 2.8 3.6 2.\n 2.8 4.  4.  3.7 4.  2.5 2.3 3.  3.5 3.3 3.2 3.  3.  2.6 3.4 3.6 3.3 3.6\n 3.8 2.8 2.4 2.7 2.8 2.5 3.2 4.  4.  2.7 3.  2.7 3.5 2.8 3.8 4. ].\nReshape your data either using array.reshape(-1, 1) if your data has a single feature or array.reshape(1, -1) if it contains a single sample.",
     "output_type": "error",
     "traceback": [
      "\u001b[1;31m---------------------------------------------------------------------------\u001b[0m",
      "\u001b[1;31mValueError\u001b[0m                                Traceback (most recent call last)",
      "Input \u001b[1;32mIn [36]\u001b[0m, in \u001b[0;36m<cell line: 3>\u001b[1;34m()\u001b[0m\n\u001b[0;32m      1\u001b[0m regr \u001b[38;5;241m=\u001b[39m linear_model\u001b[38;5;241m.\u001b[39mLinearRegression()\n\u001b[1;32m----> 3\u001b[0m \u001b[43mregr\u001b[49m\u001b[38;5;241;43m.\u001b[39;49m\u001b[43mfit\u001b[49m\u001b[43m(\u001b[49m\u001b[43mtrain\u001b[49m\u001b[43m[\u001b[49m\u001b[38;5;124;43m'\u001b[39;49m\u001b[38;5;124;43mGPA\u001b[39;49m\u001b[38;5;124;43m'\u001b[39;49m\u001b[43m]\u001b[49m\u001b[43m,\u001b[49m\u001b[43m \u001b[49m\u001b[43mtrain\u001b[49m\u001b[43m[\u001b[49m\u001b[38;5;124;43m'\u001b[39;49m\u001b[38;5;124;43mSAT\u001b[39;49m\u001b[38;5;124;43m'\u001b[39;49m\u001b[43m]\u001b[49m\u001b[43m)\u001b[49m\n",
      "File \u001b[1;32m~\\Anaconda3\\lib\\site-packages\\sklearn\\linear_model\\_base.py:662\u001b[0m, in \u001b[0;36mLinearRegression.fit\u001b[1;34m(self, X, y, sample_weight)\u001b[0m\n\u001b[0;32m    658\u001b[0m n_jobs_ \u001b[38;5;241m=\u001b[39m \u001b[38;5;28mself\u001b[39m\u001b[38;5;241m.\u001b[39mn_jobs\n\u001b[0;32m    660\u001b[0m accept_sparse \u001b[38;5;241m=\u001b[39m \u001b[38;5;28;01mFalse\u001b[39;00m \u001b[38;5;28;01mif\u001b[39;00m \u001b[38;5;28mself\u001b[39m\u001b[38;5;241m.\u001b[39mpositive \u001b[38;5;28;01melse\u001b[39;00m [\u001b[38;5;124m\"\u001b[39m\u001b[38;5;124mcsr\u001b[39m\u001b[38;5;124m\"\u001b[39m, \u001b[38;5;124m\"\u001b[39m\u001b[38;5;124mcsc\u001b[39m\u001b[38;5;124m\"\u001b[39m, \u001b[38;5;124m\"\u001b[39m\u001b[38;5;124mcoo\u001b[39m\u001b[38;5;124m\"\u001b[39m]\n\u001b[1;32m--> 662\u001b[0m X, y \u001b[38;5;241m=\u001b[39m \u001b[38;5;28;43mself\u001b[39;49m\u001b[38;5;241;43m.\u001b[39;49m\u001b[43m_validate_data\u001b[49m\u001b[43m(\u001b[49m\n\u001b[0;32m    663\u001b[0m \u001b[43m    \u001b[49m\u001b[43mX\u001b[49m\u001b[43m,\u001b[49m\u001b[43m \u001b[49m\u001b[43my\u001b[49m\u001b[43m,\u001b[49m\u001b[43m \u001b[49m\u001b[43maccept_sparse\u001b[49m\u001b[38;5;241;43m=\u001b[39;49m\u001b[43maccept_sparse\u001b[49m\u001b[43m,\u001b[49m\u001b[43m \u001b[49m\u001b[43my_numeric\u001b[49m\u001b[38;5;241;43m=\u001b[39;49m\u001b[38;5;28;43;01mTrue\u001b[39;49;00m\u001b[43m,\u001b[49m\u001b[43m \u001b[49m\u001b[43mmulti_output\u001b[49m\u001b[38;5;241;43m=\u001b[39;49m\u001b[38;5;28;43;01mTrue\u001b[39;49;00m\n\u001b[0;32m    664\u001b[0m \u001b[43m\u001b[49m\u001b[43m)\u001b[49m\n\u001b[0;32m    666\u001b[0m \u001b[38;5;28;01mif\u001b[39;00m sample_weight \u001b[38;5;129;01mis\u001b[39;00m \u001b[38;5;129;01mnot\u001b[39;00m \u001b[38;5;28;01mNone\u001b[39;00m:\n\u001b[0;32m    667\u001b[0m     sample_weight \u001b[38;5;241m=\u001b[39m _check_sample_weight(sample_weight, X, dtype\u001b[38;5;241m=\u001b[39mX\u001b[38;5;241m.\u001b[39mdtype)\n",
      "File \u001b[1;32m~\\Anaconda3\\lib\\site-packages\\sklearn\\base.py:581\u001b[0m, in \u001b[0;36mBaseEstimator._validate_data\u001b[1;34m(self, X, y, reset, validate_separately, **check_params)\u001b[0m\n\u001b[0;32m    579\u001b[0m         y \u001b[38;5;241m=\u001b[39m check_array(y, \u001b[38;5;241m*\u001b[39m\u001b[38;5;241m*\u001b[39mcheck_y_params)\n\u001b[0;32m    580\u001b[0m     \u001b[38;5;28;01melse\u001b[39;00m:\n\u001b[1;32m--> 581\u001b[0m         X, y \u001b[38;5;241m=\u001b[39m check_X_y(X, y, \u001b[38;5;241m*\u001b[39m\u001b[38;5;241m*\u001b[39mcheck_params)\n\u001b[0;32m    582\u001b[0m     out \u001b[38;5;241m=\u001b[39m X, y\n\u001b[0;32m    584\u001b[0m \u001b[38;5;28;01mif\u001b[39;00m \u001b[38;5;129;01mnot\u001b[39;00m no_val_X \u001b[38;5;129;01mand\u001b[39;00m check_params\u001b[38;5;241m.\u001b[39mget(\u001b[38;5;124m\"\u001b[39m\u001b[38;5;124mensure_2d\u001b[39m\u001b[38;5;124m\"\u001b[39m, \u001b[38;5;28;01mTrue\u001b[39;00m):\n",
      "File \u001b[1;32m~\\Anaconda3\\lib\\site-packages\\sklearn\\utils\\validation.py:964\u001b[0m, in \u001b[0;36mcheck_X_y\u001b[1;34m(X, y, accept_sparse, accept_large_sparse, dtype, order, copy, force_all_finite, ensure_2d, allow_nd, multi_output, ensure_min_samples, ensure_min_features, y_numeric, estimator)\u001b[0m\n\u001b[0;32m    961\u001b[0m \u001b[38;5;28;01mif\u001b[39;00m y \u001b[38;5;129;01mis\u001b[39;00m \u001b[38;5;28;01mNone\u001b[39;00m:\n\u001b[0;32m    962\u001b[0m     \u001b[38;5;28;01mraise\u001b[39;00m \u001b[38;5;167;01mValueError\u001b[39;00m(\u001b[38;5;124m\"\u001b[39m\u001b[38;5;124my cannot be None\u001b[39m\u001b[38;5;124m\"\u001b[39m)\n\u001b[1;32m--> 964\u001b[0m X \u001b[38;5;241m=\u001b[39m \u001b[43mcheck_array\u001b[49m\u001b[43m(\u001b[49m\n\u001b[0;32m    965\u001b[0m \u001b[43m    \u001b[49m\u001b[43mX\u001b[49m\u001b[43m,\u001b[49m\n\u001b[0;32m    966\u001b[0m \u001b[43m    \u001b[49m\u001b[43maccept_sparse\u001b[49m\u001b[38;5;241;43m=\u001b[39;49m\u001b[43maccept_sparse\u001b[49m\u001b[43m,\u001b[49m\n\u001b[0;32m    967\u001b[0m \u001b[43m    \u001b[49m\u001b[43maccept_large_sparse\u001b[49m\u001b[38;5;241;43m=\u001b[39;49m\u001b[43maccept_large_sparse\u001b[49m\u001b[43m,\u001b[49m\n\u001b[0;32m    968\u001b[0m \u001b[43m    \u001b[49m\u001b[43mdtype\u001b[49m\u001b[38;5;241;43m=\u001b[39;49m\u001b[43mdtype\u001b[49m\u001b[43m,\u001b[49m\n\u001b[0;32m    969\u001b[0m \u001b[43m    \u001b[49m\u001b[43morder\u001b[49m\u001b[38;5;241;43m=\u001b[39;49m\u001b[43morder\u001b[49m\u001b[43m,\u001b[49m\n\u001b[0;32m    970\u001b[0m \u001b[43m    \u001b[49m\u001b[43mcopy\u001b[49m\u001b[38;5;241;43m=\u001b[39;49m\u001b[43mcopy\u001b[49m\u001b[43m,\u001b[49m\n\u001b[0;32m    971\u001b[0m \u001b[43m    \u001b[49m\u001b[43mforce_all_finite\u001b[49m\u001b[38;5;241;43m=\u001b[39;49m\u001b[43mforce_all_finite\u001b[49m\u001b[43m,\u001b[49m\n\u001b[0;32m    972\u001b[0m \u001b[43m    \u001b[49m\u001b[43mensure_2d\u001b[49m\u001b[38;5;241;43m=\u001b[39;49m\u001b[43mensure_2d\u001b[49m\u001b[43m,\u001b[49m\n\u001b[0;32m    973\u001b[0m \u001b[43m    \u001b[49m\u001b[43mallow_nd\u001b[49m\u001b[38;5;241;43m=\u001b[39;49m\u001b[43mallow_nd\u001b[49m\u001b[43m,\u001b[49m\n\u001b[0;32m    974\u001b[0m \u001b[43m    \u001b[49m\u001b[43mensure_min_samples\u001b[49m\u001b[38;5;241;43m=\u001b[39;49m\u001b[43mensure_min_samples\u001b[49m\u001b[43m,\u001b[49m\n\u001b[0;32m    975\u001b[0m \u001b[43m    \u001b[49m\u001b[43mensure_min_features\u001b[49m\u001b[38;5;241;43m=\u001b[39;49m\u001b[43mensure_min_features\u001b[49m\u001b[43m,\u001b[49m\n\u001b[0;32m    976\u001b[0m \u001b[43m    \u001b[49m\u001b[43mestimator\u001b[49m\u001b[38;5;241;43m=\u001b[39;49m\u001b[43mestimator\u001b[49m\u001b[43m,\u001b[49m\n\u001b[0;32m    977\u001b[0m \u001b[43m\u001b[49m\u001b[43m)\u001b[49m\n\u001b[0;32m    979\u001b[0m y \u001b[38;5;241m=\u001b[39m _check_y(y, multi_output\u001b[38;5;241m=\u001b[39mmulti_output, y_numeric\u001b[38;5;241m=\u001b[39my_numeric)\n\u001b[0;32m    981\u001b[0m check_consistent_length(X, y)\n",
      "File \u001b[1;32m~\\Anaconda3\\lib\\site-packages\\sklearn\\utils\\validation.py:769\u001b[0m, in \u001b[0;36mcheck_array\u001b[1;34m(array, accept_sparse, accept_large_sparse, dtype, order, copy, force_all_finite, ensure_2d, allow_nd, ensure_min_samples, ensure_min_features, estimator)\u001b[0m\n\u001b[0;32m    767\u001b[0m     \u001b[38;5;66;03m# If input is 1D raise error\u001b[39;00m\n\u001b[0;32m    768\u001b[0m     \u001b[38;5;28;01mif\u001b[39;00m array\u001b[38;5;241m.\u001b[39mndim \u001b[38;5;241m==\u001b[39m \u001b[38;5;241m1\u001b[39m:\n\u001b[1;32m--> 769\u001b[0m         \u001b[38;5;28;01mraise\u001b[39;00m \u001b[38;5;167;01mValueError\u001b[39;00m(\n\u001b[0;32m    770\u001b[0m             \u001b[38;5;124m\"\u001b[39m\u001b[38;5;124mExpected 2D array, got 1D array instead:\u001b[39m\u001b[38;5;130;01m\\n\u001b[39;00m\u001b[38;5;124marray=\u001b[39m\u001b[38;5;132;01m{}\u001b[39;00m\u001b[38;5;124m.\u001b[39m\u001b[38;5;130;01m\\n\u001b[39;00m\u001b[38;5;124m\"\u001b[39m\n\u001b[0;32m    771\u001b[0m             \u001b[38;5;124m\"\u001b[39m\u001b[38;5;124mReshape your data either using array.reshape(-1, 1) if \u001b[39m\u001b[38;5;124m\"\u001b[39m\n\u001b[0;32m    772\u001b[0m             \u001b[38;5;124m\"\u001b[39m\u001b[38;5;124myour data has a single feature or array.reshape(1, -1) \u001b[39m\u001b[38;5;124m\"\u001b[39m\n\u001b[0;32m    773\u001b[0m             \u001b[38;5;124m\"\u001b[39m\u001b[38;5;124mif it contains a single sample.\u001b[39m\u001b[38;5;124m\"\u001b[39m\u001b[38;5;241m.\u001b[39mformat(array)\n\u001b[0;32m    774\u001b[0m         )\n\u001b[0;32m    776\u001b[0m \u001b[38;5;66;03m# make sure we actually converted to numeric:\u001b[39;00m\n\u001b[0;32m    777\u001b[0m \u001b[38;5;28;01mif\u001b[39;00m dtype_numeric \u001b[38;5;129;01mand\u001b[39;00m array\u001b[38;5;241m.\u001b[39mdtype\u001b[38;5;241m.\u001b[39mkind \u001b[38;5;129;01min\u001b[39;00m \u001b[38;5;124m\"\u001b[39m\u001b[38;5;124mOUSV\u001b[39m\u001b[38;5;124m\"\u001b[39m:\n",
      "\u001b[1;31mValueError\u001b[0m: Expected 2D array, got 1D array instead:\narray=[3.4 4.  3.8 3.8 4.  4.  2.8 3.8 4.  2.6 3.8 3.8 2.8 3.8 3.5 3.8 3.2 4.\n 3.8 4.  4.  3.3 3.9 3.5 3.5 2.  4.  2.3 3.5 3.5 4.  3.8 3.  4.  2.8 2.8\n 3.5 3.8 2.  3.8 2.8 3.  2.3 3.5 3.  3.  2.7 3.  3.8 3.1 3.  3.  3.  3.3\n 3.2 3.8 2.5 4.  3.8 3.5 2.9 2.9 2.3 2.8 4.  4.  3.8 4.  3.3 2.7 3.5 3.\n 3.3 2.8 3.  2.5 2.8 3.5 3.3 4.  3.5 3.  3.5 3.8 4.  3.  3.5 4.  4.  3.8\n 3.3 3.8 3.  2.5 4.  3.8 4.  2.7 3.5 3.2 3.5 2.8 3.4 2.8 2.  4.  4.  3.9\n 3.  3.  4.  2.  3.  3.7 4.  3.8 2.5 3.  3.5 4.  4.  3.8 3.5 3.8 3.  2.3\n 3.8 4.  3.8 3.  4.  4.  2.6 2.8 2.5 2.5 3.8 3.5 4.  4.  3.3 3.2 3.8 2.8\n 3.8 4.  3.8 3.8 3.3 3.  3.5 3.  3.  3.5 3.7 2.4 3.5 2.  3.  3.5 4.  4.\n 3.  4.  4.  3.5 4.  2.  3.7 4.  2.8 3.3 3.8 2.8 2.3 3.  2.3 2.5 2.  3.2\n 2.5 2.5 3.  4.  2.5 2.3 2.9 2.8 3.  3.2 3.  3.4 4.  3.5 3.3 3.4 2.8 2.\n 2.3 2.5 3.5 2.3 2.2 2.5 2.  2.5 2.7 2.3 4.  3.  3.8 2.8 3.  4.  2.8 4.\n 2.7 4.  4.  3.  3.  2.6 3.3 4.  3.  4.  4.  3.8 2.8 3.8 3.3 3.8 3.5 2.3\n 2.  3.5 3.3 3.8 3.8 4.  2.8 3.8 3.3 3.7 3.1 3.  3.8 3.  3.  3.8 4.  2.3\n 3.8 2.5 4.  3.  3.3 3.5 4.  3.5 4.  4.  3.5 3.4 3.6 4.  3.  3.4 3.8 4.\n 3.8 4.  3.8 3.  3.  2.2 3.3 3.3 2.8 3.3 2.1 3.4 2.4 3.7 2.7 3.5 3.6 2.5\n 4.  3.3 3.1 2.1 2.8 3.5 3.1 2.9 2.8 4.  2.8 3.3 2.5 2.7 2.3 2.6 2.8 2.8\n 2.5 3.8 2.7 3.3 2.3 3.2 2.9 2.8 3.4 2.5 3.8 3.3 3.2 3.3 2.6 3.1 3.1 3.2\n 3.8 3.3 2.8 3.5 2.2 2.8 3.3 3.  3.7 2.9 2.7 2.8 3.7 3.  3.5 4.  3.8 3.5\n 2.9 3.5 2.8 2.8 3.2 3.2 2.7 3.  2.4 4.  3.  2.1 2.8 2.  2.8 2.9 2.5 3.1\n 2.8 3.1 3.  3.1 3.7 2.9 2.5 3.4 4.  3.8 3.8 3.4 3.5 3.5 3.5 2.7 2.9 2.5\n 2.8 4.  2.7 3.5 4.  2.9 3.2 3.7 2.7 2.7 3.  3.5 3.2 2.8 2.5 2.5 3.3 3.3\n 2.4 3.2 3.  2.6 2.4 3.5 3.7 2.7 3.  3.1 3.2 3.7 3.9 3.8 3.1 2.9 4.  4.\n 2.6 2.9 2.8 3.3 2.7 2.4 2.5 3.4 3.9 3.4 2.5 2.9 3.  2.5 3.8 3.6 2.3 3.4\n 3.5 4.  2.8 2.9 4.  3.7 2.8 2.7 2.5 3.4 3.  3.8 3.7 3.7 3.6 3.4 4.  3.2\n 3.2 2.6 3.9 2.7 2.5 2.6 2.9 2.8 3.7 2.9 3.3 3.8 2.2 3.3 2.7 2.9 2.8 3.8\n 3.3 3.1 2.9 2.8 2.6 2.9 3.5 3.8 2.9 3.3 3.3 3.2 2.9 3.5 3.3 3.4 3.7 2.9\n 2.7 3.8 3.8 3.7 3.8 2.8 4.  4.  2.7 2.2 3.7 2.9 3.4 2.6 4.  3.9 3.7 3.9\n 2.8 2.5 3.4 3.7 3.9 2.5 3.5 2.8 4.  2.4 3.5 3.8 3.8 3.2 3.2 3.5 2.3 3.\n 2.3 2.3 2.1 3.7 4.  3.9 3.  3.8 3.7 3.8 3.2 3.4 3.2 3.4 3.1 3.7 3.3 2.1\n 2.5 2.8 2.9 3.1 2.1 3.1 2.8 3.5 3.8 3.4 2.8 2.6 3.  2.6 3.1 3.4 3.1 3.4\n 3.8 3.7 3.3 3.4 2.7 3.5 3.8 3.2 3.  3.5 3.2 3.2 3.1 3.6 2.5 3.5 3.1 3.\n 3.2 2.5 2.6 3.5 2.6 3.5 3.7 3.7 2.7 3.3 3.5 3.7 2.7 2.6 1.8 3.5 3.1 2.7\n 2.8 3.6 3.5 3.3 3.2 2.8 3.7 3.9 3.1 3.7 3.1 3.3 2.6 2.8 3.6 3.8 3.5 4.5\n 3.9 3.4 3.  2.5 3.5 4.  3.5 4.  2.7 3.3 3.8 3.8 2.5 2.5 3.3 3.5 4.  4.\n 2.5 3.  2.8 4.  2.7 3.5 3.3 2.7 3.  3.  2.6 3.5 2.3 2.3 4.  3.5 2.8 3.4\n 3.  3.  3.3 3.3 3.5 2.7 2.8 2.1 3.3 2.4 2.6 2.2 3.8 3.1 3.7 2.8 3.6 2.\n 2.8 4.  4.  3.7 4.  2.5 2.3 3.  3.5 3.3 3.2 3.  3.  2.6 3.4 3.6 3.3 3.6\n 3.8 2.8 2.4 2.7 2.8 2.5 3.2 4.  4.  2.7 3.  2.7 3.5 2.8 3.8 4. ].\nReshape your data either using array.reshape(-1, 1) if your data has a single feature or array.reshape(1, -1) if it contains a single sample."
     ]
    }
   ],
   "source": [
    "regr = linear_model.LinearRegression()\n",
    "\n",
    "regr.fit(train['GPA'], train['SAT'])"
   ]
  },
  {
   "cell_type": "code",
   "execution_count": null,
   "id": "c8e676e3",
   "metadata": {},
   "outputs": [],
   "source": []
  }
 ],
 "metadata": {
  "kernelspec": {
   "display_name": "Python 3 (ipykernel)",
   "language": "python",
   "name": "python3"
  },
  "language_info": {
   "codemirror_mode": {
    "name": "ipython",
    "version": 3
   },
   "file_extension": ".py",
   "mimetype": "text/x-python",
   "name": "python",
   "nbconvert_exporter": "python",
   "pygments_lexer": "ipython3",
   "version": "3.9.12"
  }
 },
 "nbformat": 4,
 "nbformat_minor": 5
}
