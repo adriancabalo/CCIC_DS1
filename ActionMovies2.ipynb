{
 "cells": [
  {
   "cell_type": "code",
   "execution_count": 123,
   "id": "f6fda955",
   "metadata": {},
   "outputs": [],
   "source": [
    " # to hide TMDB API keys\n",
    "import pandas as pandas\n",
    "import requests # to make TMDB API calls\n",
    "import locale # to format currency as USD\n",
    "locale.setlocale( locale.LC_ALL, '' )\n",
    "import seaborn as sns\n",
    "import pandas as pd\n",
    "import matplotlib\n",
    "import matplotlib.pyplot as plt\n",
    "from matplotlib.ticker import FuncFormatter # to format currency on charts axis\n",
    "\n",
    "api_key= '87983fbe976988a9e22330ebf030a1ae'\n"
   ]
  },
  {
   "cell_type": "code",
   "execution_count": 124,
   "id": "459e831f",
   "metadata": {},
   "outputs": [],
   "source": [
    "response = requests.get('https://api.themoviedb.org/3/discover/movie?api_key=' +  api_key + '&sort_by=revenue.desc&with_genre=28')"
   ]
  },
  {
   "cell_type": "code",
   "execution_count": 125,
   "id": "2c889cd6",
   "metadata": {},
   "outputs": [],
   "source": [
    "highest_revenue = response.json() # store parsed json response\n",
    "\n",
    "# uncomment the next line to get a peek at the highest_revenue json structure\n",
    "# highest_revenue\n",
    "\n",
    "highest_revenue_films = highest_revenue['results']"
   ]
  },
  {
   "cell_type": "code",
   "execution_count": null,
   "id": "defc0607",
   "metadata": {},
   "outputs": [],
   "source": []
  },
  {
   "cell_type": "code",
   "execution_count": 199,
   "id": "c789bfc6",
   "metadata": {},
   "outputs": [],
   "source": [
    "# define column names for our new dataframe\n",
    "columns = ['film', 'revenue']\n",
    "\n",
    "# create dataframe with film and revenue columns\n",
    "df = pandas.DataFrame(columns=columns)"
   ]
  },
  {
   "cell_type": "code",
   "execution_count": 200,
   "id": "89b55241",
   "metadata": {},
   "outputs": [],
   "source": [
    "def getDirectors():\n",
    "    directorList = []\n",
    "    for film in highest_revenue_films:\n",
    "        movieDetails = requests.get('https://api.themoviedb.org/3/movie/'+ str(film['id']) +'/credits?api_key='+ api_key+'&language=en-US&sort_by=revenue.desc&with_genre=28')\n",
    "        movieDetails = movieDetails.json()\n",
    "        for i in movieDetails['crew']:\n",
    "            if i['job'] == 'Director':\n",
    "                directorList.append(i['name'])\n",
    "    return directorList"
   ]
  },
  {
   "cell_type": "code",
   "execution_count": 188,
   "id": "309837f1",
   "metadata": {},
   "outputs": [
    {
     "name": "stdout",
     "output_type": "stream",
     "text": [
      "['Jude Walker', 'James Cameron', 'Anthony Russo', 'Joe Russo', 'James Cameron', 'J.J. Abrams', 'Anthony Russo', 'Joe Russo', 'Jon Watts', 'Colin Trevorrow', 'Jon Favreau', 'Joss Whedon', 'James Wan', 'Barry Markle', 'Joseph Kosinski', 'Chris Buck', 'Jennifer Lee', 'Joss Whedon', 'Ryan Coogler', 'David Yates', 'Rian Johnson', 'J. A. Bayona', 'Chris Buck', 'Jennifer Lee']\n"
     ]
    }
   ],
   "source": [
    "directors = getDirectors()\n",
    "print(directors)"
   ]
  },
  {
   "cell_type": "code",
   "execution_count": 201,
   "id": "fc312586",
   "metadata": {},
   "outputs": [],
   "source": [
    "def leadActor():\n",
    "    actorList = []\n",
    "    for film in highest_revenue_films:\n",
    "        movieDetails = requests.get('https://api.themoviedb.org/3/movie/'+ str(film['id']) +'/credits?api_key='+ api_key+'&language=en-US&sort_by=revenue.desc&with_genre=28')\n",
    "        movieDetails = movieDetails.json()\n",
    "        for i in movieDetails['crew']:\n",
    "            if i['known_for_department'] == 'Acting':\n",
    "                actorList.append(i['name'])\n",
    "    return actorList"
   ]
  },
  {
   "cell_type": "code",
   "execution_count": 196,
   "id": "267310a8",
   "metadata": {},
   "outputs": [
    {
     "name": "stdout",
     "output_type": "stream",
     "text": [
      "['Dwayne Johnson', 'Woody Schultz', 'Ilram Choi', 'Simone Bargetze', 'Mark Ginther', 'Terry Notary', 'Reuben Langdon', 'Christopher Ivins', 'Luke Hawker', 'Alicia Vela-Bailey', 'Nickolas Stevens', 'Steve Upton', 'Laurel Devenie', 'Stuart Thorp', 'Nito Larioza', 'James Willingham III', 'Stella Angelova', 'Min Windle', 'Rodney Cook', 'Peter Lyon', 'Atanas Atanasov', 'Francis Biggs', 'Daniel Falconer', 'Greg Tozer', 'Jon Favreau', 'Zelda Tinska', 'Terry Notary', 'Terry Notary', 'Jimmy Ray Pickens', 'Mike Lutz', 'Lloyd Pitts', 'Anna Majewski', 'Anna Majewski', 'Mark Fisher', 'Nate Andrade', 'Akihiro Haga', 'Paul Chandler', 'Jackson Spidell', 'Lisa Walsh', 'Maria Hippolyte', 'Steven Brown', 'Harrison Osterfield', 'Juan Alonso', 'Céline Dion', 'Simon Pegg', 'Tom Reynolds', 'Jasmin Moradian', 'Adam J. Bernard', 'Jon Favreau', 'Alexander St. Pierre', 'Mike Lutz', 'Natapon Huangsakuncharoen', 'Jeff Comfort', 'Riki LeCotey', 'Dean Labossiere', 'Jackson Spidell', 'Hans Georg Struhar', 'Sarah Stauffer', 'Alexandra Di Giacomo', 'Harrison Osterfield', 'Sabbir Ahmed', 'Jennifer Elmore', 'Kenneth Wong Chan', 'Greg Townley', 'Lloyd Pitts', 'Joe Quesada', 'Sergio Garcia', 'Martin Klebba', 'Keith Jardine', 'Tim Bell', 'Tim Connolly', 'Raymond Mamrak', 'Vince Young', 'Taryn Terrell', 'Zero Kazama', 'Charles Haugk', 'Timothy Eulich', 'Patrick Kearns', 'Codie Scott', 'Cody Daniel', 'Michael Jamorski', 'Greg Rementer', 'Kasim Saul', 'Elton John', 'Jon Favreau', 'Jon Favreau', 'Jon Favreau', 'Lauren Petzke', 'Natapon Huangsakuncharoen', 'Samuel Pactol', 'Kevin LaRosa Jr.', 'Stephanie De Meautis', 'Paul Walker', 'Vin Diesel', 'F. Valentino Morales', 'Jace Jeanes', 'Wiz Khalifa', 'Wiz Khalifa', 'Skylar Grey', 'Skylar Grey', 'Charlie Puth', 'Charlie Puth', 'Tom Cruise', 'T Bone Burnett', 'Michelle Lee', 'Chad Smith', 'Austin Priester', 'Lady Gaga', 'Michael J. Fisher', 'Jared Chandler', 'Steffen Dziczek', 'Russell Coutts', 'Kevin LaRosa Jr.', 'Kevin LaRosa Jr.', 'Ryan Tedder', 'Tina Guo', 'Zarah Kulczycki', 'Courtney Coker', 'Brian Ferguson', 'Brian Ferguson', 'Byron Howard', 'Leah Latham', 'Jon Favreau', 'Tariq Anam Khan', 'Neil Fingleton', 'Natapon Huangsakuncharoen', 'Paul Chandler', 'Mike Farr', 'Jane Oshita', 'Kendrick Lamar', 'Kendrick Lamar', 'Charline St. Charles', 'Nate Moore', 'Hunter Elliott', 'John Buscema', 'Joe Quesada', 'Aakomon Jones', 'Constance Ejuma', 'T. Love', 'Jason Bomstein', 'Charles Lai', 'Andile Nebulane', 'Eric Stewart', 'Janeshia Adams-Ginyard', 'Erika T. Johnson', 'Brionna Maria Lynch', 'Maria Hippolyte', 'Maria Hippolyte', 'Marie Mouroum', 'Mark Texeira', 'Jessica Nam', 'Meredith Stedman', 'Ayami Sakaeda', 'Denisha Gillespie', 'Carrie Bernans', 'Jade Gordon', 'Nellie Burroughes', 'Nellie Burroughes', 'Greg Burridge', 'Amanda Foster', 'Hannah Jones', 'Carrie Fisher', 'Nick Mitchell', 'Adrian Derrick-Palmer', 'Jane Ryan', 'Brian L. Keaulana', 'Paul Howell', 'Ray Nicholas', 'Danko Jordanov', 'C.C. Smiff', 'Radoslav Parvanov', 'Rachelle Beinart', 'Charles Haugk', 'Evangelos Grecos', 'Joe Kennard', 'Laurent Plancel', 'Joe Watts', 'Nito Larioza', 'Kasim Saul', 'Stephen Bacquet', 'Josh Dyer', 'Brian Nickels', 'Danny Kim', 'Kamil Lemieszewski', 'Daniel Naprous', 'John Macdonald', 'Tom Rodgers', 'Rick English', 'Lukaz Leong', 'Aden Stay', 'Jack Jagodka', 'Jess Lundgren', 'Charlotte Williams', 'Warner Loughlin', 'Dara McGarry', 'Lynwood Robinson', 'Mike Navarro', 'Leah Latham']\n"
     ]
    }
   ],
   "source": [
    "actors = leadActor()\n",
    "print(actors)"
   ]
  },
  {
   "cell_type": "code",
   "execution_count": 210,
   "id": "54c43515",
   "metadata": {},
   "outputs": [],
   "source": [
    "\n",
    "for film in highest_revenue_films:\n",
    "    #print(film['title']    \n",
    "    film_revenue = requests.get('https://api.themoviedb.org/3/movie/'+ str(film['id']) +'?api_key='+ api_key+'&language=en-US&sort_by=revenue.desc&with_genre=28')\n",
    "    film_revenue = film_revenue.json()\n",
    "    movieDetails = requests.get('https://api.themoviedb.org/3/movie/'+ str(film['id']) +'/credits?api_key='+ api_key+'&language=en-US')\n",
    "    movieDetails = movieDetails.json()\n",
    "    directors = movieDetails['crew']\n",
    "    #print(locale.currency(film_revenue['revenue'], grouping=True ))\n",
    "    df.loc[len(df)]=[film['title'], film_revenue['revenue']] # store title and revenue in our dataframe    "
   ]
  },
  {
   "cell_type": "code",
   "execution_count": 212,
   "id": "8921f721",
   "metadata": {},
   "outputs": [
    {
     "data": {
      "text/html": [
       "<div>\n",
       "<style scoped>\n",
       "    .dataframe tbody tr th:only-of-type {\n",
       "        vertical-align: middle;\n",
       "    }\n",
       "\n",
       "    .dataframe tbody tr th {\n",
       "        vertical-align: top;\n",
       "    }\n",
       "\n",
       "    .dataframe thead th {\n",
       "        text-align: right;\n",
       "    }\n",
       "</style>\n",
       "<table border=\"1\" class=\"dataframe\">\n",
       "  <thead>\n",
       "    <tr style=\"text-align: right;\">\n",
       "      <th></th>\n",
       "      <th>film</th>\n",
       "      <th>revenue</th>\n",
       "    </tr>\n",
       "  </thead>\n",
       "  <tbody>\n",
       "    <tr>\n",
       "      <th>1</th>\n",
       "      <td>Avatar</td>\n",
       "      <td>2920357254</td>\n",
       "    </tr>\n",
       "    <tr>\n",
       "      <th>2</th>\n",
       "      <td>Avengers: Endgame</td>\n",
       "      <td>2797800564</td>\n",
       "    </tr>\n",
       "    <tr>\n",
       "      <th>3</th>\n",
       "      <td>Titanic</td>\n",
       "      <td>2187463944</td>\n",
       "    </tr>\n",
       "    <tr>\n",
       "      <th>4</th>\n",
       "      <td>Star Wars: The Force Awakens</td>\n",
       "      <td>2068223624</td>\n",
       "    </tr>\n",
       "    <tr>\n",
       "      <th>5</th>\n",
       "      <td>Avengers: Infinity War</td>\n",
       "      <td>2046239637</td>\n",
       "    </tr>\n",
       "    <tr>\n",
       "      <th>6</th>\n",
       "      <td>Spider-Man: No Way Home</td>\n",
       "      <td>1916050941</td>\n",
       "    </tr>\n",
       "    <tr>\n",
       "      <th>7</th>\n",
       "      <td>Jurassic World</td>\n",
       "      <td>1671713208</td>\n",
       "    </tr>\n",
       "    <tr>\n",
       "      <th>8</th>\n",
       "      <td>The Lion King</td>\n",
       "      <td>1667635327</td>\n",
       "    </tr>\n",
       "    <tr>\n",
       "      <th>9</th>\n",
       "      <td>The Avengers</td>\n",
       "      <td>1518815515</td>\n",
       "    </tr>\n",
       "    <tr>\n",
       "      <th>10</th>\n",
       "      <td>Furious 7</td>\n",
       "      <td>1515047671</td>\n",
       "    </tr>\n",
       "  </tbody>\n",
       "</table>\n",
       "</div>"
      ],
      "text/plain": [
       "                            film     revenue\n",
       "1                         Avatar  2920357254\n",
       "2              Avengers: Endgame  2797800564\n",
       "3                        Titanic  2187463944\n",
       "4   Star Wars: The Force Awakens  2068223624\n",
       "5         Avengers: Infinity War  2046239637\n",
       "6        Spider-Man: No Way Home  1916050941\n",
       "7                 Jurassic World  1671713208\n",
       "8                  The Lion King  1667635327\n",
       "9                   The Avengers  1518815515\n",
       "10                     Furious 7  1515047671"
      ]
     },
     "execution_count": 212,
     "metadata": {},
     "output_type": "execute_result"
    }
   ],
   "source": [
    "df.head(10)"
   ]
  },
  {
   "cell_type": "code",
   "execution_count": 208,
   "id": "0dd1744f",
   "metadata": {},
   "outputs": [],
   "source": [
    "rev = df['revenue']\n",
    "tit = df['film']"
   ]
  },
  {
   "cell_type": "code",
   "execution_count": null,
   "id": "3f78d3da",
   "metadata": {},
   "outputs": [],
   "source": []
  },
  {
   "cell_type": "code",
   "execution_count": 209,
   "id": "9d12a387",
   "metadata": {},
   "outputs": [
    {
     "data": {
      "text/plain": [
       "<AxesSubplot:xlabel='revenue', ylabel='film'>"
      ]
     },
     "execution_count": 209,
     "metadata": {},
     "output_type": "execute_result"
    },
    {
     "data": {
      "image/png": "[encoded data removed]",
      "text/plain": [
       "<Figure size 432x288 with 1 Axes>"
      ]
     },
     "metadata": {},
     "output_type": "display_data"
    }
   ],
   "source": [
    "sns.barplot(x = rev, y = tit, data = df)"
   ]
  },
  {
   "cell_type": "code",
   "execution_count": null,
   "id": "66c9066a",
   "metadata": {},
   "outputs": [],
   "source": [
    "\n"
   ]
  },
  {
   "cell_type": "code",
   "execution_count": null,
   "id": "d86e570f",
   "metadata": {},
   "outputs": [],
   "source": []
  }
 ],
 "metadata": {
  "kernelspec": {
   "display_name": "Python 3 (ipykernel)",
   "language": "python",
   "name": "python3"
  },
  "language_info": {
   "codemirror_mode": {
    "name": "ipython",
    "version": 3
   },
   "file_extension": ".py",
   "mimetype": "text/x-python",
   "name": "python",
   "nbconvert_exporter": "python",
   "pygments_lexer": "ipython3",
   "version": "3.9.12"
  }
 },
 "nbformat": 4,
 "nbformat_minor": 5
}
