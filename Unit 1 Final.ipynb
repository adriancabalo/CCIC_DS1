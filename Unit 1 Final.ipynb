{
 "cells": [
  {
   "cell_type": "code",
   "execution_count": 1,
   "id": "31b16116",
   "metadata": {},
   "outputs": [
    {
     "name": "stdout",
     "output_type": "stream",
     "text": [
      "Sorted array: \n",
      "-999424, -893881, -880924, -854962, -826574, -813433, -795751, -772450, -753055, -723828, -636258, -586596, -574460, -482899, -466080, -433113, -399273, -395404, -372525, -365597, -364652, -351955, -322185, -299955, -298269, -271077, -253988, -247779, -227876, -115195, -63806, -63805, -55306, -30906, -12630, 24204, 24927, 59460, 74816, 114610, 116588, 125305, 130706, 178276, 213067, 264435, 290646, 298249, 320959, 337251, 349390, 421074, 426040, 432286, 463629, 522387, 555385, 652358, 658626, 671274, 675582, 827229, 877942, 990450, \n",
      "\n",
      " 1542\n"
     ]
    }
   ],
   "source": [
    "\n",
    "import tracemalloc\n",
    "import random\n",
    "\n",
    "randomlist = []\n",
    "for i in range(0,64):\n",
    "    n = random.randint(-1000000,1000000)\n",
    "    randomlist.append(n)\n",
    "#print(randomlist)\n",
    "\n",
    "randomlist = \n",
    "\n",
    "\n",
    "\n",
    "\n",
    "count = 0\n",
    "\n",
    "\n",
    "def binarySearch(a, item, low, high):\n",
    "    global count\n",
    "    while (low <= high):\n",
    "        mid = low + (high - low) // 2\n",
    "        count += 1\n",
    "        if (item == a[mid]):\n",
    "            count += 1\n",
    "            return mid + 1\n",
    "        elif (item > a[mid]):\n",
    "            count += 1\n",
    "            low = mid + 1\n",
    "        else:\n",
    "            high = mid - 1\n",
    "    return low\n",
    "      \n",
    "\n",
    "def insertionSort(a, n):\n",
    "    global count\n",
    "    for i in range (n): \n",
    "        j = i - 1\n",
    "        selected = a[i]\n",
    "          \n",
    "        \n",
    "        loc = binarySearch(a, selected, 0, j)\n",
    "          \n",
    "        \n",
    "        while (j >= loc):\n",
    "            a[j + 1] = a[j]\n",
    "            j-=1\n",
    "            count+=1\n",
    "        a[j + 1] = selected\n",
    "        \n",
    "\n",
    "a = randomlist\n",
    "n = len(a)\n",
    "\n",
    "insertionSort(a, n)\n",
    "\n",
    "print(\"Sorted array: \")\n",
    "for i in range (n):\n",
    "   print(a[i], end=\", \")\n",
    "\n",
    "#prints the count for each of the comparison operators\n",
    "print(\"\\n\\n\", count)\n"
   ]
  },
  {
   "cell_type": "markdown",
   "id": "94ebe390",
   "metadata": {},
   "source": []
  },
  {
   "cell_type": "code",
   "execution_count": null,
   "id": "3016a3e4",
   "metadata": {},
   "outputs": [],
   "source": []
  },
  {
   "cell_type": "code",
   "execution_count": null,
   "id": "43ca719b",
   "metadata": {},
   "outputs": [],
   "source": []
  },
  {
   "cell_type": "code",
   "execution_count": null,
   "id": "f0a314bc",
   "metadata": {},
   "outputs": [],
   "source": []
  },
  {
   "cell_type": "code",
   "execution_count": null,
   "id": "9f4efa8b",
   "metadata": {},
   "outputs": [],
   "source": []
  },
  {
   "cell_type": "code",
   "execution_count": null,
   "id": "e2ba4ec3",
   "metadata": {},
   "outputs": [],
   "source": []
  }
 ],
 "metadata": {
  "kernelspec": {
   "display_name": "Python 3 (ipykernel)",
   "language": "python",
   "name": "python3"
  },
  "language_info": {
   "codemirror_mode": {
    "name": "ipython",
    "version": 3
   },
   "file_extension": ".py",
   "mimetype": "text/x-python",
   "name": "python",
   "nbconvert_exporter": "python",
   "pygments_lexer": "ipython3",
   "version": "3.9.12"
  }
 },
 "nbformat": 4,
 "nbformat_minor": 5
}
