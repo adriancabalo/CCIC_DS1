{
 "cells": [
  {
   "cell_type": "code",
   "execution_count": null,
   "id": "31b16116",
   "metadata": {},
   "outputs": [],
   "source": [
    "\n",
    "import tracemalloc\n",
    "import random\n",
    "\n",
    "randomlist = []\n",
    "for i in range(0,131072):\n",
    "    n = random.randint(-1000000,1000000)\n",
    "    randomlist.append(n)\n",
    "#print(randomlist)\n",
    "\n",
    "\n",
    "#randomlist =\n",
    "\n",
    "def binarySearch(a, item, low, high):\n",
    "    while (low <= high):\n",
    "        mid = low + (high - low) // 2\n",
    "        if (item == a[mid]):\n",
    "            return mid + 1\n",
    "        elif (item > a[mid]):\n",
    "            low = mid + 1\n",
    "        else:\n",
    "            high = mid - 1\n",
    "    return low\n",
    "      \n",
    "\n",
    "def insertionSort(a, n):\n",
    "    for i in range (n): \n",
    "        j = i - 1\n",
    "        selected = a[i]\n",
    "          \n",
    "        \n",
    "        loc = binarySearch(a, selected, 0, j)\n",
    "          \n",
    "        \n",
    "        while (j >= loc):\n",
    "            a[j + 1] = a[j]\n",
    "            j-=1\n",
    "        a[j + 1] = selected\n",
    "  \n",
    "\n",
    "a = randomlist\n",
    "n = len(a)\n",
    "\n",
    "\n",
    "tracemalloc.start()\n",
    "x1,y1 = tracemalloc.get_traced_memory()\n",
    "insertionSort(a, n)\n",
    "x2,y2 = tracemalloc.get_traced_memory()\n",
    "tracemalloc.stop()\n",
    "\n",
    "print(\"Sorted array: \")\n",
    "for i in range (n):\n",
    "    print(a[i], end=\", \")\n",
    "\n",
    "\n",
    "print(\"\\n\",y2 - y1)\n"
   ]
  },
  {
   "cell_type": "markdown",
   "id": "94ebe390",
   "metadata": {},
   "source": []
  },
  {
   "cell_type": "code",
   "execution_count": null,
   "id": "3016a3e4",
   "metadata": {},
   "outputs": [],
   "source": []
  },
  {
   "cell_type": "code",
   "execution_count": null,
   "id": "43ca719b",
   "metadata": {},
   "outputs": [],
   "source": []
  },
  {
   "cell_type": "code",
   "execution_count": null,
   "id": "f0a314bc",
   "metadata": {},
   "outputs": [],
   "source": []
  },
  {
   "cell_type": "code",
   "execution_count": null,
   "id": "9f4efa8b",
   "metadata": {},
   "outputs": [],
   "source": []
  },
  {
   "cell_type": "code",
   "execution_count": null,
   "id": "e2ba4ec3",
   "metadata": {},
   "outputs": [],
   "source": []
  }
 ],
 "metadata": {
  "kernelspec": {
   "display_name": "Python 3 (ipykernel)",
   "language": "python",
   "name": "python3"
  },
  "language_info": {
   "codemirror_mode": {
    "name": "ipython",
    "version": 3
   },
   "file_extension": ".py",
   "mimetype": "text/x-python",
   "name": "python",
   "nbconvert_exporter": "python",
   "pygments_lexer": "ipython3",
   "version": "3.9.12"
  }
 },
 "nbformat": 4,
 "nbformat_minor": 5
}
