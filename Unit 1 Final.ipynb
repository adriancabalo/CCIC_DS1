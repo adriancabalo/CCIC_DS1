{
 "cells": [
  {
   "cell_type": "code",
   "execution_count": 2,
   "id": "31b16116",
   "metadata": {},
   "outputs": [
    {
     "name": "stdout",
     "output_type": "stream",
     "text": [
      "Sorted array: \n",
      "-968212, -966575, -966359, -935085, -893132, -785510, -783007, -768382, -696526, -655386, -596375, -551418, -538750, -516857, -477813, -468389, -435155, -408900, -359527, -350851, -245369, -166289, -109843, -77517, -61270, 68567, 106945, 135809, 199602, 221140, 222410, 304334, 344905, 364482, 364519, 410990, 426316, 474226, 521248, 549193, 588492, 601419, 646739, 661848, 671117, 673221, 680518, 700918, 715482, 732998, 735385, 740043, 741386, 742199, 790417, 797252, 817876, 818894, 826347, 843117, 878990, 932531, 979772, 980913, \n",
      "\n",
      " 642\n"
     ]
    }
   ],
   "source": [
    "\n",
    "import tracemalloc\n",
    "import random\n",
    "\n",
    "randomlist = []\n",
    "for i in range(0,64):\n",
    "    n = random.randint(-1000000,1000000)\n",
    "    randomlist.append(n)\n",
    "#print(randomlist)\n",
    "\n",
    "randomlist =\n",
    "\n",
    "\n",
    "\n",
    "\n",
    "count = 0\n",
    "\n",
    "\n",
    "def binarySearch(a, item, low, high):\n",
    "    global count\n",
    "    while (low <= high):\n",
    "        mid = low + (high - low) // 2\n",
    "        count += 1\n",
    "        if (item == a[mid]):\n",
    "            count += 1\n",
    "            return mid + 1\n",
    "        elif (item > a[mid]):\n",
    "            count += 1\n",
    "            low = mid + 1\n",
    "        else:\n",
    "            high = mid - 1\n",
    "    return low\n",
    "      \n",
    "\n",
    "def insertionSort(a, n):\n",
    "    global count\n",
    "    for i in range (n): \n",
    "        j = i - 1\n",
    "        selected = a[i]\n",
    "          \n",
    "        \n",
    "        loc = binarySearch(a, selected, 0, j)\n",
    "          \n",
    "        \n",
    "        while (j >= loc):\n",
    "            a[j + 1] = a[j]\n",
    "            j-=1\n",
    "            count+=1\n",
    "        a[j + 1] = selected\n",
    "        \n",
    "\n",
    "a = randomlist\n",
    "n = len(a)\n",
    "\n",
    "insertionSort(a, n)\n",
    "\n",
    "print(\"Sorted array: \")\n",
    "for i in range (n):\n",
    "   print(a[i], end=\", \")\n",
    "\n",
    "#prints the count for each of the comparison operators\n",
    "print(\"\\n\\n\", count)\n"
   ]
  },
  {
   "cell_type": "markdown",
   "id": "94ebe390",
   "metadata": {},
   "source": []
  },
  {
   "cell_type": "code",
   "execution_count": null,
   "id": "3016a3e4",
   "metadata": {},
   "outputs": [],
   "source": []
  },
  {
   "cell_type": "code",
   "execution_count": null,
   "id": "43ca719b",
   "metadata": {},
   "outputs": [],
   "source": []
  },
  {
   "cell_type": "code",
   "execution_count": null,
   "id": "f0a314bc",
   "metadata": {},
   "outputs": [],
   "source": []
  },
  {
   "cell_type": "code",
   "execution_count": null,
   "id": "9f4efa8b",
   "metadata": {},
   "outputs": [],
   "source": []
  },
  {
   "cell_type": "code",
   "execution_count": null,
   "id": "e2ba4ec3",
   "metadata": {},
   "outputs": [],
   "source": []
  }
 ],
 "metadata": {
  "kernelspec": {
   "display_name": "Python 3 (ipykernel)",
   "language": "python",
   "name": "python3"
  },
  "language_info": {
   "codemirror_mode": {
    "name": "ipython",
    "version": 3
   },
   "file_extension": ".py",
   "mimetype": "text/x-python",
   "name": "python",
   "nbconvert_exporter": "python",
   "pygments_lexer": "ipython3",
   "version": "3.9.12"
  }
 },
 "nbformat": 4,
 "nbformat_minor": 5
}
