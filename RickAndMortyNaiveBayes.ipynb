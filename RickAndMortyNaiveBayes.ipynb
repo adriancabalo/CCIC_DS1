{
 "cells": [
  {
   "cell_type": "code",
   "execution_count": 2,
   "id": "518f7d05",
   "metadata": {},
   "outputs": [],
   "source": [
    "import pandas as pd\n",
    "import string\n",
    "\n",
    "df = pd.read_csv(\"RickAndMortyScripts.csv\")\n",
    "\n",
    "df = df.dropna(axis=0)\n",
    "\n",
    "df.line = df.line.str.lower()\n",
    "\n",
    "# with open('stopWords.txt') as file:\n",
    "#    stopWords = [word.rstrip() for word in file]\n",
    "    \n",
    "#df['line'] = df['line'].str.replace('[^\\w\\s]','')\n"
   ]
  },
  {
   "cell_type": "code",
   "execution_count": 3,
   "id": "cfa8c7d2",
   "metadata": {},
   "outputs": [],
   "source": [
    "df = df.drop(['index','season no.','episode no.','episode name'], axis =1)"
   ]
  },
  {
   "cell_type": "code",
   "execution_count": null,
   "id": "950aa83e",
   "metadata": {},
   "outputs": [],
   "source": []
  },
  {
   "cell_type": "code",
   "execution_count": 4,
   "id": "94b3c731",
   "metadata": {},
   "outputs": [
    {
     "data": {
      "text/plain": [
       "Rick                      420\n",
       "Morty                     347\n",
       "Beth                      148\n",
       "Jerry                     132\n",
       "Summer                     97\n",
       "Pickle Rick                77\n",
       "Supernova                  44\n",
       "Cop Morty                  34\n",
       "All Ricks                  32\n",
       "Mr. Goldenfold             28\n",
       "President                  27\n",
       "Cop Rick                   26\n",
       "Testicle Monster A         26\n",
       "Principal Vagina           25\n",
       "Cornvelious Daniel         22\n",
       "Snuffles                   22\n",
       "Dr. Wong                   21\n",
       "Drunk Rick                 21\n",
       "Agency Director            20\n",
       "Alan                       19\n",
       "Candidate Morty            18\n",
       "Vance                      17\n",
       "Scary Terry                17\n",
       "Jessica                    16\n",
       "All Mortys                 15\n",
       "Million Ants               15\n",
       "Riq IV                     13\n",
       "Ice-T                      13\n",
       "Morty 2                    13\n",
       "All Summers                13\n",
       "Campaign Manager Morty     12\n",
       "Alien Doctor               12\n",
       "Lizard Morty               11\n",
       "Cromulon                   10\n",
       "Nathan                     10\n",
       "Slick                      10\n",
       "Brad                       10\n",
       "Young Rick                  9\n",
       "Glasses Morty               9\n",
       "Rick J-22                   9\n",
       "Vet                         9\n",
       "Birdperson                  9\n",
       "Mrs. Pancakes               8\n",
       "Announcer                   8\n",
       "Teacher Rick                8\n",
       "Morty 1                     8\n",
       "Narrator                    8\n",
       "Summer 1                    7\n",
       "Name: name, dtype: int64"
      ]
     },
     "execution_count": 4,
     "metadata": {},
     "output_type": "execute_result"
    }
   ],
   "source": [
    "df['name'].value_counts()"
   ]
  },
  {
   "cell_type": "code",
   "execution_count": 5,
   "id": "865c22df",
   "metadata": {},
   "outputs": [
    {
     "name": "stdout",
     "output_type": "stream",
     "text": [
      "{'the': 197, 'you': 184, 'to': 184, 'i': 182, 'a': 179}\n"
     ]
    }
   ],
   "source": [
    "with open('stopWords.txt') as file:\n",
    "    stopWords = [word.rstrip() for word in file]\n",
    "\n",
    "def getTopRickWords(df, commonWords, numWords):\n",
    "    rickWords = {}\n",
    "    for idx in range(len(df.index)):\n",
    "        if df.iat[idx,0] == 'Rick':\n",
    "            message = df.iat[idx,1]\n",
    "            message = message.split()\n",
    "            for word in message:\n",
    "            #    if word not in stopWords:\n",
    "                    if word not in rickWords:                      \n",
    "                        rickWords[word] = 1\n",
    "                    else:\n",
    "                        rickWords[word] = rickWords[word] + 1\n",
    "                        \n",
    "                        \n",
    "    rickWords = sorted(rickWords.items(), key = lambda x:x[1], reverse = True)\n",
    "   \n",
    "                        \n",
    "    return dict(rickWords[:numWords])\n",
    "\n",
    "rickResult = getTopRickWords(df,stopWords, 5)\n",
    "\n",
    "print(rickResult)"
   ]
  },
  {
   "cell_type": "code",
   "execution_count": 6,
   "id": "9f6e04d9",
   "metadata": {},
   "outputs": [
    {
     "name": "stdout",
     "output_type": "stream",
     "text": [
      "{'you': 112, 'i': 77, 'the': 75, 'a': 67, 'to': 60}\n"
     ]
    }
   ],
   "source": [
    "def getTopMortyWords(df, commonWords, numWords):\n",
    "    mortyWords = {}\n",
    "    for idx in range(len(df.index)):\n",
    "        if df.iat[idx,0] == 'Morty':\n",
    "            message = df.iat[idx,1]\n",
    "            message = message.split()\n",
    "            for word in message:\n",
    "            #    if word not in stopWords:\n",
    "                    if word not in mortyWords:                      \n",
    "                        mortyWords[word] = 1\n",
    "                    else:\n",
    "                        mortyWords[word] = mortyWords[word] + 1\n",
    "                        \n",
    "                        \n",
    "                        \n",
    "    mortyWords = sorted(mortyWords.items(), key = lambda x:x[1], reverse = True)\n",
    "    #topSpam = mortyWords[:numWords]\n",
    "                        \n",
    "    return dict(mortyWords[:numWords])\n",
    "\n",
    "\n",
    "mortyResult = getTopMortyWords(df, stopWords, 5)\n",
    "\n",
    "print(mortyResult)"
   ]
  },
  {
   "cell_type": "code",
   "execution_count": 7,
   "id": "45b53590",
   "metadata": {},
   "outputs": [
    {
     "name": "stdout",
     "output_type": "stream",
     "text": [
      "{'you': 56, 'i': 45, 'to': 45, 'the': 37, 'a': 36}\n"
     ]
    }
   ],
   "source": [
    "def getTopBethWords(df, commonWords, numWords):\n",
    "    bethWords = {}\n",
    "    for idx in range(len(df.index)):\n",
    "        if df.iat[idx,0] == 'Beth':\n",
    "            message = df.iat[idx,1]\n",
    "            message = message.split()\n",
    "            for word in message:\n",
    "            #    if word not in stopWords:\n",
    "                    if word not in bethWords:                      \n",
    "                        bethWords[word] = 1\n",
    "                    else:\n",
    "                        bethWords[word] = bethWords[word] + 1\n",
    "                        \n",
    "                        \n",
    "                        \n",
    "    bethWords = sorted(bethWords.items(), key = lambda x:x[1], reverse = True)\n",
    "   # topSpam = bethWords[:numWords]\n",
    "                        \n",
    "    return dict(bethWords[:numWords])\n",
    "\n",
    "bethResult = getTopBethWords(df, stopWords, 5)\n",
    "\n",
    "print(bethResult)"
   ]
  },
  {
   "cell_type": "code",
   "execution_count": 8,
   "id": "5df1c6fc",
   "metadata": {},
   "outputs": [],
   "source": [
    "def rickvectorize(df, top):\n",
    "  vectors = []\n",
    "  for i in range(len(df.index)):\n",
    "    message = df.iat[i, 1]\n",
    "    message = message.split()\n",
    "    vector = []\n",
    "    for word in top:\n",
    "        if word in message:\n",
    "            vector.append(1)\n",
    "        else:\n",
    "            vector.append(0)\n",
    "    vectors.append(vector)\n",
    "  \n",
    "  df['RickVectors'] = vectors\n",
    "\n",
    "rickvectorize(df, rickResult)\n"
   ]
  },
  {
   "cell_type": "code",
   "execution_count": 9,
   "id": "e2baa15e",
   "metadata": {},
   "outputs": [],
   "source": [
    "def mortyvectorize(df, top):\n",
    "  vectors = []\n",
    "  for i in range(len(df.index)):\n",
    "    message = df.iat[i, 1]\n",
    "    message = message.split()\n",
    "    vector = []\n",
    "    for word in top:\n",
    "        if word in message:\n",
    "            vector.append(1)\n",
    "        else:\n",
    "            vector.append(0)\n",
    "    vectors.append(vector)\n",
    "  \n",
    "  df['MortyVectors'] = vectors\n",
    "\n",
    "mortyvectorize(df, mortyResult)"
   ]
  },
  {
   "cell_type": "code",
   "execution_count": 10,
   "id": "33bb4080",
   "metadata": {},
   "outputs": [],
   "source": [
    "def bethvectorize(df, top):\n",
    "  vectors = []\n",
    "  for i in range(len(df.index)):\n",
    "    message = df.iat[i, 1]\n",
    "    message = message.split()\n",
    "    vector = []\n",
    "    for word in top:\n",
    "        if word in message:\n",
    "            vector.append(1)\n",
    "        else:\n",
    "            vector.append(0)\n",
    "    vectors.append(vector)\n",
    "  \n",
    "  df['BethVectors'] = vectors\n",
    "\n",
    "bethvectorize(df, bethResult)"
   ]
  },
  {
   "cell_type": "code",
   "execution_count": 11,
   "id": "9764d51d",
   "metadata": {},
   "outputs": [
    {
     "data": {
      "text/html": [
       "<div>\n",
       "<style scoped>\n",
       "    .dataframe tbody tr th:only-of-type {\n",
       "        vertical-align: middle;\n",
       "    }\n",
       "\n",
       "    .dataframe tbody tr th {\n",
       "        vertical-align: top;\n",
       "    }\n",
       "\n",
       "    .dataframe thead th {\n",
       "        text-align: right;\n",
       "    }\n",
       "</style>\n",
       "<table border=\"1\" class=\"dataframe\">\n",
       "  <thead>\n",
       "    <tr style=\"text-align: right;\">\n",
       "      <th></th>\n",
       "      <th>name</th>\n",
       "      <th>line</th>\n",
       "      <th>RickVectors</th>\n",
       "      <th>MortyVectors</th>\n",
       "      <th>BethVectors</th>\n",
       "    </tr>\n",
       "  </thead>\n",
       "  <tbody>\n",
       "    <tr>\n",
       "      <th>0</th>\n",
       "      <td>Rick</td>\n",
       "      <td>morty! you gotta come on. jus'... you gotta co...</td>\n",
       "      <td>[0, 1, 0, 0, 0]</td>\n",
       "      <td>[1, 0, 0, 0, 0]</td>\n",
       "      <td>[1, 0, 0, 0, 0]</td>\n",
       "    </tr>\n",
       "    <tr>\n",
       "      <th>1</th>\n",
       "      <td>Morty</td>\n",
       "      <td>what, rick? what’s going on?</td>\n",
       "      <td>[0, 0, 0, 0, 0]</td>\n",
       "      <td>[0, 0, 0, 0, 0]</td>\n",
       "      <td>[0, 0, 0, 0, 0]</td>\n",
       "    </tr>\n",
       "    <tr>\n",
       "      <th>2</th>\n",
       "      <td>Rick</td>\n",
       "      <td>i got a surprise for you, morty.</td>\n",
       "      <td>[0, 0, 0, 1, 1]</td>\n",
       "      <td>[0, 1, 0, 1, 0]</td>\n",
       "      <td>[0, 1, 0, 0, 1]</td>\n",
       "    </tr>\n",
       "    <tr>\n",
       "      <th>3</th>\n",
       "      <td>Morty</td>\n",
       "      <td>it's the middle of the night. what are you tal...</td>\n",
       "      <td>[1, 1, 0, 0, 0]</td>\n",
       "      <td>[1, 0, 1, 0, 0]</td>\n",
       "      <td>[1, 0, 0, 1, 0]</td>\n",
       "    </tr>\n",
       "    <tr>\n",
       "      <th>4</th>\n",
       "      <td>Rick</td>\n",
       "      <td>come on, i got a surprise for you.  come on, h...</td>\n",
       "      <td>[0, 0, 0, 1, 1]</td>\n",
       "      <td>[0, 1, 0, 1, 0]</td>\n",
       "      <td>[0, 1, 0, 0, 1]</td>\n",
       "    </tr>\n",
       "    <tr>\n",
       "      <th>...</th>\n",
       "      <td>...</td>\n",
       "      <td>...</td>\n",
       "      <td>...</td>\n",
       "      <td>...</td>\n",
       "      <td>...</td>\n",
       "    </tr>\n",
       "    <tr>\n",
       "      <th>1900</th>\n",
       "      <td>Morty</td>\n",
       "      <td>that was amazing!</td>\n",
       "      <td>[0, 0, 0, 0, 0]</td>\n",
       "      <td>[0, 0, 0, 0, 0]</td>\n",
       "      <td>[0, 0, 0, 0, 0]</td>\n",
       "    </tr>\n",
       "    <tr>\n",
       "      <th>1901</th>\n",
       "      <td>Rick</td>\n",
       "      <td>got some of that mermaid puss!</td>\n",
       "      <td>[0, 0, 0, 0, 0]</td>\n",
       "      <td>[0, 0, 0, 0, 0]</td>\n",
       "      <td>[0, 0, 0, 0, 0]</td>\n",
       "    </tr>\n",
       "    <tr>\n",
       "      <th>1902</th>\n",
       "      <td>Morty</td>\n",
       "      <td>i'm really hoping it wasn't a one-off thing an...</td>\n",
       "      <td>[1, 0, 0, 1, 1]</td>\n",
       "      <td>[0, 1, 1, 1, 0]</td>\n",
       "      <td>[0, 1, 0, 1, 1]</td>\n",
       "    </tr>\n",
       "    <tr>\n",
       "      <th>1903</th>\n",
       "      <td>Rick</td>\n",
       "      <td>pssh! not at all, morty. that place will never...</td>\n",
       "      <td>[0, 0, 0, 0, 0]</td>\n",
       "      <td>[0, 0, 0, 0, 0]</td>\n",
       "      <td>[0, 0, 0, 0, 0]</td>\n",
       "    </tr>\n",
       "    <tr>\n",
       "      <th>1904</th>\n",
       "      <td>Morty</td>\n",
       "      <td>whoo! yeah! yeaah! ohhh, shit!</td>\n",
       "      <td>[0, 0, 0, 0, 0]</td>\n",
       "      <td>[0, 0, 0, 0, 0]</td>\n",
       "      <td>[0, 0, 0, 0, 0]</td>\n",
       "    </tr>\n",
       "  </tbody>\n",
       "</table>\n",
       "<p>1905 rows × 5 columns</p>\n",
       "</div>"
      ],
      "text/plain": [
       "       name                                               line  \\\n",
       "0      Rick  morty! you gotta come on. jus'... you gotta co...   \n",
       "1     Morty                       what, rick? what’s going on?   \n",
       "2      Rick                   i got a surprise for you, morty.   \n",
       "3     Morty  it's the middle of the night. what are you tal...   \n",
       "4      Rick  come on, i got a surprise for you.  come on, h...   \n",
       "...     ...                                                ...   \n",
       "1900  Morty                                  that was amazing!   \n",
       "1901   Rick                     got some of that mermaid puss!   \n",
       "1902  Morty  i'm really hoping it wasn't a one-off thing an...   \n",
       "1903   Rick  pssh! not at all, morty. that place will never...   \n",
       "1904  Morty                     whoo! yeah! yeaah! ohhh, shit!   \n",
       "\n",
       "          RickVectors     MortyVectors      BethVectors  \n",
       "0     [0, 1, 0, 0, 0]  [1, 0, 0, 0, 0]  [1, 0, 0, 0, 0]  \n",
       "1     [0, 0, 0, 0, 0]  [0, 0, 0, 0, 0]  [0, 0, 0, 0, 0]  \n",
       "2     [0, 0, 0, 1, 1]  [0, 1, 0, 1, 0]  [0, 1, 0, 0, 1]  \n",
       "3     [1, 1, 0, 0, 0]  [1, 0, 1, 0, 0]  [1, 0, 0, 1, 0]  \n",
       "4     [0, 0, 0, 1, 1]  [0, 1, 0, 1, 0]  [0, 1, 0, 0, 1]  \n",
       "...               ...              ...              ...  \n",
       "1900  [0, 0, 0, 0, 0]  [0, 0, 0, 0, 0]  [0, 0, 0, 0, 0]  \n",
       "1901  [0, 0, 0, 0, 0]  [0, 0, 0, 0, 0]  [0, 0, 0, 0, 0]  \n",
       "1902  [1, 0, 0, 1, 1]  [0, 1, 1, 1, 0]  [0, 1, 0, 1, 1]  \n",
       "1903  [0, 0, 0, 0, 0]  [0, 0, 0, 0, 0]  [0, 0, 0, 0, 0]  \n",
       "1904  [0, 0, 0, 0, 0]  [0, 0, 0, 0, 0]  [0, 0, 0, 0, 0]  \n",
       "\n",
       "[1905 rows x 5 columns]"
      ]
     },
     "execution_count": 11,
     "metadata": {},
     "output_type": "execute_result"
    }
   ],
   "source": [
    "df"
   ]
  },
  {
   "cell_type": "code",
   "execution_count": 12,
   "id": "991d0109",
   "metadata": {},
   "outputs": [],
   "source": [
    "def testTrainSplit(data):\n",
    "  length = len(df.index)\n",
    "  splitLimit = int(length * 0.7)\n",
    "  train = data[0: splitLimit]\n",
    "  test = data[splitLimit + 1: length]\n",
    "  return train, test\n",
    "train, test = testTrainSplit(df)"
   ]
  },
  {
   "cell_type": "code",
   "execution_count": 13,
   "id": "739e8c87",
   "metadata": {},
   "outputs": [
    {
     "data": {
      "text/plain": [
       "{'the': 37, 'you': 56, 'to': 45, 'i': 45, 'a': 36}"
      ]
     },
     "execution_count": 13,
     "metadata": {},
     "output_type": "execute_result"
    }
   ],
   "source": [
    "#Dict of top 15 words said by top 3 characters.\n",
    "top15 = {}\n",
    "\n",
    "top15 = dict(rickResult)\n",
    "top15.update(mortyResult)\n",
    "top15.update(bethResult)\n",
    "\n",
    "#top15 = sorted(top15.items(), key = lambda x:x[1], reverse = True)\n",
    "\n",
    "dict(top15)"
   ]
  },
  {
   "cell_type": "code",
   "execution_count": 21,
   "id": "4546a520",
   "metadata": {},
   "outputs": [],
   "source": [
    "\n",
    "\n",
    "def rickProbTable(trainDF):\n",
    "    \n",
    "  feature_records = []\n",
    "  for idx in range(len(trainDF)):\n",
    "    feature_vector = []\n",
    "    msg = trainDF.iat[idx, 1]\n",
    "    label = trainDF.iat[idx, 0]\n",
    "    for word in top15.keys():\n",
    "      feature_vector.append(1 if word in msg else 0)\n",
    "    feature_vector.append(label)\n",
    "    feature_records.append(feature_vector)\n",
    "  feature_df = pd.DataFrame(feature_records)\n",
    "  columns = list(top15.keys())\n",
    "  columns.append('label')\n",
    "  feature_df.columns = columns\n",
    "  return feature_df\n",
    "\n",
    "testprobtable = rickProbTable(test)\n",
    "probTable = rickProbTable(train)\n",
    "probTable\n",
    "prob = rickProbTable(df)"
   ]
  },
  {
   "cell_type": "code",
   "execution_count": 15,
   "id": "241b76c7",
   "metadata": {},
   "outputs": [
    {
     "name": "stdout",
     "output_type": "stream",
     "text": [
      "0.24306076519129782 0.2040510127531883 0.09077269317329333\n"
     ]
    }
   ],
   "source": [
    "rick = probTable[probTable.label == 'Rick'].label.count() / probTable.shape[0]\n",
    "morty = probTable[probTable.label == 'Morty'].label.count() / probTable.shape[0]\n",
    "beth = probTable[probTable.label == 'Beth'].label.count() / probTable.shape[0]\n",
    "print(rick, morty,beth)"
   ]
  },
  {
   "cell_type": "code",
   "execution_count": 16,
   "id": "706535bc",
   "metadata": {},
   "outputs": [],
   "source": [
    "def rickProbWord(label, probTable):\n",
    "  '''\n",
    "  Calculates the probability of a 'top' word appearing in the dataset given a label\n",
    "  '''\n",
    "  df = probTable[probTable.label == label]\n",
    "  counts = df[top15.keys()].sum(axis=0) # compute # of 1s\n",
    "  word_probs = counts / df.shape[0]\n",
    "  word_probs = word_probs.to_dict()\n",
    "  return word_probs\n",
    "\n",
    "# each of these dictionaries has key (feature word): value (p(feature=1|label))\n",
    "rickProbs = rickProbWord(\"Rick\", probTable)\n",
    "mortyProbs = rickProbWord(\"Morty\", probTable)\n",
    "bethProbs = rickProbWord(\"Beth\", probTable)"
   ]
  },
  {
   "cell_type": "code",
   "execution_count": 17,
   "id": "de957402",
   "metadata": {},
   "outputs": [
    {
     "data": {
      "text/plain": [
       "{'the': 0.4506172839506173,\n",
       " 'you': 0.49382716049382713,\n",
       " 'to': 0.38580246913580246,\n",
       " 'i': 0.8611111111111112,\n",
       " 'a': 0.9104938271604939}"
      ]
     },
     "execution_count": 17,
     "metadata": {},
     "output_type": "execute_result"
    }
   ],
   "source": [
    "rickProbs\n"
   ]
  },
  {
   "cell_type": "code",
   "execution_count": 18,
   "id": "a1f5650c",
   "metadata": {},
   "outputs": [
    {
     "data": {
      "text/plain": [
       "{'the': 0.18382352941176472,\n",
       " 'you': 0.3125,\n",
       " 'to': 0.16544117647058823,\n",
       " 'i': 0.6911764705882353,\n",
       " 'a': 0.8272058823529411}"
      ]
     },
     "execution_count": 18,
     "metadata": {},
     "output_type": "execute_result"
    }
   ],
   "source": [
    "mortyProbs\n",
    "\n"
   ]
  },
  {
   "cell_type": "code",
   "execution_count": 19,
   "id": "9332ab4b",
   "metadata": {},
   "outputs": [],
   "source": [
    "\n",
    "\n",
    "def predict(feature_vector):\n",
    "  '''\n",
    "  Performs the Naive Bayes calculation P(y | x_i) = P(x_i) * P(y)\n",
    "  Returns the label with the higher probability.\n",
    "  '''\n",
    "  r_prob = rickProbs\n",
    "  m_prob = mortyProbs\n",
    "  b_prob = bethProbs\n",
    "  feature_words = list(top15.keys())\n",
    "  for idx in range(len(feature_vector)):\n",
    "    current_word = feature_words[idx]\n",
    "    if feature_vector[idx] == 1:\n",
    "      r_prob = r_prob * r_prob[current_word]\n",
    "      m_prob = m_prob * m_prob[current_word]\n",
    "      b_prob =  b_prob *  b_prob[current_word]\n",
    "    else:\n",
    "      # to compute p(x_i=0|label), we just subtract that\n",
    "      # probably from 1: so p(x_i=0|label) = 1 - p(x_i=1|label).\n",
    "      # Why do you think that is? Would that work with multiclass\n",
    "      # naive bayes?\n",
    "      r_prob = r_prob * (1-r_prob[current_word])\n",
    "      m_prob = m_prob * (1-m_prob[current_word])\n",
    "      b_prob = b_prob * (1-b_prob[current_word])\n",
    "  print(f\"P(rick) = {r_prob:.2f}\")\n",
    "  print(f\"P(morty) = {m_prob:.2f}\")\n",
    "  print(f\"P(morty) = {b_prob:.2f}\")\n",
    "  if m_prob > r_prob:\n",
    "    return 'morty'\n",
    "  if r_prob > b_prob:\n",
    "    return 'rick'\n",
    "  else:\n",
    "    return 'beth'"
   ]
  },
  {
   "cell_type": "code",
   "execution_count": 20,
   "id": "8292e3f4",
   "metadata": {},
   "outputs": [
    {
     "name": "stdout",
     "output_type": "stream",
     "text": [
      "great. we'll see you later.\n"
     ]
    },
    {
     "ename": "KeyError",
     "evalue": "0",
     "output_type": "error",
     "traceback": [
      "\u001b[1;31m---------------------------------------------------------------------------\u001b[0m",
      "\u001b[1;31mKeyError\u001b[0m                                  Traceback (most recent call last)",
      "\u001b[1;32mc:\\ProgramData\\Anaconda3\\lib\\site-packages\\pandas\\core\\indexes\\base.py\u001b[0m in \u001b[0;36mget_loc\u001b[1;34m(self, key, method, tolerance)\u001b[0m\n\u001b[0;32m   3628\u001b[0m             \u001b[1;32mtry\u001b[0m\u001b[1;33m:\u001b[0m\u001b[1;33m\u001b[0m\u001b[1;33m\u001b[0m\u001b[0m\n\u001b[1;32m-> 3629\u001b[1;33m                 \u001b[1;32mreturn\u001b[0m \u001b[0mself\u001b[0m\u001b[1;33m.\u001b[0m\u001b[0m_engine\u001b[0m\u001b[1;33m.\u001b[0m\u001b[0mget_loc\u001b[0m\u001b[1;33m(\u001b[0m\u001b[0mcasted_key\u001b[0m\u001b[1;33m)\u001b[0m\u001b[1;33m\u001b[0m\u001b[1;33m\u001b[0m\u001b[0m\n\u001b[0m\u001b[0;32m   3630\u001b[0m             \u001b[1;32mexcept\u001b[0m \u001b[0mKeyError\u001b[0m \u001b[1;32mas\u001b[0m \u001b[0merr\u001b[0m\u001b[1;33m:\u001b[0m\u001b[1;33m\u001b[0m\u001b[1;33m\u001b[0m\u001b[0m\n",
      "\u001b[1;32mc:\\ProgramData\\Anaconda3\\lib\\site-packages\\pandas\\_libs\\index.pyx\u001b[0m in \u001b[0;36mpandas._libs.index.IndexEngine.get_loc\u001b[1;34m()\u001b[0m\n",
      "\u001b[1;32mc:\\ProgramData\\Anaconda3\\lib\\site-packages\\pandas\\_libs\\index.pyx\u001b[0m in \u001b[0;36mpandas._libs.index.IndexEngine.get_loc\u001b[1;34m()\u001b[0m\n",
      "\u001b[1;32mpandas\\_libs\\hashtable_class_helper.pxi\u001b[0m in \u001b[0;36mpandas._libs.hashtable.PyObjectHashTable.get_item\u001b[1;34m()\u001b[0m\n",
      "\u001b[1;32mpandas\\_libs\\hashtable_class_helper.pxi\u001b[0m in \u001b[0;36mpandas._libs.hashtable.PyObjectHashTable.get_item\u001b[1;34m()\u001b[0m\n",
      "\u001b[1;31mKeyError\u001b[0m: 0",
      "\nThe above exception was the direct cause of the following exception:\n",
      "\u001b[1;31mKeyError\u001b[0m                                  Traceback (most recent call last)",
      "\u001b[1;32m~\\AppData\\Local\\Temp\\ipykernel_13880\\2969927185.py\u001b[0m in \u001b[0;36m<module>\u001b[1;34m\u001b[0m\n\u001b[0;32m      3\u001b[0m \u001b[1;32mfor\u001b[0m \u001b[0midx\u001b[0m\u001b[1;33m,\u001b[0m \u001b[1;33m(\u001b[0m\u001b[0mlabel\u001b[0m\u001b[1;33m,\u001b[0m \u001b[0mword\u001b[0m\u001b[1;33m,\u001b[0m\u001b[0mword2\u001b[0m\u001b[1;33m,\u001b[0m\u001b[0mword3\u001b[0m\u001b[1;33m,\u001b[0m\u001b[0mfeature_vector\u001b[0m\u001b[1;33m)\u001b[0m \u001b[1;32min\u001b[0m \u001b[0mtest\u001b[0m\u001b[1;33m.\u001b[0m\u001b[0miterrows\u001b[0m\u001b[1;33m(\u001b[0m\u001b[1;33m)\u001b[0m\u001b[1;33m:\u001b[0m\u001b[1;33m\u001b[0m\u001b[1;33m\u001b[0m\u001b[0m\n\u001b[0;32m      4\u001b[0m   \u001b[0mprint\u001b[0m\u001b[1;33m(\u001b[0m\u001b[0mword\u001b[0m\u001b[1;33m)\u001b[0m\u001b[1;33m\u001b[0m\u001b[1;33m\u001b[0m\u001b[0m\n\u001b[1;32m----> 5\u001b[1;33m   \u001b[0mpredicted_label\u001b[0m \u001b[1;33m=\u001b[0m \u001b[0mpredict\u001b[0m\u001b[1;33m(\u001b[0m\u001b[0mprobTable\u001b[0m\u001b[1;33m)\u001b[0m\u001b[1;33m\u001b[0m\u001b[1;33m\u001b[0m\u001b[0m\n\u001b[0m\u001b[0;32m      6\u001b[0m   \u001b[0mprint\u001b[0m\u001b[1;33m(\u001b[0m\u001b[0mlabel\u001b[0m\u001b[1;33m,\u001b[0m \u001b[0mpredicted_label\u001b[0m\u001b[1;33m)\u001b[0m\u001b[1;33m\u001b[0m\u001b[1;33m\u001b[0m\u001b[0m\n\u001b[0;32m      7\u001b[0m   \u001b[1;32mif\u001b[0m \u001b[0mlabel\u001b[0m \u001b[1;33m==\u001b[0m \u001b[0mpredicted_label\u001b[0m\u001b[1;33m:\u001b[0m\u001b[1;33m\u001b[0m\u001b[1;33m\u001b[0m\u001b[0m\n",
      "\u001b[1;32m~\\AppData\\Local\\Temp\\ipykernel_13880\\4247883198.py\u001b[0m in \u001b[0;36mpredict\u001b[1;34m(feature_vector)\u001b[0m\n\u001b[0;32m     10\u001b[0m   \u001b[1;32mfor\u001b[0m \u001b[0midx\u001b[0m \u001b[1;32min\u001b[0m \u001b[0mrange\u001b[0m\u001b[1;33m(\u001b[0m\u001b[0mlen\u001b[0m\u001b[1;33m(\u001b[0m\u001b[0mfeature_vector\u001b[0m\u001b[1;33m)\u001b[0m\u001b[1;33m)\u001b[0m\u001b[1;33m:\u001b[0m\u001b[1;33m\u001b[0m\u001b[1;33m\u001b[0m\u001b[0m\n\u001b[0;32m     11\u001b[0m     \u001b[0mcurrent_word\u001b[0m \u001b[1;33m=\u001b[0m \u001b[0mfeature_words\u001b[0m\u001b[1;33m[\u001b[0m\u001b[0midx\u001b[0m\u001b[1;33m]\u001b[0m\u001b[1;33m\u001b[0m\u001b[1;33m\u001b[0m\u001b[0m\n\u001b[1;32m---> 12\u001b[1;33m     \u001b[1;32mif\u001b[0m \u001b[0mfeature_vector\u001b[0m\u001b[1;33m[\u001b[0m\u001b[0midx\u001b[0m\u001b[1;33m]\u001b[0m \u001b[1;33m==\u001b[0m \u001b[1;36m1\u001b[0m\u001b[1;33m:\u001b[0m\u001b[1;33m\u001b[0m\u001b[1;33m\u001b[0m\u001b[0m\n\u001b[0m\u001b[0;32m     13\u001b[0m       \u001b[0mr_prob\u001b[0m \u001b[1;33m=\u001b[0m \u001b[0mr_prob\u001b[0m \u001b[1;33m*\u001b[0m \u001b[0mr_prob\u001b[0m\u001b[1;33m[\u001b[0m\u001b[0mcurrent_word\u001b[0m\u001b[1;33m]\u001b[0m\u001b[1;33m\u001b[0m\u001b[1;33m\u001b[0m\u001b[0m\n\u001b[0;32m     14\u001b[0m       \u001b[0mm_prob\u001b[0m \u001b[1;33m=\u001b[0m \u001b[0mm_prob\u001b[0m \u001b[1;33m*\u001b[0m \u001b[0mm_prob\u001b[0m\u001b[1;33m[\u001b[0m\u001b[0mcurrent_word\u001b[0m\u001b[1;33m]\u001b[0m\u001b[1;33m\u001b[0m\u001b[1;33m\u001b[0m\u001b[0m\n",
      "\u001b[1;32mc:\\ProgramData\\Anaconda3\\lib\\site-packages\\pandas\\core\\frame.py\u001b[0m in \u001b[0;36m__getitem__\u001b[1;34m(self, key)\u001b[0m\n\u001b[0;32m   3503\u001b[0m             \u001b[1;32mif\u001b[0m \u001b[0mself\u001b[0m\u001b[1;33m.\u001b[0m\u001b[0mcolumns\u001b[0m\u001b[1;33m.\u001b[0m\u001b[0mnlevels\u001b[0m \u001b[1;33m>\u001b[0m \u001b[1;36m1\u001b[0m\u001b[1;33m:\u001b[0m\u001b[1;33m\u001b[0m\u001b[1;33m\u001b[0m\u001b[0m\n\u001b[0;32m   3504\u001b[0m                 \u001b[1;32mreturn\u001b[0m \u001b[0mself\u001b[0m\u001b[1;33m.\u001b[0m\u001b[0m_getitem_multilevel\u001b[0m\u001b[1;33m(\u001b[0m\u001b[0mkey\u001b[0m\u001b[1;33m)\u001b[0m\u001b[1;33m\u001b[0m\u001b[1;33m\u001b[0m\u001b[0m\n\u001b[1;32m-> 3505\u001b[1;33m             \u001b[0mindexer\u001b[0m \u001b[1;33m=\u001b[0m \u001b[0mself\u001b[0m\u001b[1;33m.\u001b[0m\u001b[0mcolumns\u001b[0m\u001b[1;33m.\u001b[0m\u001b[0mget_loc\u001b[0m\u001b[1;33m(\u001b[0m\u001b[0mkey\u001b[0m\u001b[1;33m)\u001b[0m\u001b[1;33m\u001b[0m\u001b[1;33m\u001b[0m\u001b[0m\n\u001b[0m\u001b[0;32m   3506\u001b[0m             \u001b[1;32mif\u001b[0m \u001b[0mis_integer\u001b[0m\u001b[1;33m(\u001b[0m\u001b[0mindexer\u001b[0m\u001b[1;33m)\u001b[0m\u001b[1;33m:\u001b[0m\u001b[1;33m\u001b[0m\u001b[1;33m\u001b[0m\u001b[0m\n\u001b[0;32m   3507\u001b[0m                 \u001b[0mindexer\u001b[0m \u001b[1;33m=\u001b[0m \u001b[1;33m[\u001b[0m\u001b[0mindexer\u001b[0m\u001b[1;33m]\u001b[0m\u001b[1;33m\u001b[0m\u001b[1;33m\u001b[0m\u001b[0m\n",
      "\u001b[1;32mc:\\ProgramData\\Anaconda3\\lib\\site-packages\\pandas\\core\\indexes\\base.py\u001b[0m in \u001b[0;36mget_loc\u001b[1;34m(self, key, method, tolerance)\u001b[0m\n\u001b[0;32m   3629\u001b[0m                 \u001b[1;32mreturn\u001b[0m \u001b[0mself\u001b[0m\u001b[1;33m.\u001b[0m\u001b[0m_engine\u001b[0m\u001b[1;33m.\u001b[0m\u001b[0mget_loc\u001b[0m\u001b[1;33m(\u001b[0m\u001b[0mcasted_key\u001b[0m\u001b[1;33m)\u001b[0m\u001b[1;33m\u001b[0m\u001b[1;33m\u001b[0m\u001b[0m\n\u001b[0;32m   3630\u001b[0m             \u001b[1;32mexcept\u001b[0m \u001b[0mKeyError\u001b[0m \u001b[1;32mas\u001b[0m \u001b[0merr\u001b[0m\u001b[1;33m:\u001b[0m\u001b[1;33m\u001b[0m\u001b[1;33m\u001b[0m\u001b[0m\n\u001b[1;32m-> 3631\u001b[1;33m                 \u001b[1;32mraise\u001b[0m \u001b[0mKeyError\u001b[0m\u001b[1;33m(\u001b[0m\u001b[0mkey\u001b[0m\u001b[1;33m)\u001b[0m \u001b[1;32mfrom\u001b[0m \u001b[0merr\u001b[0m\u001b[1;33m\u001b[0m\u001b[1;33m\u001b[0m\u001b[0m\n\u001b[0m\u001b[0;32m   3632\u001b[0m             \u001b[1;32mexcept\u001b[0m \u001b[0mTypeError\u001b[0m\u001b[1;33m:\u001b[0m\u001b[1;33m\u001b[0m\u001b[1;33m\u001b[0m\u001b[0m\n\u001b[0;32m   3633\u001b[0m                 \u001b[1;31m# If we have a listlike key, _check_indexing_error will raise\u001b[0m\u001b[1;33m\u001b[0m\u001b[1;33m\u001b[0m\u001b[0m\n",
      "\u001b[1;31mKeyError\u001b[0m: 0"
     ]
    }
   ],
   "source": [
    "# Calculates the percent of messages correctly labeled of the test dataset\n",
    "correct = 0\n",
    "for idx, (label, word,word2,word3,feature_vector) in test.iterrows():\n",
    "  print(word)\n",
    "  predicted_label = predict(probTable)\n",
    "  print(label, predicted_label)\n",
    "  if label == predicted_label:\n",
    "    correct += 1\n",
    "print(correct / test.shape[0])"
   ]
  },
  {
   "cell_type": "code",
   "execution_count": null,
   "id": "2cc04800",
   "metadata": {},
   "outputs": [],
   "source": [
    "#Rick probability = 0.0103\n",
    "# Morty Probability = 0.0006059303"
   ]
  },
  {
   "cell_type": "code",
   "execution_count": 23,
   "id": "21d6d66d",
   "metadata": {},
   "outputs": [],
   "source": [
    "from sklearn.naive_bayes import MultinomialNB\n",
    "from sklearn.model_selection import train_test_split\n",
    "from sklearn.metrics import confusion_matrix\n",
    "\n",
    "\n",
    "x = prob.drop(\"label\",axis=1)\n",
    "y = prob[\"label\"]\n",
    "\n",
    "x_train,x_test,y_train,y_test = train_test_split(x,y,test_size=0.2,random_state=1)\n"
   ]
  },
  {
   "cell_type": "code",
   "execution_count": 25,
   "id": "5da626bb",
   "metadata": {},
   "outputs": [
    {
     "data": {
      "text/plain": [
       "MultinomialNB()"
      ]
     },
     "execution_count": 25,
     "metadata": {},
     "output_type": "execute_result"
    }
   ],
   "source": [
    "clf = MultinomialNB()\n",
    "clf.fit(x_train, y_train)"
   ]
  },
  {
   "cell_type": "code",
   "execution_count": 26,
   "id": "886ada4a",
   "metadata": {},
   "outputs": [
    {
     "name": "stdout",
     "output_type": "stream",
     "text": [
      "0.2335958005249344\n"
     ]
    }
   ],
   "source": [
    "print(clf.score(x_test,y_test))"
   ]
  },
  {
   "cell_type": "code",
   "execution_count": 28,
   "id": "b3ae4c1e",
   "metadata": {},
   "outputs": [],
   "source": [
    "prediction = clf.predict(x_test)"
   ]
  },
  {
   "cell_type": "code",
   "execution_count": 31,
   "id": "753862cd",
   "metadata": {},
   "outputs": [
    {
     "data": {
      "text/plain": [
       "array([[64, 18,  0],\n",
       "       [45, 25,  0],\n",
       "       [21,  6,  0]], dtype=int64)"
      ]
     },
     "execution_count": 31,
     "metadata": {},
     "output_type": "execute_result"
    }
   ],
   "source": [
    "confusion_matrix(y_test, prediction,labels =['Rick','Morty','Beth'])"
   ]
  },
  {
   "cell_type": "code",
   "execution_count": 32,
   "id": "af64a0ae",
   "metadata": {},
   "outputs": [
    {
     "ename": "TypeError",
     "evalue": "cannot do slice indexing on Int64Index with these indexers [I] of type str",
     "output_type": "error",
     "traceback": [
      "\u001b[1;31m---------------------------------------------------------------------------\u001b[0m",
      "\u001b[1;31mTypeError\u001b[0m                                 Traceback (most recent call last)",
      "\u001b[1;32m~\\AppData\\Local\\Temp\\ipykernel_13880\\3528706849.py\u001b[0m in \u001b[0;36m<module>\u001b[1;34m\u001b[0m\n\u001b[1;32m----> 1\u001b[1;33m \u001b[0mprint\u001b[0m\u001b[1;33m(\u001b[0m\u001b[0mclf\u001b[0m\u001b[1;33m.\u001b[0m\u001b[0mpredict\u001b[0m\u001b[1;33m(\u001b[0m\u001b[0mx_test\u001b[0m\u001b[1;33m[\u001b[0m\u001b[1;34m'I'\u001b[0m\u001b[1;33m:\u001b[0m\u001b[1;34m'Rick'\u001b[0m\u001b[1;33m]\u001b[0m\u001b[1;33m)\u001b[0m\u001b[1;33m)\u001b[0m\u001b[1;33m\u001b[0m\u001b[1;33m\u001b[0m\u001b[0m\n\u001b[0m",
      "\u001b[1;32mc:\\ProgramData\\Anaconda3\\lib\\site-packages\\pandas\\core\\frame.py\u001b[0m in \u001b[0;36m__getitem__\u001b[1;34m(self, key)\u001b[0m\n\u001b[0;32m   3475\u001b[0m \u001b[1;33m\u001b[0m\u001b[0m\n\u001b[0;32m   3476\u001b[0m         \u001b[1;31m# Do we have a slicer (on rows)?\u001b[0m\u001b[1;33m\u001b[0m\u001b[1;33m\u001b[0m\u001b[0m\n\u001b[1;32m-> 3477\u001b[1;33m         \u001b[0mindexer\u001b[0m \u001b[1;33m=\u001b[0m \u001b[0mconvert_to_index_sliceable\u001b[0m\u001b[1;33m(\u001b[0m\u001b[0mself\u001b[0m\u001b[1;33m,\u001b[0m \u001b[0mkey\u001b[0m\u001b[1;33m)\u001b[0m\u001b[1;33m\u001b[0m\u001b[1;33m\u001b[0m\u001b[0m\n\u001b[0m\u001b[0;32m   3478\u001b[0m         \u001b[1;32mif\u001b[0m \u001b[0mindexer\u001b[0m \u001b[1;32mis\u001b[0m \u001b[1;32mnot\u001b[0m \u001b[1;32mNone\u001b[0m\u001b[1;33m:\u001b[0m\u001b[1;33m\u001b[0m\u001b[1;33m\u001b[0m\u001b[0m\n\u001b[0;32m   3479\u001b[0m             \u001b[1;32mif\u001b[0m \u001b[0misinstance\u001b[0m\u001b[1;33m(\u001b[0m\u001b[0mindexer\u001b[0m\u001b[1;33m,\u001b[0m \u001b[0mnp\u001b[0m\u001b[1;33m.\u001b[0m\u001b[0mndarray\u001b[0m\u001b[1;33m)\u001b[0m\u001b[1;33m:\u001b[0m\u001b[1;33m\u001b[0m\u001b[1;33m\u001b[0m\u001b[0m\n",
      "\u001b[1;32mc:\\ProgramData\\Anaconda3\\lib\\site-packages\\pandas\\core\\indexing.py\u001b[0m in \u001b[0;36mconvert_to_index_sliceable\u001b[1;34m(obj, key)\u001b[0m\n\u001b[0;32m   2327\u001b[0m     \u001b[0midx\u001b[0m \u001b[1;33m=\u001b[0m \u001b[0mobj\u001b[0m\u001b[1;33m.\u001b[0m\u001b[0mindex\u001b[0m\u001b[1;33m\u001b[0m\u001b[1;33m\u001b[0m\u001b[0m\n\u001b[0;32m   2328\u001b[0m     \u001b[1;32mif\u001b[0m \u001b[0misinstance\u001b[0m\u001b[1;33m(\u001b[0m\u001b[0mkey\u001b[0m\u001b[1;33m,\u001b[0m \u001b[0mslice\u001b[0m\u001b[1;33m)\u001b[0m\u001b[1;33m:\u001b[0m\u001b[1;33m\u001b[0m\u001b[1;33m\u001b[0m\u001b[0m\n\u001b[1;32m-> 2329\u001b[1;33m         \u001b[1;32mreturn\u001b[0m \u001b[0midx\u001b[0m\u001b[1;33m.\u001b[0m\u001b[0m_convert_slice_indexer\u001b[0m\u001b[1;33m(\u001b[0m\u001b[0mkey\u001b[0m\u001b[1;33m,\u001b[0m \u001b[0mkind\u001b[0m\u001b[1;33m=\u001b[0m\u001b[1;34m\"getitem\"\u001b[0m\u001b[1;33m)\u001b[0m\u001b[1;33m\u001b[0m\u001b[1;33m\u001b[0m\u001b[0m\n\u001b[0m\u001b[0;32m   2330\u001b[0m \u001b[1;33m\u001b[0m\u001b[0m\n\u001b[0;32m   2331\u001b[0m     \u001b[1;32melif\u001b[0m \u001b[0misinstance\u001b[0m\u001b[1;33m(\u001b[0m\u001b[0mkey\u001b[0m\u001b[1;33m,\u001b[0m \u001b[0mstr\u001b[0m\u001b[1;33m)\u001b[0m\u001b[1;33m:\u001b[0m\u001b[1;33m\u001b[0m\u001b[1;33m\u001b[0m\u001b[0m\n",
      "\u001b[1;32mc:\\ProgramData\\Anaconda3\\lib\\site-packages\\pandas\\core\\indexes\\numeric.py\u001b[0m in \u001b[0;36m_convert_slice_indexer\u001b[1;34m(self, key, kind)\u001b[0m\n\u001b[0;32m    277\u001b[0m             \u001b[1;32mreturn\u001b[0m \u001b[0mself\u001b[0m\u001b[1;33m.\u001b[0m\u001b[0mslice_indexer\u001b[0m\u001b[1;33m(\u001b[0m\u001b[0mkey\u001b[0m\u001b[1;33m.\u001b[0m\u001b[0mstart\u001b[0m\u001b[1;33m,\u001b[0m \u001b[0mkey\u001b[0m\u001b[1;33m.\u001b[0m\u001b[0mstop\u001b[0m\u001b[1;33m,\u001b[0m \u001b[0mkey\u001b[0m\u001b[1;33m.\u001b[0m\u001b[0mstep\u001b[0m\u001b[1;33m)\u001b[0m\u001b[1;33m\u001b[0m\u001b[1;33m\u001b[0m\u001b[0m\n\u001b[0;32m    278\u001b[0m \u001b[1;33m\u001b[0m\u001b[0m\n\u001b[1;32m--> 279\u001b[1;33m         \u001b[1;32mreturn\u001b[0m \u001b[0msuper\u001b[0m\u001b[1;33m(\u001b[0m\u001b[1;33m)\u001b[0m\u001b[1;33m.\u001b[0m\u001b[0m_convert_slice_indexer\u001b[0m\u001b[1;33m(\u001b[0m\u001b[0mkey\u001b[0m\u001b[1;33m,\u001b[0m \u001b[0mkind\u001b[0m\u001b[1;33m=\u001b[0m\u001b[0mkind\u001b[0m\u001b[1;33m)\u001b[0m\u001b[1;33m\u001b[0m\u001b[1;33m\u001b[0m\u001b[0m\n\u001b[0m\u001b[0;32m    280\u001b[0m \u001b[1;33m\u001b[0m\u001b[0m\n\u001b[0;32m    281\u001b[0m     \u001b[1;33m@\u001b[0m\u001b[0mdoc\u001b[0m\u001b[1;33m(\u001b[0m\u001b[0mIndex\u001b[0m\u001b[1;33m.\u001b[0m\u001b[0m_maybe_cast_slice_bound\u001b[0m\u001b[1;33m)\u001b[0m\u001b[1;33m\u001b[0m\u001b[1;33m\u001b[0m\u001b[0m\n",
      "\u001b[1;32mc:\\ProgramData\\Anaconda3\\lib\\site-packages\\pandas\\core\\indexes\\base.py\u001b[0m in \u001b[0;36m_convert_slice_indexer\u001b[1;34m(self, key, kind)\u001b[0m\n\u001b[0;32m   4053\u001b[0m             \"\"\"\n\u001b[0;32m   4054\u001b[0m             \u001b[1;32mif\u001b[0m \u001b[0mself\u001b[0m\u001b[1;33m.\u001b[0m\u001b[0mis_integer\u001b[0m\u001b[1;33m(\u001b[0m\u001b[1;33m)\u001b[0m \u001b[1;32mor\u001b[0m \u001b[0mis_index_slice\u001b[0m\u001b[1;33m:\u001b[0m\u001b[1;33m\u001b[0m\u001b[1;33m\u001b[0m\u001b[0m\n\u001b[1;32m-> 4055\u001b[1;33m                 \u001b[0mself\u001b[0m\u001b[1;33m.\u001b[0m\u001b[0m_validate_indexer\u001b[0m\u001b[1;33m(\u001b[0m\u001b[1;34m\"slice\"\u001b[0m\u001b[1;33m,\u001b[0m \u001b[0mkey\u001b[0m\u001b[1;33m.\u001b[0m\u001b[0mstart\u001b[0m\u001b[1;33m,\u001b[0m \u001b[1;34m\"getitem\"\u001b[0m\u001b[1;33m)\u001b[0m\u001b[1;33m\u001b[0m\u001b[1;33m\u001b[0m\u001b[0m\n\u001b[0m\u001b[0;32m   4056\u001b[0m                 \u001b[0mself\u001b[0m\u001b[1;33m.\u001b[0m\u001b[0m_validate_indexer\u001b[0m\u001b[1;33m(\u001b[0m\u001b[1;34m\"slice\"\u001b[0m\u001b[1;33m,\u001b[0m \u001b[0mkey\u001b[0m\u001b[1;33m.\u001b[0m\u001b[0mstop\u001b[0m\u001b[1;33m,\u001b[0m \u001b[1;34m\"getitem\"\u001b[0m\u001b[1;33m)\u001b[0m\u001b[1;33m\u001b[0m\u001b[1;33m\u001b[0m\u001b[0m\n\u001b[0;32m   4057\u001b[0m                 \u001b[0mself\u001b[0m\u001b[1;33m.\u001b[0m\u001b[0m_validate_indexer\u001b[0m\u001b[1;33m(\u001b[0m\u001b[1;34m\"slice\"\u001b[0m\u001b[1;33m,\u001b[0m \u001b[0mkey\u001b[0m\u001b[1;33m.\u001b[0m\u001b[0mstep\u001b[0m\u001b[1;33m,\u001b[0m \u001b[1;34m\"getitem\"\u001b[0m\u001b[1;33m)\u001b[0m\u001b[1;33m\u001b[0m\u001b[1;33m\u001b[0m\u001b[0m\n",
      "\u001b[1;32mc:\\ProgramData\\Anaconda3\\lib\\site-packages\\pandas\\core\\indexes\\base.py\u001b[0m in \u001b[0;36m_validate_indexer\u001b[1;34m(self, form, key, kind)\u001b[0m\n\u001b[0;32m   6320\u001b[0m \u001b[1;33m\u001b[0m\u001b[0m\n\u001b[0;32m   6321\u001b[0m         \u001b[1;32mif\u001b[0m \u001b[0mkey\u001b[0m \u001b[1;32mis\u001b[0m \u001b[1;32mnot\u001b[0m \u001b[1;32mNone\u001b[0m \u001b[1;32mand\u001b[0m \u001b[1;32mnot\u001b[0m \u001b[0mis_integer\u001b[0m\u001b[1;33m(\u001b[0m\u001b[0mkey\u001b[0m\u001b[1;33m)\u001b[0m\u001b[1;33m:\u001b[0m\u001b[1;33m\u001b[0m\u001b[1;33m\u001b[0m\u001b[0m\n\u001b[1;32m-> 6322\u001b[1;33m             \u001b[1;32mraise\u001b[0m \u001b[0mself\u001b[0m\u001b[1;33m.\u001b[0m\u001b[0m_invalid_indexer\u001b[0m\u001b[1;33m(\u001b[0m\u001b[0mform\u001b[0m\u001b[1;33m,\u001b[0m \u001b[0mkey\u001b[0m\u001b[1;33m)\u001b[0m\u001b[1;33m\u001b[0m\u001b[1;33m\u001b[0m\u001b[0m\n\u001b[0m\u001b[0;32m   6323\u001b[0m \u001b[1;33m\u001b[0m\u001b[0m\n\u001b[0;32m   6324\u001b[0m     \u001b[1;32mdef\u001b[0m \u001b[0m_maybe_cast_slice_bound\u001b[0m\u001b[1;33m(\u001b[0m\u001b[0mself\u001b[0m\u001b[1;33m,\u001b[0m \u001b[0mlabel\u001b[0m\u001b[1;33m,\u001b[0m \u001b[0mside\u001b[0m\u001b[1;33m:\u001b[0m \u001b[0mstr_t\u001b[0m\u001b[1;33m,\u001b[0m \u001b[0mkind\u001b[0m\u001b[1;33m=\u001b[0m\u001b[0mno_default\u001b[0m\u001b[1;33m)\u001b[0m\u001b[1;33m:\u001b[0m\u001b[1;33m\u001b[0m\u001b[1;33m\u001b[0m\u001b[0m\n",
      "\u001b[1;31mTypeError\u001b[0m: cannot do slice indexing on Int64Index with these indexers [I] of type str"
     ]
    }
   ],
   "source": []
  },
  {
   "cell_type": "code",
   "execution_count": null,
   "id": "dc8e8c6c",
   "metadata": {},
   "outputs": [],
   "source": []
  }
 ],
 "metadata": {
  "kernelspec": {
   "display_name": "Python 3 (ipykernel)",
   "language": "python",
   "name": "python3"
  },
  "language_info": {
   "codemirror_mode": {
    "name": "ipython",
    "version": 3
   },
   "file_extension": ".py",
   "mimetype": "text/x-python",
   "name": "python",
   "nbconvert_exporter": "python",
   "pygments_lexer": "ipython3",
   "version": "3.9.13"
  }
 },
 "nbformat": 4,
 "nbformat_minor": 5
}
