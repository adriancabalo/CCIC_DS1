{
 "cells": [
  {
   "cell_type": "code",
   "execution_count": 1,
   "id": "518f7d05",
   "metadata": {},
   "outputs": [],
   "source": [
    "import pandas as pd\n",
    "import string\n",
    "\n",
    "df = pd.read_csv(\"RickAndMortyScripts.csv\")\n",
    "\n",
    "df = df.dropna(axis=0)\n",
    "\n",
    "df.line = df.line.str.lower()\n",
    "\n",
    "# with open('stopWords.txt') as file:\n",
    "#    stopWords = [word.rstrip() for word in file]\n",
    "    \n",
    "#df['line'] = df['line'].str.replace('[^\\w\\s]','')\n"
   ]
  },
  {
   "cell_type": "code",
   "execution_count": 2,
   "id": "cfa8c7d2",
   "metadata": {},
   "outputs": [],
   "source": [
    "df = df.drop(['index','season no.','episode no.','episode name'], axis =1)"
   ]
  },
  {
   "cell_type": "code",
   "execution_count": null,
   "id": "950aa83e",
   "metadata": {},
   "outputs": [],
   "source": []
  },
  {
   "cell_type": "code",
   "execution_count": 3,
   "id": "94b3c731",
   "metadata": {},
   "outputs": [
    {
     "data": {
      "text/plain": [
       "Rick                      420\n",
       "Morty                     347\n",
       "Beth                      148\n",
       "Jerry                     132\n",
       "Summer                     97\n",
       "Pickle Rick                77\n",
       "Supernova                  44\n",
       "Cop Morty                  34\n",
       "All Ricks                  32\n",
       "Mr. Goldenfold             28\n",
       "President                  27\n",
       "Cop Rick                   26\n",
       "Testicle Monster A         26\n",
       "Principal Vagina           25\n",
       "Cornvelious Daniel         22\n",
       "Snuffles                   22\n",
       "Dr. Wong                   21\n",
       "Drunk Rick                 21\n",
       "Agency Director            20\n",
       "Alan                       19\n",
       "Candidate Morty            18\n",
       "Vance                      17\n",
       "Scary Terry                17\n",
       "Jessica                    16\n",
       "All Mortys                 15\n",
       "Million Ants               15\n",
       "Riq IV                     13\n",
       "Ice-T                      13\n",
       "Morty 2                    13\n",
       "All Summers                13\n",
       "Campaign Manager Morty     12\n",
       "Alien Doctor               12\n",
       "Lizard Morty               11\n",
       "Cromulon                   10\n",
       "Nathan                     10\n",
       "Slick                      10\n",
       "Brad                       10\n",
       "Young Rick                  9\n",
       "Glasses Morty               9\n",
       "Rick J-22                   9\n",
       "Vet                         9\n",
       "Birdperson                  9\n",
       "Mrs. Pancakes               8\n",
       "Announcer                   8\n",
       "Teacher Rick                8\n",
       "Morty 1                     8\n",
       "Narrator                    8\n",
       "Summer 1                    7\n",
       "Name: name, dtype: int64"
      ]
     },
     "execution_count": 3,
     "metadata": {},
     "output_type": "execute_result"
    }
   ],
   "source": [
    "df['name'].value_counts()"
   ]
  },
  {
   "cell_type": "code",
   "execution_count": 4,
   "id": "865c22df",
   "metadata": {},
   "outputs": [
    {
     "name": "stdout",
     "output_type": "stream",
     "text": [
      "{'the': 197, 'you': 184, 'to': 184, 'i': 182, 'a': 179}\n"
     ]
    }
   ],
   "source": [
    "with open('stopWords.txt') as file:\n",
    "    stopWords = [word.rstrip() for word in file]\n",
    "\n",
    "def getTopRickWords(df, commonWords, numWords):\n",
    "    rickWords = {}\n",
    "    for idx in range(len(df.index)):\n",
    "        if df.iat[idx,0] == 'Rick':\n",
    "            message = df.iat[idx,1]\n",
    "            message = message.split()\n",
    "            for word in message:\n",
    "            #    if word not in stopWords:\n",
    "                    if word not in rickWords:                      \n",
    "                        rickWords[word] = 1\n",
    "                    else:\n",
    "                        rickWords[word] = rickWords[word] + 1\n",
    "                        \n",
    "                        \n",
    "    rickWords = sorted(rickWords.items(), key = lambda x:x[1], reverse = True)\n",
    "   \n",
    "                        \n",
    "    return dict(rickWords[:numWords])\n",
    "\n",
    "rickResult = getTopRickWords(df,stopWords, 5)\n",
    "\n",
    "print(rickResult)"
   ]
  },
  {
   "cell_type": "code",
   "execution_count": 5,
   "id": "9f6e04d9",
   "metadata": {},
   "outputs": [
    {
     "name": "stdout",
     "output_type": "stream",
     "text": [
      "{'you': 112, 'i': 77, 'the': 75, 'a': 67, 'to': 60}\n"
     ]
    }
   ],
   "source": [
    "def getTopMortyWords(df, commonWords, numWords):\n",
    "    mortyWords = {}\n",
    "    for idx in range(len(df.index)):\n",
    "        if df.iat[idx,0] == 'Morty':\n",
    "            message = df.iat[idx,1]\n",
    "            message = message.split()\n",
    "            for word in message:\n",
    "            #    if word not in stopWords:\n",
    "                    if word not in mortyWords:                      \n",
    "                        mortyWords[word] = 1\n",
    "                    else:\n",
    "                        mortyWords[word] = mortyWords[word] + 1\n",
    "                        \n",
    "                        \n",
    "                        \n",
    "    mortyWords = sorted(mortyWords.items(), key = lambda x:x[1], reverse = True)\n",
    "    #topSpam = mortyWords[:numWords]\n",
    "                        \n",
    "    return dict(mortyWords[:numWords])\n",
    "\n",
    "\n",
    "mortyResult = getTopMortyWords(df, stopWords, 5)\n",
    "\n",
    "print(mortyResult)"
   ]
  },
  {
   "cell_type": "code",
   "execution_count": 6,
   "id": "45b53590",
   "metadata": {},
   "outputs": [
    {
     "name": "stdout",
     "output_type": "stream",
     "text": [
      "{'you': 56, 'i': 45, 'to': 45, 'the': 37, 'a': 36}\n"
     ]
    }
   ],
   "source": [
    "def getTopBethWords(df, commonWords, numWords):\n",
    "    bethWords = {}\n",
    "    for idx in range(len(df.index)):\n",
    "        if df.iat[idx,0] == 'Beth':\n",
    "            message = df.iat[idx,1]\n",
    "            message = message.split()\n",
    "            for word in message:\n",
    "            #    if word not in stopWords:\n",
    "                    if word not in bethWords:                      \n",
    "                        bethWords[word] = 1\n",
    "                    else:\n",
    "                        bethWords[word] = bethWords[word] + 1\n",
    "                        \n",
    "                        \n",
    "                        \n",
    "    bethWords = sorted(bethWords.items(), key = lambda x:x[1], reverse = True)\n",
    "   # topSpam = bethWords[:numWords]\n",
    "                        \n",
    "    return dict(bethWords[:numWords])\n",
    "\n",
    "bethResult = getTopBethWords(df, stopWords, 5)\n",
    "\n",
    "print(bethResult)"
   ]
  },
  {
   "cell_type": "code",
   "execution_count": 7,
   "id": "5df1c6fc",
   "metadata": {},
   "outputs": [],
   "source": [
    "def rickvectorize(df, top):\n",
    "  vectors = []\n",
    "  for i in range(len(df.index)):\n",
    "    message = df.iat[i, 1]\n",
    "    message = message.split()\n",
    "    vector = []\n",
    "    for word in top:\n",
    "        if word in message:\n",
    "            vector.append(1)\n",
    "        else:\n",
    "            vector.append(0)\n",
    "    vectors.append(vector)\n",
    "  \n",
    "  df['RickVectors'] = vectors\n",
    "\n",
    "rickvectorize(df, rickResult)\n"
   ]
  },
  {
   "cell_type": "code",
   "execution_count": 8,
   "id": "e2baa15e",
   "metadata": {},
   "outputs": [],
   "source": [
    "def mortyvectorize(df, top):\n",
    "  vectors = []\n",
    "  for i in range(len(df.index)):\n",
    "    message = df.iat[i, 1]\n",
    "    message = message.split()\n",
    "    vector = []\n",
    "    for word in top:\n",
    "        if word in message:\n",
    "            vector.append(1)\n",
    "        else:\n",
    "            vector.append(0)\n",
    "    vectors.append(vector)\n",
    "  \n",
    "  df['MortyVectors'] = vectors\n",
    "\n",
    "mortyvectorize(df, mortyResult)"
   ]
  },
  {
   "cell_type": "code",
   "execution_count": 9,
   "id": "33bb4080",
   "metadata": {},
   "outputs": [],
   "source": [
    "def bethvectorize(df, top):\n",
    "  vectors = []\n",
    "  for i in range(len(df.index)):\n",
    "    message = df.iat[i, 1]\n",
    "    message = message.split()\n",
    "    vector = []\n",
    "    for word in top:\n",
    "        if word in message:\n",
    "            vector.append(1)\n",
    "        else:\n",
    "            vector.append(0)\n",
    "    vectors.append(vector)\n",
    "  \n",
    "  df['BethVectors'] = vectors\n",
    "\n",
    "bethvectorize(df, bethResult)"
   ]
  },
  {
   "cell_type": "code",
   "execution_count": 10,
   "id": "9764d51d",
   "metadata": {},
   "outputs": [
    {
     "data": {
      "text/html": [
       "<div>\n",
       "<style scoped>\n",
       "    .dataframe tbody tr th:only-of-type {\n",
       "        vertical-align: middle;\n",
       "    }\n",
       "\n",
       "    .dataframe tbody tr th {\n",
       "        vertical-align: top;\n",
       "    }\n",
       "\n",
       "    .dataframe thead th {\n",
       "        text-align: right;\n",
       "    }\n",
       "</style>\n",
       "<table border=\"1\" class=\"dataframe\">\n",
       "  <thead>\n",
       "    <tr style=\"text-align: right;\">\n",
       "      <th></th>\n",
       "      <th>name</th>\n",
       "      <th>line</th>\n",
       "      <th>RickVectors</th>\n",
       "      <th>MortyVectors</th>\n",
       "      <th>BethVectors</th>\n",
       "    </tr>\n",
       "  </thead>\n",
       "  <tbody>\n",
       "    <tr>\n",
       "      <th>0</th>\n",
       "      <td>Rick</td>\n",
       "      <td>morty! you gotta come on. jus'... you gotta co...</td>\n",
       "      <td>[0, 1, 0, 0, 0]</td>\n",
       "      <td>[1, 0, 0, 0, 0]</td>\n",
       "      <td>[1, 0, 0, 0, 0]</td>\n",
       "    </tr>\n",
       "    <tr>\n",
       "      <th>1</th>\n",
       "      <td>Morty</td>\n",
       "      <td>what, rick? what’s going on?</td>\n",
       "      <td>[0, 0, 0, 0, 0]</td>\n",
       "      <td>[0, 0, 0, 0, 0]</td>\n",
       "      <td>[0, 0, 0, 0, 0]</td>\n",
       "    </tr>\n",
       "    <tr>\n",
       "      <th>2</th>\n",
       "      <td>Rick</td>\n",
       "      <td>i got a surprise for you, morty.</td>\n",
       "      <td>[0, 0, 0, 1, 1]</td>\n",
       "      <td>[0, 1, 0, 1, 0]</td>\n",
       "      <td>[0, 1, 0, 0, 1]</td>\n",
       "    </tr>\n",
       "    <tr>\n",
       "      <th>3</th>\n",
       "      <td>Morty</td>\n",
       "      <td>it's the middle of the night. what are you tal...</td>\n",
       "      <td>[1, 1, 0, 0, 0]</td>\n",
       "      <td>[1, 0, 1, 0, 0]</td>\n",
       "      <td>[1, 0, 0, 1, 0]</td>\n",
       "    </tr>\n",
       "    <tr>\n",
       "      <th>4</th>\n",
       "      <td>Rick</td>\n",
       "      <td>come on, i got a surprise for you.  come on, h...</td>\n",
       "      <td>[0, 0, 0, 1, 1]</td>\n",
       "      <td>[0, 1, 0, 1, 0]</td>\n",
       "      <td>[0, 1, 0, 0, 1]</td>\n",
       "    </tr>\n",
       "    <tr>\n",
       "      <th>...</th>\n",
       "      <td>...</td>\n",
       "      <td>...</td>\n",
       "      <td>...</td>\n",
       "      <td>...</td>\n",
       "      <td>...</td>\n",
       "    </tr>\n",
       "    <tr>\n",
       "      <th>1900</th>\n",
       "      <td>Morty</td>\n",
       "      <td>that was amazing!</td>\n",
       "      <td>[0, 0, 0, 0, 0]</td>\n",
       "      <td>[0, 0, 0, 0, 0]</td>\n",
       "      <td>[0, 0, 0, 0, 0]</td>\n",
       "    </tr>\n",
       "    <tr>\n",
       "      <th>1901</th>\n",
       "      <td>Rick</td>\n",
       "      <td>got some of that mermaid puss!</td>\n",
       "      <td>[0, 0, 0, 0, 0]</td>\n",
       "      <td>[0, 0, 0, 0, 0]</td>\n",
       "      <td>[0, 0, 0, 0, 0]</td>\n",
       "    </tr>\n",
       "    <tr>\n",
       "      <th>1902</th>\n",
       "      <td>Morty</td>\n",
       "      <td>i'm really hoping it wasn't a one-off thing an...</td>\n",
       "      <td>[1, 0, 0, 1, 1]</td>\n",
       "      <td>[0, 1, 1, 1, 0]</td>\n",
       "      <td>[0, 1, 0, 1, 1]</td>\n",
       "    </tr>\n",
       "    <tr>\n",
       "      <th>1903</th>\n",
       "      <td>Rick</td>\n",
       "      <td>pssh! not at all, morty. that place will never...</td>\n",
       "      <td>[0, 0, 0, 0, 0]</td>\n",
       "      <td>[0, 0, 0, 0, 0]</td>\n",
       "      <td>[0, 0, 0, 0, 0]</td>\n",
       "    </tr>\n",
       "    <tr>\n",
       "      <th>1904</th>\n",
       "      <td>Morty</td>\n",
       "      <td>whoo! yeah! yeaah! ohhh, shit!</td>\n",
       "      <td>[0, 0, 0, 0, 0]</td>\n",
       "      <td>[0, 0, 0, 0, 0]</td>\n",
       "      <td>[0, 0, 0, 0, 0]</td>\n",
       "    </tr>\n",
       "  </tbody>\n",
       "</table>\n",
       "<p>1905 rows × 5 columns</p>\n",
       "</div>"
      ],
      "text/plain": [
       "       name                                               line  \\\n",
       "0      Rick  morty! you gotta come on. jus'... you gotta co...   \n",
       "1     Morty                       what, rick? what’s going on?   \n",
       "2      Rick                   i got a surprise for you, morty.   \n",
       "3     Morty  it's the middle of the night. what are you tal...   \n",
       "4      Rick  come on, i got a surprise for you.  come on, h...   \n",
       "...     ...                                                ...   \n",
       "1900  Morty                                  that was amazing!   \n",
       "1901   Rick                     got some of that mermaid puss!   \n",
       "1902  Morty  i'm really hoping it wasn't a one-off thing an...   \n",
       "1903   Rick  pssh! not at all, morty. that place will never...   \n",
       "1904  Morty                     whoo! yeah! yeaah! ohhh, shit!   \n",
       "\n",
       "          RickVectors     MortyVectors      BethVectors  \n",
       "0     [0, 1, 0, 0, 0]  [1, 0, 0, 0, 0]  [1, 0, 0, 0, 0]  \n",
       "1     [0, 0, 0, 0, 0]  [0, 0, 0, 0, 0]  [0, 0, 0, 0, 0]  \n",
       "2     [0, 0, 0, 1, 1]  [0, 1, 0, 1, 0]  [0, 1, 0, 0, 1]  \n",
       "3     [1, 1, 0, 0, 0]  [1, 0, 1, 0, 0]  [1, 0, 0, 1, 0]  \n",
       "4     [0, 0, 0, 1, 1]  [0, 1, 0, 1, 0]  [0, 1, 0, 0, 1]  \n",
       "...               ...              ...              ...  \n",
       "1900  [0, 0, 0, 0, 0]  [0, 0, 0, 0, 0]  [0, 0, 0, 0, 0]  \n",
       "1901  [0, 0, 0, 0, 0]  [0, 0, 0, 0, 0]  [0, 0, 0, 0, 0]  \n",
       "1902  [1, 0, 0, 1, 1]  [0, 1, 1, 1, 0]  [0, 1, 0, 1, 1]  \n",
       "1903  [0, 0, 0, 0, 0]  [0, 0, 0, 0, 0]  [0, 0, 0, 0, 0]  \n",
       "1904  [0, 0, 0, 0, 0]  [0, 0, 0, 0, 0]  [0, 0, 0, 0, 0]  \n",
       "\n",
       "[1905 rows x 5 columns]"
      ]
     },
     "execution_count": 10,
     "metadata": {},
     "output_type": "execute_result"
    }
   ],
   "source": [
    "df"
   ]
  },
  {
   "cell_type": "code",
   "execution_count": 11,
   "id": "991d0109",
   "metadata": {},
   "outputs": [],
   "source": [
    "def testTrainSplit(data):\n",
    "  length = len(df.index)\n",
    "  splitLimit = int(length * 0.7)\n",
    "  train = data[0: splitLimit]\n",
    "  test = data[splitLimit + 1: length]\n",
    "  return train, test\n",
    "train, test = testTrainSplit(df)"
   ]
  },
  {
   "cell_type": "code",
   "execution_count": 12,
   "id": "739e8c87",
   "metadata": {},
   "outputs": [
    {
     "data": {
      "text/plain": [
       "{'the': 37, 'you': 56, 'to': 45, 'i': 45, 'a': 36}"
      ]
     },
     "execution_count": 12,
     "metadata": {},
     "output_type": "execute_result"
    }
   ],
   "source": [
    "#Dict of top 15 words said by top 3 characters.\n",
    "top15 = {}\n",
    "\n",
    "top15 = dict(rickResult)\n",
    "top15.update(mortyResult)\n",
    "top15.update(bethResult)\n",
    "\n",
    "#top15 = sorted(top15.items(), key = lambda x:x[1], reverse = True)\n",
    "\n",
    "dict(top15)"
   ]
  },
  {
   "cell_type": "code",
   "execution_count": 13,
   "id": "4546a520",
   "metadata": {},
   "outputs": [
    {
     "data": {
      "text/html": [
       "<div>\n",
       "<style scoped>\n",
       "    .dataframe tbody tr th:only-of-type {\n",
       "        vertical-align: middle;\n",
       "    }\n",
       "\n",
       "    .dataframe tbody tr th {\n",
       "        vertical-align: top;\n",
       "    }\n",
       "\n",
       "    .dataframe thead th {\n",
       "        text-align: right;\n",
       "    }\n",
       "</style>\n",
       "<table border=\"1\" class=\"dataframe\">\n",
       "  <thead>\n",
       "    <tr style=\"text-align: right;\">\n",
       "      <th></th>\n",
       "      <th>the</th>\n",
       "      <th>you</th>\n",
       "      <th>to</th>\n",
       "      <th>i</th>\n",
       "      <th>a</th>\n",
       "      <th>label</th>\n",
       "    </tr>\n",
       "  </thead>\n",
       "  <tbody>\n",
       "    <tr>\n",
       "      <th>0</th>\n",
       "      <td>0</td>\n",
       "      <td>1</td>\n",
       "      <td>0</td>\n",
       "      <td>1</td>\n",
       "      <td>1</td>\n",
       "      <td>Rick</td>\n",
       "    </tr>\n",
       "    <tr>\n",
       "      <th>1</th>\n",
       "      <td>0</td>\n",
       "      <td>0</td>\n",
       "      <td>0</td>\n",
       "      <td>1</td>\n",
       "      <td>1</td>\n",
       "      <td>Morty</td>\n",
       "    </tr>\n",
       "    <tr>\n",
       "      <th>2</th>\n",
       "      <td>0</td>\n",
       "      <td>1</td>\n",
       "      <td>0</td>\n",
       "      <td>1</td>\n",
       "      <td>1</td>\n",
       "      <td>Rick</td>\n",
       "    </tr>\n",
       "    <tr>\n",
       "      <th>3</th>\n",
       "      <td>1</td>\n",
       "      <td>1</td>\n",
       "      <td>0</td>\n",
       "      <td>1</td>\n",
       "      <td>1</td>\n",
       "      <td>Morty</td>\n",
       "    </tr>\n",
       "    <tr>\n",
       "      <th>4</th>\n",
       "      <td>0</td>\n",
       "      <td>1</td>\n",
       "      <td>0</td>\n",
       "      <td>1</td>\n",
       "      <td>1</td>\n",
       "      <td>Rick</td>\n",
       "    </tr>\n",
       "    <tr>\n",
       "      <th>...</th>\n",
       "      <td>...</td>\n",
       "      <td>...</td>\n",
       "      <td>...</td>\n",
       "      <td>...</td>\n",
       "      <td>...</td>\n",
       "      <td>...</td>\n",
       "    </tr>\n",
       "    <tr>\n",
       "      <th>1328</th>\n",
       "      <td>1</td>\n",
       "      <td>1</td>\n",
       "      <td>1</td>\n",
       "      <td>1</td>\n",
       "      <td>1</td>\n",
       "      <td>Morty</td>\n",
       "    </tr>\n",
       "    <tr>\n",
       "      <th>1329</th>\n",
       "      <td>1</td>\n",
       "      <td>1</td>\n",
       "      <td>1</td>\n",
       "      <td>1</td>\n",
       "      <td>1</td>\n",
       "      <td>Pickle Rick</td>\n",
       "    </tr>\n",
       "    <tr>\n",
       "      <th>1330</th>\n",
       "      <td>0</td>\n",
       "      <td>0</td>\n",
       "      <td>1</td>\n",
       "      <td>1</td>\n",
       "      <td>1</td>\n",
       "      <td>Beth</td>\n",
       "    </tr>\n",
       "    <tr>\n",
       "      <th>1331</th>\n",
       "      <td>1</td>\n",
       "      <td>1</td>\n",
       "      <td>0</td>\n",
       "      <td>1</td>\n",
       "      <td>1</td>\n",
       "      <td>Pickle Rick</td>\n",
       "    </tr>\n",
       "    <tr>\n",
       "      <th>1332</th>\n",
       "      <td>0</td>\n",
       "      <td>1</td>\n",
       "      <td>1</td>\n",
       "      <td>1</td>\n",
       "      <td>1</td>\n",
       "      <td>Beth</td>\n",
       "    </tr>\n",
       "  </tbody>\n",
       "</table>\n",
       "<p>1333 rows × 6 columns</p>\n",
       "</div>"
      ],
      "text/plain": [
       "      the  you  to  i  a        label\n",
       "0       0    1   0  1  1         Rick\n",
       "1       0    0   0  1  1        Morty\n",
       "2       0    1   0  1  1         Rick\n",
       "3       1    1   0  1  1        Morty\n",
       "4       0    1   0  1  1         Rick\n",
       "...   ...  ...  .. .. ..          ...\n",
       "1328    1    1   1  1  1        Morty\n",
       "1329    1    1   1  1  1  Pickle Rick\n",
       "1330    0    0   1  1  1         Beth\n",
       "1331    1    1   0  1  1  Pickle Rick\n",
       "1332    0    1   1  1  1         Beth\n",
       "\n",
       "[1333 rows x 6 columns]"
      ]
     },
     "execution_count": 13,
     "metadata": {},
     "output_type": "execute_result"
    }
   ],
   "source": [
    "\n",
    "\n",
    "def rickProbTable(trainDF):\n",
    "    \n",
    "  feature_records = []\n",
    "  for idx in range(len(trainDF)):\n",
    "    feature_vector = []\n",
    "    msg = trainDF.iat[idx, 1]\n",
    "    label = trainDF.iat[idx, 0]\n",
    "    for word in top15.keys():\n",
    "      feature_vector.append(1 if word in msg else 0)\n",
    "    feature_vector.append(label)\n",
    "    feature_records.append(feature_vector)\n",
    "  feature_df = pd.DataFrame(feature_records)\n",
    "  columns = list(top15.keys())\n",
    "  columns.append('label')\n",
    "  feature_df.columns = columns\n",
    "  return feature_df\n",
    "\n",
    "probTable = rickProbTable(train)\n",
    "probTable"
   ]
  },
  {
   "cell_type": "code",
   "execution_count": 27,
   "id": "241b76c7",
   "metadata": {},
   "outputs": [
    {
     "name": "stdout",
     "output_type": "stream",
     "text": [
      "0.24306076519129782 0.2040510127531883 0.09077269317329333\n"
     ]
    }
   ],
   "source": [
    "rick = probTable[probTable.label == 'Rick'].label.count() / probTable.shape[0]\n",
    "morty = probTable[probTable.label == 'Morty'].label.count() / probTable.shape[0]\n",
    "beth = probTable[probTable.label == 'Beth'].label.count() / probTable.shape[0]\n",
    "print(rick, morty,beth)"
   ]
  },
  {
   "cell_type": "code",
   "execution_count": 28,
   "id": "706535bc",
   "metadata": {},
   "outputs": [],
   "source": [
    "def rickProbWord(label, probTable):\n",
    "  '''\n",
    "  Calculates the probability of a 'top' word appearing in the dataset given a label\n",
    "  '''\n",
    "  df = probTable[probTable.label == label]\n",
    "  counts = df[top15.keys()].sum(axis=0) # compute # of 1s\n",
    "  word_probs = counts / df.shape[0]\n",
    "  word_probs = word_probs.to_dict()\n",
    "  return word_probs\n",
    "\n",
    "# each of these dictionaries has key (feature word): value (p(feature=1|label))\n",
    "rickProbs = rickProbWord(\"Rick\", probTable)\n",
    "mortyProbs = rickProbWord(\"Morty\", probTable)\n",
    "bethProbs = rickProbWord(\"Beth\", probTable)"
   ]
  },
  {
   "cell_type": "code",
   "execution_count": 16,
   "id": "de957402",
   "metadata": {},
   "outputs": [
    {
     "data": {
      "text/plain": [
       "{'the': 0.4506172839506173,\n",
       " 'you': 0.49382716049382713,\n",
       " 'to': 0.38580246913580246,\n",
       " 'i': 0.8611111111111112,\n",
       " 'a': 0.9104938271604939}"
      ]
     },
     "execution_count": 16,
     "metadata": {},
     "output_type": "execute_result"
    }
   ],
   "source": [
    "rickProbs\n"
   ]
  },
  {
   "cell_type": "code",
   "execution_count": 17,
   "id": "a1f5650c",
   "metadata": {},
   "outputs": [
    {
     "data": {
      "text/plain": [
       "{'the': 0.18382352941176472,\n",
       " 'you': 0.3125,\n",
       " 'to': 0.16544117647058823,\n",
       " 'i': 0.6911764705882353,\n",
       " 'a': 0.8272058823529411}"
      ]
     },
     "execution_count": 17,
     "metadata": {},
     "output_type": "execute_result"
    }
   ],
   "source": [
    "mortyProbs\n",
    "\n"
   ]
  },
  {
   "cell_type": "code",
   "execution_count": 35,
   "id": "9332ab4b",
   "metadata": {},
   "outputs": [],
   "source": [
    "\n",
    "\n",
    "def predict(feature_vector):\n",
    "  '''\n",
    "  Performs the Naive Bayes calculation P(y | x_i) = P(x_i) * P(y)\n",
    "  Returns the label with the higher probability.\n",
    "  '''\n",
    "  r_prob = rickProbs\n",
    "  m_prob = mortyProbs\n",
    "  b_prob = bethProbs\n",
    "  feature_words = list(top15.keys())\n",
    "  for idx in range(len(feature_vector)):\n",
    "    current_word = feature_words[idx]\n",
    "    if feature_vector[idx] == 1:\n",
    "      r_prob = r_prob * r_prob[current_word]\n",
    "      m_prob = m_prob * m_prob[current_word]\n",
    "      b_prob =  b_prob *  b_prob[current_word]\n",
    "    else:\n",
    "      # to compute p(x_i=0|label), we just subtract that\n",
    "      # probably from 1: so p(x_i=0|label) = 1 - p(x_i=1|label).\n",
    "      # Why do you think that is? Would that work with multiclass\n",
    "      # naive bayes?\n",
    "      r_prob = r_prob * (1-r_prob[current_word])\n",
    "      m_prob = m_prob * (1-m_prob[current_word])\n",
    "      b_prob = b_prob * (1-b_prob[current_word])\n",
    "  print(f\"P(rick) = {r_prob:.2f}\")\n",
    "  print(f\"P(morty) = {m_prob:.2f}\")\n",
    "  print(f\"P(morty) = {b_prob:.2f}\")\n",
    "  if m_prob > r_prob:\n",
    "    return 'morty'\n",
    "  if r_prob > b_prob:\n",
    "    return 'rick'\n",
    "  else:\n",
    "    return 'beth'"
   ]
  },
  {
   "cell_type": "code",
   "execution_count": 33,
   "id": "8292e3f4",
   "metadata": {},
   "outputs": [
    {
     "name": "stdout",
     "output_type": "stream",
     "text": [
      "great. we'll see you later.\n"
     ]
    },
    {
     "ename": "TypeError",
     "evalue": "float() argument must be a string or a number, not 'dict'",
     "output_type": "error",
     "traceback": [
      "\u001b[1;31m---------------------------------------------------------------------------\u001b[0m",
      "\u001b[1;31mTypeError\u001b[0m                                 Traceback (most recent call last)",
      "\u001b[1;32mc:\\Users\\adria\\OneDrive\\Documents\\GitHub\\CCIC_DS1\\RickAndMortyNaiveBayes.ipynb Cell 20\u001b[0m in \u001b[0;36m<cell line: 3>\u001b[1;34m()\u001b[0m\n\u001b[0;32m      <a href='vscode-notebook-cell:/c%3A/Users/adria/OneDrive/Documents/GitHub/CCIC_DS1/RickAndMortyNaiveBayes.ipynb#X25sZmlsZQ%3D%3D?line=2'>3</a>\u001b[0m \u001b[39mfor\u001b[39;00m idx, (label, word,word2,word3,feature_vector) \u001b[39min\u001b[39;00m test\u001b[39m.\u001b[39miterrows():\n\u001b[0;32m      <a href='vscode-notebook-cell:/c%3A/Users/adria/OneDrive/Documents/GitHub/CCIC_DS1/RickAndMortyNaiveBayes.ipynb#X25sZmlsZQ%3D%3D?line=3'>4</a>\u001b[0m   \u001b[39mprint\u001b[39m(word)\n\u001b[1;32m----> <a href='vscode-notebook-cell:/c%3A/Users/adria/OneDrive/Documents/GitHub/CCIC_DS1/RickAndMortyNaiveBayes.ipynb#X25sZmlsZQ%3D%3D?line=4'>5</a>\u001b[0m   predicted_label \u001b[39m=\u001b[39m predict(probTable)\n\u001b[0;32m      <a href='vscode-notebook-cell:/c%3A/Users/adria/OneDrive/Documents/GitHub/CCIC_DS1/RickAndMortyNaiveBayes.ipynb#X25sZmlsZQ%3D%3D?line=5'>6</a>\u001b[0m   \u001b[39mprint\u001b[39m(label, predicted_label)\n\u001b[0;32m      <a href='vscode-notebook-cell:/c%3A/Users/adria/OneDrive/Documents/GitHub/CCIC_DS1/RickAndMortyNaiveBayes.ipynb#X25sZmlsZQ%3D%3D?line=6'>7</a>\u001b[0m   \u001b[39mif\u001b[39;00m label \u001b[39m==\u001b[39m predicted_label:\n",
      "\u001b[1;32mc:\\Users\\adria\\OneDrive\\Documents\\GitHub\\CCIC_DS1\\RickAndMortyNaiveBayes.ipynb Cell 20\u001b[0m in \u001b[0;36mpredict\u001b[1;34m(feature_vector)\u001b[0m\n\u001b[0;32m      <a href='vscode-notebook-cell:/c%3A/Users/adria/OneDrive/Documents/GitHub/CCIC_DS1/RickAndMortyNaiveBayes.ipynb#X25sZmlsZQ%3D%3D?line=0'>1</a>\u001b[0m \u001b[39mdef\u001b[39;00m \u001b[39mpredict\u001b[39m(feature_vector):\n\u001b[0;32m      <a href='vscode-notebook-cell:/c%3A/Users/adria/OneDrive/Documents/GitHub/CCIC_DS1/RickAndMortyNaiveBayes.ipynb#X25sZmlsZQ%3D%3D?line=1'>2</a>\u001b[0m   \u001b[39m'''\u001b[39;00m\n\u001b[0;32m      <a href='vscode-notebook-cell:/c%3A/Users/adria/OneDrive/Documents/GitHub/CCIC_DS1/RickAndMortyNaiveBayes.ipynb#X25sZmlsZQ%3D%3D?line=2'>3</a>\u001b[0m \u001b[39m  Performs the Naive Bayes calculation P(y | x_i) = P(x_i) * P(y)\u001b[39;00m\n\u001b[0;32m      <a href='vscode-notebook-cell:/c%3A/Users/adria/OneDrive/Documents/GitHub/CCIC_DS1/RickAndMortyNaiveBayes.ipynb#X25sZmlsZQ%3D%3D?line=3'>4</a>\u001b[0m \u001b[39m  Returns the label with the higher probability.\u001b[39;00m\n\u001b[0;32m      <a href='vscode-notebook-cell:/c%3A/Users/adria/OneDrive/Documents/GitHub/CCIC_DS1/RickAndMortyNaiveBayes.ipynb#X25sZmlsZQ%3D%3D?line=4'>5</a>\u001b[0m \u001b[39m  '''\u001b[39;00m\n\u001b[1;32m----> <a href='vscode-notebook-cell:/c%3A/Users/adria/OneDrive/Documents/GitHub/CCIC_DS1/RickAndMortyNaiveBayes.ipynb#X25sZmlsZQ%3D%3D?line=5'>6</a>\u001b[0m   r_prob \u001b[39m=\u001b[39m \u001b[39mfloat\u001b[39;49m(rickProbs)\n\u001b[0;32m      <a href='vscode-notebook-cell:/c%3A/Users/adria/OneDrive/Documents/GitHub/CCIC_DS1/RickAndMortyNaiveBayes.ipynb#X25sZmlsZQ%3D%3D?line=6'>7</a>\u001b[0m   m_prob \u001b[39m=\u001b[39m mortyProbs\n\u001b[0;32m      <a href='vscode-notebook-cell:/c%3A/Users/adria/OneDrive/Documents/GitHub/CCIC_DS1/RickAndMortyNaiveBayes.ipynb#X25sZmlsZQ%3D%3D?line=7'>8</a>\u001b[0m   b_prob \u001b[39m=\u001b[39m bethProbs\n",
      "\u001b[1;31mTypeError\u001b[0m: float() argument must be a string or a number, not 'dict'"
     ]
    }
   ],
   "source": [
    "# Calculates the percent of messages correctly labeled of the test dataset\n",
    "correct = 0\n",
    "for idx, (label, word,word2,word3,feature_vector) in test.iterrows():\n",
    "  print(word)\n",
    "  predicted_label = predict(probTable)\n",
    "  print(label, predicted_label)\n",
    "  if label == predicted_label:\n",
    "    correct += 1\n",
    "print(correct / test.shape[0])"
   ]
  },
  {
   "cell_type": "code",
   "execution_count": null,
   "id": "2cc04800",
   "metadata": {},
   "outputs": [],
   "source": [
    "#Rick probability = 0.0103\n",
    "# Morty Probability = 0.0006059303"
   ]
  },
  {
   "cell_type": "code",
   "execution_count": 37,
   "id": "21d6d66d",
   "metadata": {},
   "outputs": [
    {
     "ename": "KeyError",
     "evalue": "0",
     "output_type": "error",
     "traceback": [
      "\u001b[1;31m---------------------------------------------------------------------------\u001b[0m",
      "\u001b[1;31mKeyError\u001b[0m                                  Traceback (most recent call last)",
      "File \u001b[1;32mc:\\Users\\adria\\anaconda3\\lib\\site-packages\\pandas\\core\\indexes\\base.py:3621\u001b[0m, in \u001b[0;36mIndex.get_loc\u001b[1;34m(self, key, method, tolerance)\u001b[0m\n\u001b[0;32m   3620\u001b[0m \u001b[39mtry\u001b[39;00m:\n\u001b[1;32m-> 3621\u001b[0m     \u001b[39mreturn\u001b[39;00m \u001b[39mself\u001b[39;49m\u001b[39m.\u001b[39;49m_engine\u001b[39m.\u001b[39;49mget_loc(casted_key)\n\u001b[0;32m   3622\u001b[0m \u001b[39mexcept\u001b[39;00m \u001b[39mKeyError\u001b[39;00m \u001b[39mas\u001b[39;00m err:\n",
      "File \u001b[1;32mc:\\Users\\adria\\anaconda3\\lib\\site-packages\\pandas\\_libs\\index.pyx:136\u001b[0m, in \u001b[0;36mpandas._libs.index.IndexEngine.get_loc\u001b[1;34m()\u001b[0m\n",
      "File \u001b[1;32mc:\\Users\\adria\\anaconda3\\lib\\site-packages\\pandas\\_libs\\index.pyx:163\u001b[0m, in \u001b[0;36mpandas._libs.index.IndexEngine.get_loc\u001b[1;34m()\u001b[0m\n",
      "File \u001b[1;32mpandas\\_libs\\hashtable_class_helper.pxi:5198\u001b[0m, in \u001b[0;36mpandas._libs.hashtable.PyObjectHashTable.get_item\u001b[1;34m()\u001b[0m\n",
      "File \u001b[1;32mpandas\\_libs\\hashtable_class_helper.pxi:5206\u001b[0m, in \u001b[0;36mpandas._libs.hashtable.PyObjectHashTable.get_item\u001b[1;34m()\u001b[0m\n",
      "\u001b[1;31mKeyError\u001b[0m: 0",
      "\nThe above exception was the direct cause of the following exception:\n",
      "\u001b[1;31mKeyError\u001b[0m                                  Traceback (most recent call last)",
      "\u001b[1;32mc:\\Users\\adria\\OneDrive\\Documents\\GitHub\\CCIC_DS1\\RickAndMortyNaiveBayes.ipynb Cell 22\u001b[0m in \u001b[0;36m<cell line: 1>\u001b[1;34m()\u001b[0m\n\u001b[1;32m----> <a href='vscode-notebook-cell:/c%3A/Users/adria/OneDrive/Documents/GitHub/CCIC_DS1/RickAndMortyNaiveBayes.ipynb#X30sZmlsZQ%3D%3D?line=0'>1</a>\u001b[0m predict(train)\n",
      "\u001b[1;32mc:\\Users\\adria\\OneDrive\\Documents\\GitHub\\CCIC_DS1\\RickAndMortyNaiveBayes.ipynb Cell 22\u001b[0m in \u001b[0;36mpredict\u001b[1;34m(feature_vector)\u001b[0m\n\u001b[0;32m     <a href='vscode-notebook-cell:/c%3A/Users/adria/OneDrive/Documents/GitHub/CCIC_DS1/RickAndMortyNaiveBayes.ipynb#X30sZmlsZQ%3D%3D?line=9'>10</a>\u001b[0m \u001b[39mfor\u001b[39;00m idx \u001b[39min\u001b[39;00m \u001b[39mrange\u001b[39m(\u001b[39mlen\u001b[39m(feature_vector)):\n\u001b[0;32m     <a href='vscode-notebook-cell:/c%3A/Users/adria/OneDrive/Documents/GitHub/CCIC_DS1/RickAndMortyNaiveBayes.ipynb#X30sZmlsZQ%3D%3D?line=10'>11</a>\u001b[0m   current_word \u001b[39m=\u001b[39m feature_words[idx]\n\u001b[1;32m---> <a href='vscode-notebook-cell:/c%3A/Users/adria/OneDrive/Documents/GitHub/CCIC_DS1/RickAndMortyNaiveBayes.ipynb#X30sZmlsZQ%3D%3D?line=11'>12</a>\u001b[0m   \u001b[39mif\u001b[39;00m feature_vector[idx] \u001b[39m==\u001b[39m \u001b[39m1\u001b[39m:\n\u001b[0;32m     <a href='vscode-notebook-cell:/c%3A/Users/adria/OneDrive/Documents/GitHub/CCIC_DS1/RickAndMortyNaiveBayes.ipynb#X30sZmlsZQ%3D%3D?line=12'>13</a>\u001b[0m     r_prob \u001b[39m=\u001b[39m r_prob \u001b[39m*\u001b[39m r_prob[current_word]\n\u001b[0;32m     <a href='vscode-notebook-cell:/c%3A/Users/adria/OneDrive/Documents/GitHub/CCIC_DS1/RickAndMortyNaiveBayes.ipynb#X30sZmlsZQ%3D%3D?line=13'>14</a>\u001b[0m     m_prob \u001b[39m=\u001b[39m m_prob \u001b[39m*\u001b[39m m_prob[current_word]\n",
      "File \u001b[1;32mc:\\Users\\adria\\anaconda3\\lib\\site-packages\\pandas\\core\\frame.py:3505\u001b[0m, in \u001b[0;36mDataFrame.__getitem__\u001b[1;34m(self, key)\u001b[0m\n\u001b[0;32m   3503\u001b[0m \u001b[39mif\u001b[39;00m \u001b[39mself\u001b[39m\u001b[39m.\u001b[39mcolumns\u001b[39m.\u001b[39mnlevels \u001b[39m>\u001b[39m \u001b[39m1\u001b[39m:\n\u001b[0;32m   3504\u001b[0m     \u001b[39mreturn\u001b[39;00m \u001b[39mself\u001b[39m\u001b[39m.\u001b[39m_getitem_multilevel(key)\n\u001b[1;32m-> 3505\u001b[0m indexer \u001b[39m=\u001b[39m \u001b[39mself\u001b[39;49m\u001b[39m.\u001b[39;49mcolumns\u001b[39m.\u001b[39;49mget_loc(key)\n\u001b[0;32m   3506\u001b[0m \u001b[39mif\u001b[39;00m is_integer(indexer):\n\u001b[0;32m   3507\u001b[0m     indexer \u001b[39m=\u001b[39m [indexer]\n",
      "File \u001b[1;32mc:\\Users\\adria\\anaconda3\\lib\\site-packages\\pandas\\core\\indexes\\base.py:3623\u001b[0m, in \u001b[0;36mIndex.get_loc\u001b[1;34m(self, key, method, tolerance)\u001b[0m\n\u001b[0;32m   3621\u001b[0m     \u001b[39mreturn\u001b[39;00m \u001b[39mself\u001b[39m\u001b[39m.\u001b[39m_engine\u001b[39m.\u001b[39mget_loc(casted_key)\n\u001b[0;32m   3622\u001b[0m \u001b[39mexcept\u001b[39;00m \u001b[39mKeyError\u001b[39;00m \u001b[39mas\u001b[39;00m err:\n\u001b[1;32m-> 3623\u001b[0m     \u001b[39mraise\u001b[39;00m \u001b[39mKeyError\u001b[39;00m(key) \u001b[39mfrom\u001b[39;00m \u001b[39merr\u001b[39;00m\n\u001b[0;32m   3624\u001b[0m \u001b[39mexcept\u001b[39;00m \u001b[39mTypeError\u001b[39;00m:\n\u001b[0;32m   3625\u001b[0m     \u001b[39m# If we have a listlike key, _check_indexing_error will raise\u001b[39;00m\n\u001b[0;32m   3626\u001b[0m     \u001b[39m#  InvalidIndexError. Otherwise we fall through and re-raise\u001b[39;00m\n\u001b[0;32m   3627\u001b[0m     \u001b[39m#  the TypeError.\u001b[39;00m\n\u001b[0;32m   3628\u001b[0m     \u001b[39mself\u001b[39m\u001b[39m.\u001b[39m_check_indexing_error(key)\n",
      "\u001b[1;31mKeyError\u001b[0m: 0"
     ]
    }
   ],
   "source": []
  },
  {
   "cell_type": "code",
   "execution_count": null,
   "id": "5da626bb",
   "metadata": {},
   "outputs": [],
   "source": []
  }
 ],
 "metadata": {
  "kernelspec": {
   "display_name": "Python 3 (ipykernel)",
   "language": "python",
   "name": "python3"
  },
  "language_info": {
   "codemirror_mode": {
    "name": "ipython",
    "version": 3
   },
   "file_extension": ".py",
   "mimetype": "text/x-python",
   "name": "python",
   "nbconvert_exporter": "python",
   "pygments_lexer": "ipython3",
   "version": "3.9.12"
  }
 },
 "nbformat": 4,
 "nbformat_minor": 5
}
