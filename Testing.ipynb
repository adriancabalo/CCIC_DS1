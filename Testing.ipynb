{
 "cells": [
  {
   "cell_type": "code",
   "execution_count": 18,
   "id": "3d2a6f18",
   "metadata": {},
   "outputs": [
    {
     "data": {
      "text/plain": [
       "' bcdefghijklmnopqrstuvwxyzacdefghijklmnopqrstuvwxyzabdefghijklmnopqrstuvwxyzabcefghijklmnopqrstuvwxyz'"
      ]
     },
     "execution_count": 18,
     "metadata": {},
     "output_type": "execute_result"
    }
   ],
   "source": [
    "def getMissing(letters):\n",
    "    add = \" \"\n",
    "    for i in letters:\n",
    "        if(i != \"a\"):\n",
    "            add += \"a\"\n",
    "        if(i != \"b\"):\n",
    "            add += \"b\"\n",
    "        if(i != \"c\"):\n",
    "            add += \"c\"\n",
    "        if(i != \"d\"):\n",
    "            add += \"d\"\n",
    "        if(i != \"e\"):\n",
    "            add += \"e\"\n",
    "        if(i != \"f\"):\n",
    "            add += \"f\"\n",
    "        if(i != \"g\"):\n",
    "            add += \"g\"\n",
    "        if(i!= \"h\"):\n",
    "            add += \"h\"     \n",
    "        if(i != \"i\"):\n",
    "            add += \"i\"\n",
    "        if(i != \"j\"):\n",
    "            add += \"j\"\n",
    "        if(i != \"k\"):\n",
    "            add += \"k\"\n",
    "        if(i != \"l\"):\n",
    "            add += \"l\"\n",
    "        if(i != \"m\"):\n",
    "            add += \"m\"\n",
    "        if(i != \"n\"):\n",
    "            add += \"n\"\n",
    "        if(i != \"o\"):\n",
    "            add += \"o\"\n",
    "        if(i != \"p\"):\n",
    "            add += \"p\"\n",
    "        if(i != \"q\"):\n",
    "            add += \"q\"\n",
    "        if(i != \"r\"):\n",
    "            add += \"r\"\n",
    "        if(i != \"s\"):\n",
    "            add += \"s\"\n",
    "        if(i != \"t\"):\n",
    "            add += \"t\"\n",
    "        if(i != \"u\"):\n",
    "            add += \"u\"\n",
    "        if(i != \"v\"):\n",
    "            add += \"v\"\n",
    "        if(i != \"w\"):\n",
    "            add += \"w\"\n",
    "        if(i != \"x\"):\n",
    "            add += \"x\"\n",
    "        if(i != \"y\"):\n",
    "            add += \"y\"\n",
    "        if(i != \"z\"):\n",
    "            add += \"z\"\n",
    "    return add\n",
    "\n",
    "x = \"abcd\"\n",
    "getMissing(x)\n",
    "        \n",
    "            "
   ]
  },
  {
   "cell_type": "code",
   "execution_count": 26,
   "id": "3c3d43f9",
   "metadata": {},
   "outputs": [
    {
     "name": "stdout",
     "output_type": "stream",
     "text": [
      "b c d e f g h i j k l m n o p q r s t u v w x y z "
     ]
    }
   ],
   "source": [
    "def getMissing(alphabet):\n",
    "    alph = \"abcdefghijklmnopqrstuvwxyz\"\n",
    "    for i in alph:\n",
    "        if i not in alphabet:\n",
    "            print(i, end=\" \")\n",
    "            \n",
    "getMissing(\"a\")\n",
    "\n"
   ]
  },
  {
   "cell_type": "code",
   "execution_count": 23,
   "id": "ea6211e5",
   "metadata": {},
   "outputs": [
    {
     "name": "stdout",
     "output_type": "stream",
     "text": [
      "4\n"
     ]
    }
   ],
   "source": [
    "binary = [1,0,0]\n",
    "\n",
    "def convertToBase10(binaryNum):\n",
    "    binaryNum.reverse()\n",
    "    powers = [1,2,4,8,16,32,64,128,256]\n",
    "    decNum = 0\n",
    "   \n",
    "    for bit in range(len(binaryNum)-1,-1,-1):\n",
    "        decNum = decNum + binaryNum[bit] * powers[bit]\n",
    "        \n",
    "    return decNum\n",
    "\n",
    "print(convertToBase10(binary))"
   ]
  },
  {
   "cell_type": "code",
   "execution_count": 24,
   "id": "868c2783",
   "metadata": {},
   "outputs": [
    {
     "name": "stdout",
     "output_type": "stream",
     "text": [
      "[14, 3]\n",
      "[3, 3]\n"
     ]
    }
   ],
   "source": [
    "def unknown(values):\n",
    "    n = len(values)\n",
    "    for i in range(n-1):\n",
    "        for j in range(0,n-i-1):\n",
    "            if values[j] > values [j+1]:\n",
    "                values[j] = values[j +1]\n",
    "                values[j+1] = values [j]\n",
    "                \n",
    "x = [14,3]\n",
    "print(x)\n",
    "unknown(x)\n",
    "print(x)"
   ]
  },
  {
   "cell_type": "code",
   "execution_count": null,
   "id": "8fbf14d9",
   "metadata": {},
   "outputs": [],
   "source": []
  }
 ],
 "metadata": {
  "kernelspec": {
   "display_name": "Python 3 (ipykernel)",
   "language": "python",
   "name": "python3"
  },
  "language_info": {
   "codemirror_mode": {
    "name": "ipython",
    "version": 3
   },
   "file_extension": ".py",
   "mimetype": "text/x-python",
   "name": "python",
   "nbconvert_exporter": "python",
   "pygments_lexer": "ipython3",
   "version": "3.9.12"
  }
 },
 "nbformat": 4,
 "nbformat_minor": 5
}
