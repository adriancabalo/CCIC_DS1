{
 "cells": [
  {
   "cell_type": "code",
   "execution_count": 13,
   "id": "3d2a6f18",
   "metadata": {},
   "outputs": [],
   "source": [
    "import tracemalloc\n",
    "import random\n"
   ]
  },
  {
   "cell_type": "code",
   "execution_count": 14,
   "id": "3c3d43f9",
   "metadata": {},
   "outputs": [
    {
     "name": "stdout",
     "output_type": "stream",
     "text": [
      "340\n"
     ]
    }
   ],
   "source": [
    "temp = random.sample(range(-1000000, 1000000), 2 ** 1)\n",
    "tracemalloc.start()\n",
    "x1,y1 = tracemalloc.get_traced_memory()\n",
    "temp.sort()\n",
    "x2,y2 = tracemalloc.get_traced_memory()\n",
    "tracemalloc.stop()\n",
    "print(y2 - y1)\n"
   ]
  },
  {
   "cell_type": "code",
   "execution_count": 15,
   "id": "ea6211e5",
   "metadata": {},
   "outputs": [
    {
     "name": "stdout",
     "output_type": "stream",
     "text": [
      "11442\n"
     ]
    }
   ],
   "source": [
    "temp = random.sample(range(-1000000, 1000000), 2 ** 1)\n",
    "tracemalloc.start()\n",
    "temp.sort()\n",
    "x1,y1 = tracemalloc.get_traced_memory()\n",
    "tracemalloc.stop()\n",
    "print(y1)"
   ]
  },
  {
   "cell_type": "code",
   "execution_count": null,
   "id": "868c2783",
   "metadata": {},
   "outputs": [],
   "source": [
    "import time\n",
    "import tracemalloc\n",
    "import random\n",
    "\n",
    "randomlist = []\n",
    "for i in range(0,4):\n",
    "    n = random.randint(-1000000,1000000)\n",
    "    randomlist.append(n)\n",
    "#print(randomlist)\n",
    "\n",
    "\n",
    "#randomlist =\n",
    "\n",
    "def binarySearch(a, item, low, high):\n",
    "    while (low <= high):\n",
    "        mid = low + (high - low) // 2\n",
    "        if (item == a[mid]):\n",
    "            return mid + 1\n",
    "        elif (item > a[mid]):\n",
    "            low = mid + 1\n",
    "        else:\n",
    "            high = mid - 1\n",
    "    return low\n",
    "      \n",
    "\n",
    "def insertionSort(a, n):\n",
    "    for i in range (n): \n",
    "        j = i - 1\n",
    "        selected = a[i]\n",
    "          \n",
    "        \n",
    "        loc = binarySearch(a, selected, 0, j)\n",
    "          \n",
    "        \n",
    "        while (j >= loc):\n",
    "            a[j + 1] = a[j]\n",
    "            j-=1\n",
    "        a[j + 1] = selected\n",
    "  \n",
    "\n",
    "a = randomlist\n",
    "n = len(a)\n",
    "x = time.time()\n",
    "tracemalloc.start()\n",
    "x1,y1 = tracemalloc.get_traced_memory()\n",
    "insertionSort(a, n)\n",
    "x2,y2 = tracemalloc.get_traced_memory()\n",
    "tracemalloc.stop()\n",
    "y = time.time()\n",
    "print(\"Sorted array: \")\n",
    "for i in range (n):\n",
    "    print(a[i], end=\", \")\n",
    "\n",
    "print(y-x)\n",
    "print(y2 - y1)"
   ]
  },
  {
   "cell_type": "code",
   "execution_count": null,
   "id": "8fbf14d9",
   "metadata": {},
   "outputs": [],
   "source": []
  }
 ],
 "metadata": {
  "kernelspec": {
   "display_name": "Python 3 (ipykernel)",
   "language": "python",
   "name": "python3"
  },
  "language_info": {
   "codemirror_mode": {
    "name": "ipython",
    "version": 3
   },
   "file_extension": ".py",
   "mimetype": "text/x-python",
   "name": "python",
   "nbconvert_exporter": "python",
   "pygments_lexer": "ipython3",
   "version": "3.9.12"
  }
 },
 "nbformat": 4,
 "nbformat_minor": 5
}
