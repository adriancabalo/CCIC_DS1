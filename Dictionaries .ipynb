{
 "cells": [
  {
   "cell_type": "code",
   "execution_count": 2,
   "id": "80e1b036",
   "metadata": {},
   "outputs": [
    {
     "name": "stdout",
     "output_type": "stream",
     "text": [
      "What day should you pick?Monday\n",
      "Wakeup,shower, go to school,sleep\n"
     ]
    }
   ],
   "source": [
    "todo = {\"Sunday\":\"Wakeup, shower, get ready for work, work, sleep\",\n",
    "        \"Monday\":\"Wakeup,shower, go to school,sleep\",\n",
    "        \"Tuesday\":\"Wakeup,shower,go to school, volleyball practice if I'm up for it, sleep\",\n",
    "        \"Wednesday\": \"Wakeup, shower, go to school, go to work, sleep\", \n",
    "        \"Thursday\": \"Same as Wednesday\",\n",
    "        \"Friday\":\"Wakeup, shower, school, do something fun, sleep\", \n",
    "        \"Saturday\": \"Do something fun out of the house or watch shows and play videogames\"}\n",
    "x = input(\"What day should you pick?\")\n",
    "print(todo[x])"
   ]
  },
  {
   "cell_type": "code",
   "execution_count": 12,
   "id": "de6aeb7d",
   "metadata": {},
   "outputs": [
    {
     "name": "stdout",
     "output_type": "stream",
     "text": [
      "{'Day': ('Wednesday', 'Thursday', 'Friday', 'Saturday', 'Sunday', 'Monday', 'Tuesday', 'Tuesday'), 'Red': (50, 60, 51, 79, 77, 93, 55, 87), 'Green': (25, 31, 24, 21, 39, 40, 32, 89), 'Blue': (71, 53, 50, 69, 57, 66, 63, 1)}\n"
     ]
    }
   ],
   "source": [
    "x = {\"Date\": [\"08/01/2001\",\"08/02/2001\",\"08/03/2001\",\"08/04/2001\",\"08/05/2001\",\"08/06/2001\",\"08/07/2001\"],\n",
    "     \"Day\": [\"Wednesday\",\"Thursday\",\"Friday\",\"Saturday\",\"Sunday\",\"Monday\",\"Tuesday\"],\n",
    "     \"Red\": [50,60,51,79,77,93,55],\n",
    "     \"Green\": [25,31,24,21,39,40,32],\n",
    "     \"Blue\": [71,53,50,69,57,66,63]}\n",
    "\n",
    "x[\"Date\"] = \"08/01/2001\",\"08/02/2001\",\"08/03/2001\",\"08/04/2001\",\"08/05/2001\",\"08/06/2001\", \"08/08/2001\"\n",
    "x[\"Day\"] = \"Wednesday\",\"Thursday\",\"Friday\",\"Saturday\",\"Sunday\",\"Monday\",\"Tuesday\", \"Tuesday\"\n",
    "x[\"Red\"] = 50,60,51,79,77,93,55, 87\n",
    "x[\"Green\"] = 25,31,24,21,39,40,32, 89\n",
    "x[\"Blue\"] = 71,53,50,69,57,66,63, 1\n",
    "\n",
    "del x[\"Date\"]\n",
    "print(x)\n"
   ]
  },
  {
   "cell_type": "code",
   "execution_count": null,
   "id": "138b662e",
   "metadata": {},
   "outputs": [],
   "source": []
  }
 ],
 "metadata": {
  "kernelspec": {
   "display_name": "Python 3 (ipykernel)",
   "language": "python",
   "name": "python3"
  },
  "language_info": {
   "codemirror_mode": {
    "name": "ipython",
    "version": 3
   },
   "file_extension": ".py",
   "mimetype": "text/x-python",
   "name": "python",
   "nbconvert_exporter": "python",
   "pygments_lexer": "ipython3",
   "version": "3.9.12"
  }
 },
 "nbformat": 4,
 "nbformat_minor": 5
}
