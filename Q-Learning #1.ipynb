{
 "cells": [
  {
   "cell_type": "code",
   "execution_count": 2,
   "id": "7b6a2773",
   "metadata": {},
   "outputs": [],
   "source": [
    "import numpy as np\n",
    "\n",
    "from PIL import Image\n",
    "image = Image.open('5x5.png')\n",
    "image.show()"
   ]
  },
  {
   "cell_type": "code",
   "execution_count": 2,
   "id": "9f608700",
   "metadata": {},
   "outputs": [
    {
     "data": {
      "image/png": "[encoded data removed]",
      "text/plain": [
       "<PIL.PngImagePlugin.PngImageFile image mode=RGBA size=958x956>"
      ]
     },
     "execution_count": 2,
     "metadata": {},
     "output_type": "execute_result"
    }
   ],
   "source": [
    "image"
   ]
  },
  {
   "cell_type": "code",
   "execution_count": 15,
   "id": "055871c3",
   "metadata": {},
   "outputs": [],
   "source": [
    "maze = ([0,0,1,1,2],\n",
    "        [0,1,1,0,1],\n",
    "        [1,1,1,0,1],\n",
    "        [0,1,0,1,0],\n",
    "        [2,0,1,1,1])\n",
    "\n"
   ]
  },
  {
   "cell_type": "code",
   "execution_count": 25,
   "id": "bb0b47e6",
   "metadata": {},
   "outputs": [],
   "source": [
    "start = maze[0][4]\n",
    "end = maze[4][0]\n",
    "agent = 100"
   ]
  },
  {
   "cell_type": "code",
   "execution_count": 54,
   "id": "56220f0b",
   "metadata": {},
   "outputs": [],
   "source": []
  },
  {
   "cell_type": "code",
   "execution_count": 55,
   "id": "87e69cd0",
   "metadata": {},
   "outputs": [],
   "source": []
  },
  {
   "cell_type": "code",
   "execution_count": 56,
   "id": "01c59247",
   "metadata": {},
   "outputs": [
    {
     "data": {
      "text/plain": [
       "(4, 4)"
      ]
     },
     "execution_count": 56,
     "metadata": {},
     "output_type": "execute_result"
    }
   ],
   "source": []
  },
  {
   "cell_type": "code",
   "execution_count": 57,
   "id": "4c821ffb",
   "metadata": {},
   "outputs": [],
   "source": []
  },
  {
   "cell_type": "code",
   "execution_count": 60,
   "id": "6c309c9f",
   "metadata": {},
   "outputs": [],
   "source": []
  },
  {
   "cell_type": "code",
   "execution_count": 61,
   "id": "58400960",
   "metadata": {},
   "outputs": [
    {
     "ename": "NameError",
     "evalue": "name 'wall' is not defined",
     "output_type": "error",
     "traceback": [
      "\u001b[1;31m---------------------------------------------------------------------------\u001b[0m",
      "\u001b[1;31mNameError\u001b[0m                                 Traceback (most recent call last)",
      "\u001b[1;32m~\\AppData\\Local\\Temp\\ipykernel_23664\\3066785083.py\u001b[0m in \u001b[0;36m<module>\u001b[1;34m\u001b[0m\n\u001b[1;32m----> 1\u001b[1;33m \u001b[0mnaive_solution\u001b[0m\u001b[1;33m(\u001b[0m\u001b[1;33m)\u001b[0m\u001b[1;33m\u001b[0m\u001b[1;33m\u001b[0m\u001b[0m\n\u001b[0m",
      "\u001b[1;32m~\\AppData\\Local\\Temp\\ipykernel_23664\\3906081801.py\u001b[0m in \u001b[0;36mnaive_solution\u001b[1;34m()\u001b[0m\n\u001b[0;32m      4\u001b[0m     \u001b[0mend\u001b[0m \u001b[1;33m=\u001b[0m \u001b[1;33m(\u001b[0m\u001b[1;36m4\u001b[0m\u001b[1;33m,\u001b[0m \u001b[1;36m0\u001b[0m\u001b[1;33m)\u001b[0m\u001b[1;33m\u001b[0m\u001b[1;33m\u001b[0m\u001b[0m\n\u001b[0;32m      5\u001b[0m \u001b[1;33m\u001b[0m\u001b[0m\n\u001b[1;32m----> 6\u001b[1;33m     \u001b[0mfield\u001b[0m \u001b[1;33m=\u001b[0m \u001b[0mField\u001b[0m\u001b[1;33m(\u001b[0m\u001b[1;36m5\u001b[0m\u001b[1;33m,\u001b[0m \u001b[0mstart\u001b[0m\u001b[1;33m,\u001b[0m \u001b[0mend\u001b[0m\u001b[1;33m,\u001b[0m \u001b[0mwall\u001b[0m\u001b[1;33m)\u001b[0m\u001b[1;33m\u001b[0m\u001b[1;33m\u001b[0m\u001b[0m\n\u001b[0m\u001b[0;32m      7\u001b[0m     \u001b[0mdone\u001b[0m \u001b[1;33m=\u001b[0m \u001b[1;32mFalse\u001b[0m\u001b[1;33m\u001b[0m\u001b[1;33m\u001b[0m\u001b[0m\n\u001b[0;32m      8\u001b[0m     \u001b[0msteps\u001b[0m \u001b[1;33m=\u001b[0m \u001b[1;36m0\u001b[0m\u001b[1;33m\u001b[0m\u001b[1;33m\u001b[0m\u001b[0m\n",
      "\u001b[1;31mNameError\u001b[0m: name 'wall' is not defined"
     ]
    }
   ],
   "source": [
    "naive_solution()\n"
   ]
  },
  {
   "cell_type": "code",
   "execution_count": null,
   "id": "083e27cf",
   "metadata": {},
   "outputs": [],
   "source": []
  },
  {
   "cell_type": "code",
   "execution_count": 77,
   "id": "62dfdcde",
   "metadata": {},
   "outputs": [
    {
     "name": "stdout",
     "output_type": "stream",
     "text": [
      "{(0, 0, 0): 0, (0, 0, 1): 0, (0, 0, 2): 0, (0, 0, 3): 0, (0, 1, 0): 0, (0, 1, 1): 0, (0, 1, 2): 0, (0, 1, 3): 0, (0, 2, 0): 0, (0, 2, 1): 0, (0, 2, 2): 0, (0, 2, 3): 0, (0, 3, 0): 0, (0, 3, 1): 0, (0, 3, 2): 0, (0, 3, 3): 0, (0, 4, 0): 0, (0, 4, 1): 0, (0, 4, 2): 0, (0, 4, 3): 0, (1, 0, 0): 0, (1, 0, 1): 0, (1, 0, 2): 0, (1, 0, 3): 0, (1, 1, 0): 0, (1, 1, 1): 0, (1, 1, 2): 0, (1, 1, 3): 0, (1, 2, 0): 0, (1, 2, 1): 0, (1, 2, 2): 0, (1, 2, 3): 0, (1, 3, 0): 0, (1, 3, 1): 0, (1, 3, 2): 0, (1, 3, 3): 0, (1, 4, 0): 0, (1, 4, 1): 0, (1, 4, 2): 0, (1, 4, 3): 0, (2, 0, 0): 0, (2, 0, 1): 0, (2, 0, 2): 0, (2, 0, 3): 0, (2, 1, 0): 0, (2, 1, 1): 0, (2, 1, 2): 0, (2, 1, 3): 0, (2, 2, 0): 0, (2, 2, 1): 0, (2, 2, 2): 0, (2, 2, 3): 0, (2, 3, 0): 0, (2, 3, 1): 0, (2, 3, 2): 0, (2, 3, 3): 0, (2, 4, 0): 0, (2, 4, 1): 0, (2, 4, 2): 0, (2, 4, 3): 0, (3, 0, 0): 0, (3, 0, 1): 0, (3, 0, 2): 0, (3, 0, 3): 0, (3, 1, 0): 0, (3, 1, 1): 0, (3, 1, 2): 0, (3, 1, 3): 0, (3, 2, 0): 0, (3, 2, 1): 0, (3, 2, 2): 0, (3, 2, 3): 0, (3, 3, 0): 0, (3, 3, 1): 0, (3, 3, 2): 0, (3, 3, 3): 0, (3, 4, 0): 0, (3, 4, 1): 0, (3, 4, 2): 0, (3, 4, 3): 0, (4, 0, 0): 0, (4, 0, 1): 0, (4, 0, 2): 0, (4, 0, 3): 0, (4, 1, 0): 0, (4, 1, 1): 0, (4, 1, 2): 0, (4, 1, 3): 0, (4, 2, 0): 0, (4, 2, 1): 0, (4, 2, 2): 0, (4, 2, 3): 0, (4, 3, 0): 0, (4, 3, 1): 0, (4, 3, 2): 0, (4, 3, 3): 0, (4, 4, 0): 0, (4, 4, 1): 0, (4, 4, 2): 0, (4, 4, 3): 0}\n"
     ]
    },
    {
     "ename": "UnboundLocalError",
     "evalue": "local variable 'counter' referenced before assignment",
     "output_type": "error",
     "traceback": [
      "\u001b[1;31m---------------------------------------------------------------------------\u001b[0m",
      "\u001b[1;31mUnboundLocalError\u001b[0m                         Traceback (most recent call last)",
      "\u001b[1;32m~\\AppData\\Local\\Temp\\ipykernel_9944\\4099831847.py\u001b[0m in \u001b[0;36m<module>\u001b[1;34m\u001b[0m\n\u001b[0;32m    214\u001b[0m     \u001b[0mag\u001b[0m \u001b[1;33m=\u001b[0m \u001b[0mAgent\u001b[0m\u001b[1;33m(\u001b[0m\u001b[1;33m)\u001b[0m\u001b[1;33m\u001b[0m\u001b[1;33m\u001b[0m\u001b[0m\n\u001b[0;32m    215\u001b[0m     \u001b[0mepisodes\u001b[0m \u001b[1;33m=\u001b[0m \u001b[1;36m32\u001b[0m\u001b[1;33m\u001b[0m\u001b[1;33m\u001b[0m\u001b[0m\n\u001b[1;32m--> 216\u001b[1;33m     \u001b[0mag\u001b[0m\u001b[1;33m.\u001b[0m\u001b[0mQ_Learning\u001b[0m\u001b[1;33m(\u001b[0m\u001b[0mepisodes\u001b[0m\u001b[1;33m)\u001b[0m\u001b[1;33m\u001b[0m\u001b[1;33m\u001b[0m\u001b[0m\n\u001b[0m\u001b[0;32m    217\u001b[0m     \u001b[0mag\u001b[0m\u001b[1;33m.\u001b[0m\u001b[0mplot\u001b[0m\u001b[1;33m(\u001b[0m\u001b[0mepisodes\u001b[0m\u001b[1;33m)\u001b[0m\u001b[1;33m\u001b[0m\u001b[1;33m\u001b[0m\u001b[0m\n\u001b[0;32m    218\u001b[0m     \u001b[0mag\u001b[0m\u001b[1;33m.\u001b[0m\u001b[0mshowValues\u001b[0m\u001b[1;33m(\u001b[0m\u001b[1;33m)\u001b[0m\u001b[1;33m\u001b[0m\u001b[1;33m\u001b[0m\u001b[0m\n",
      "\u001b[1;32m~\\AppData\\Local\\Temp\\ipykernel_9944\\4099831847.py\u001b[0m in \u001b[0;36mQ_Learning\u001b[1;34m(self, episodes)\u001b[0m\n\u001b[0;32m    180\u001b[0m             \u001b[1;31m#copy new Q values to Q table\u001b[0m\u001b[1;33m\u001b[0m\u001b[1;33m\u001b[0m\u001b[0m\n\u001b[0;32m    181\u001b[0m             \u001b[0mself\u001b[0m\u001b[1;33m.\u001b[0m\u001b[0mQ\u001b[0m \u001b[1;33m=\u001b[0m \u001b[0mself\u001b[0m\u001b[1;33m.\u001b[0m\u001b[0mnew_Q\u001b[0m\u001b[1;33m.\u001b[0m\u001b[0mcopy\u001b[0m\u001b[1;33m(\u001b[0m\u001b[1;33m)\u001b[0m\u001b[1;33m\u001b[0m\u001b[1;33m\u001b[0m\u001b[0m\n\u001b[1;32m--> 182\u001b[1;33m             \u001b[0mcounter\u001b[0m \u001b[1;33m+=\u001b[0m \u001b[1;36m1\u001b[0m\u001b[1;33m\u001b[0m\u001b[1;33m\u001b[0m\u001b[0m\n\u001b[0m\u001b[0;32m    183\u001b[0m         \u001b[1;31m#print final Q table output\u001b[0m\u001b[1;33m\u001b[0m\u001b[1;33m\u001b[0m\u001b[0m\n\u001b[0;32m    184\u001b[0m         \u001b[0mprint\u001b[0m\u001b[1;33m(\u001b[0m\u001b[0mself\u001b[0m\u001b[1;33m.\u001b[0m\u001b[0mQ\u001b[0m\u001b[1;33m)\u001b[0m\u001b[1;33m\u001b[0m\u001b[1;33m\u001b[0m\u001b[0m\n",
      "\u001b[1;31mUnboundLocalError\u001b[0m: local variable 'counter' referenced before assignment"
     ]
    }
   ],
   "source": [
    "import numpy as np\n",
    "import random\n",
    "import matplotlib.pyplot as plt\n",
    "\n",
    "\n",
    "\n",
    "counter = 0\n",
    "BOARD_ROWS = 5\n",
    "BOARD_COLS = 5\n",
    "\n",
    "\n",
    "START = (0, 4)\n",
    "WIN_STATE = (4,0 )\n",
    "WALL_STATE = [(0,0),(0,1),(1,0),(1,3),(2,3),(3,1),(3,3),(4,1)]\n",
    "\n",
    "\n",
    "class State:\n",
    "    def __init__(self, state=START):\n",
    "  \n",
    "        self.state = state\n",
    "        self.isEnd = False        \n",
    "\n",
    "    def getReward(self):\n",
    "\n",
    "        for i in HOLE_STATE:\n",
    "            if self.state == i:\n",
    "                return -5\n",
    "        if self.state == WIN_STATE:\n",
    "            return 1\n",
    "        \n",
    "        else:\n",
    "            return -1\n",
    "\n",
    "    def isEndFunc(self):\n",
    "        \n",
    "        if (self.state == WIN_STATE):\n",
    "            self.isEnd = True\n",
    "            \n",
    "        for i in HOLE_STATE:\n",
    "            if self.state == i:\n",
    "                self.isEnd = True\n",
    "\n",
    "    def nxtPosition(self, action):     \n",
    "        \n",
    "        if action == 0:                \n",
    "            nxtState = (self.state[0] - 1, self.state[1]) #up             \n",
    "        elif action == 1:\n",
    "            nxtState = (self.state[0] + 1, self.state[1]) #down\n",
    "        elif action == 2:\n",
    "            nxtState = (self.state[0], self.state[1] - 1) #left\n",
    "        else:\n",
    "            nxtState = (self.state[0], self.state[1] + 1) #right\n",
    "\n",
    "\n",
    "        \n",
    "        if (nxtState[0] >= 0) and (nxtState[0] <= 4):\n",
    "            if (nxtState[1] >= 0) and (nxtState[1] <= 4):    \n",
    "                                    \n",
    "                    return nxtState \n",
    "             \n",
    "        return self.state \n",
    "\n",
    "\n",
    "\n",
    "          \n",
    "class Agent:\n",
    "\n",
    "    def __init__(self):\n",
    "         \n",
    "        self.states = []\n",
    "        self.actions = [0,1,2,3]    # up, down, left, right\n",
    "        self.State = State()\n",
    "        \n",
    "        self.alpha = 0.5\n",
    "        self.gamma = 0.9\n",
    "        self.epsilon = 0.1\n",
    "        self.isEnd = self.State.isEnd\n",
    "\n",
    "        \n",
    "        self.plot_reward = []\n",
    "        \n",
    "        \n",
    "        self.Q = {}\n",
    "        self.new_Q = {}\n",
    "        \n",
    "        self.rewards = 0\n",
    "        \n",
    "       \n",
    "        for i in range(BOARD_ROWS):\n",
    "            for j in range(BOARD_COLS):\n",
    "                for k in range(len(self.actions)):\n",
    "                    self.Q[(i, j, k)] =0\n",
    "                    self.new_Q[(i, j, k)] = 0\n",
    "        \n",
    "        print(self.Q)\n",
    "        \n",
    "    \n",
    "\n",
    "    \n",
    "    def Action(self):\n",
    "        \n",
    "        rnd = random.random()\n",
    "        \n",
    "        mx_nxt_reward =-10\n",
    "        action = None\n",
    "        \n",
    "         \n",
    "        if(rnd >self.epsilon) :\n",
    "            \n",
    "            for k in self.actions:\n",
    "                \n",
    "                i,j = self.State.state\n",
    "                \n",
    "                nxt_reward = self.Q[(i,j, k)]\n",
    "                \n",
    "                if nxt_reward >= mx_nxt_reward:\n",
    "                    action = k\n",
    "                    mx_nxt_reward = nxt_reward\n",
    "                    \n",
    "        \n",
    "        else:\n",
    "            action = np.random.choice(self.actions)\n",
    "        \n",
    "        \n",
    "        position = self.State.nxtPosition(action)\n",
    "        return position,action\n",
    "    \n",
    "    \n",
    "    def Q_Learning(self,episodes):\n",
    "        x = 0\n",
    "        while(x < episodes):\n",
    "            \n",
    "            if self.isEnd:\n",
    "                \n",
    "                reward = self.State.getReward()\n",
    "                self.rewards += reward\n",
    "                self.plot_reward.append(self.rewards)\n",
    "                \n",
    "                \n",
    "                i,j = self.State.state\n",
    "                for a in self.actions:\n",
    "                    self.new_Q[(i,j,a)] = round(reward,3)\n",
    "                    \n",
    "                \n",
    "                self.State = State()\n",
    "                self.isEnd = self.State.isEnd\n",
    "                \n",
    "                \n",
    "                self.rewards = 0\n",
    "                x+=1\n",
    "                \n",
    "            else:\n",
    "                \n",
    "                mx_nxt_value = -10\n",
    "                \n",
    "                next_state, action = self.Action()\n",
    "                i,j = self.State.state\n",
    "                reward = self.State.getReward()\n",
    "                \n",
    "                self.rewards +=reward\n",
    "                \n",
    "         \n",
    "               \n",
    "                for a in self.actions:\n",
    "                    nxtStateAction = (next_state[0], next_state[1], a)\n",
    "                    q_value = (1-self.alpha)*self.Q[(i,j,action)] + self.alpha*(reward + self.gamma*self.Q[nxtStateAction])\n",
    "                \n",
    "                    #find largest Q value\n",
    "                    if q_value >= mx_nxt_value:\n",
    "                        mx_nxt_value = q_value\n",
    "                \n",
    "                #next state is now current state, check if end state\n",
    "                self.State = State(state=next_state)\n",
    "                self.State.isEndFunc()\n",
    "                self.isEnd = self.State.isEnd\n",
    "                \n",
    "                #update Q values with max Q value for next state\n",
    "                self.new_Q[(i,j,action)] = round(mx_nxt_value,3)\n",
    "            \n",
    "            #copy new Q values to Q table\n",
    "            self.Q = self.new_Q.copy()\n",
    "            counter += 1\n",
    "        #print final Q table output\n",
    "        print(self.Q)\n",
    "        \n",
    "        # New addition\n",
    "        \n",
    "    #plot the reward vs episodes\n",
    "    def plot(self,episodes):\n",
    "        \n",
    "        plt.plot(self.plot_reward)\n",
    "        plt.show()\n",
    "        \n",
    "        \n",
    "    #iterate through the board and find largest Q value in each, print output\n",
    "    def showValues(self):\n",
    "        for i in range(0, BOARD_ROWS):\n",
    "            print('-----------------------------------------------')\n",
    "            out = '| '\n",
    "            for j in range(0, BOARD_COLS):\n",
    "                mx_nxt_value = -10\n",
    "                for a in self.actions:\n",
    "                    nxt_value = self.Q[(i,j,a)]\n",
    "                    if nxt_value >= mx_nxt_value:\n",
    "                        mx_nxt_value = nxt_value\n",
    "                out += str(mx_nxt_value).ljust(6) + ' | '\n",
    "            print(out)\n",
    "        print('-----------------------------------------------')\n",
    "        \n",
    "    \n",
    "        \n",
    "if __name__ == \"__main__\":\n",
    "    #create agent for 10,000 episdoes implementing a Q-learning algorithm plot and show values.\n",
    "    ag = Agent()\n",
    "    episodes = 32\n",
    "    ag.Q_Learning(episodes)\n",
    "    ag.plot(episodes)\n",
    "    ag.showValues()"
   ]
  },
  {
   "cell_type": "code",
   "execution_count": 59,
   "id": "38319632",
   "metadata": {},
   "outputs": [
    {
     "name": "stdout",
     "output_type": "stream",
     "text": [
      "{(0, 0, 0): 0, (0, 0, 1): 0, (0, 0, 2): 0, (0, 0, 3): 0, (0, 1, 0): -5, (0, 1, 1): -5, (0, 1, 2): -5, (0, 1, 3): -5, (0, 2, 0): -4.74, (0, 2, 1): -4.156, (0, 2, 2): -5.461, (0, 2, 3): -5.217, (0, 3, 0): -5.258, (0, 3, 1): -4.875, (0, 3, 2): -4.741, (0, 3, 3): -5.711, (0, 4, 0): -5.674, (0, 4, 1): -5.703, (0, 4, 2): -5.267, (0, 4, 3): -5.569, (1, 0, 0): -5, (1, 0, 1): -5, (1, 0, 2): -5, (1, 0, 3): -5, (1, 1, 0): -5.479, (1, 1, 1): -2.784, (1, 1, 2): -5.344, (1, 1, 3): -3.992, (1, 2, 0): -4.479, (1, 2, 1): -3.509, (1, 2, 2): -3.506, (1, 2, 3): -5.328, (1, 3, 0): -5, (1, 3, 1): -5, (1, 3, 2): -5, (1, 3, 3): -5, (1, 4, 0): -5.6, (1, 4, 1): -5.294, (1, 4, 2): -5.328, (1, 4, 3): -5.29, (2, 0, 0): -4.812, (2, 0, 1): -1.091, (2, 0, 2): -1.973, (2, 0, 3): -2.557, (2, 1, 0): -3.031, (2, 1, 1): -5.188, (2, 1, 2): -1.982, (2, 1, 3): -3.171, (2, 2, 0): -3.156, (2, 2, 1): -3.564, (2, 2, 2): -2.784, (2, 2, 3): -4.125, (2, 3, 0): -5, (2, 3, 1): -5, (2, 3, 2): -5, (2, 3, 3): -5, (2, 4, 0): -5.035, (2, 4, 1): -4.976, (2, 4, 2): -5.188, (2, 4, 3): -5.123, (3, 0, 0): -1.684, (3, 0, 1): -0.1, (3, 0, 2): -1.099, (3, 0, 3): -5.414, (3, 1, 0): -5, (3, 1, 1): -5, (3, 1, 2): -5, (3, 1, 3): -5, (3, 2, 0): -3.493, (3, 2, 1): -3.976, (3, 2, 2): -4.125, (3, 2, 3): -4.125, (3, 3, 0): -5, (3, 3, 1): -5, (3, 3, 2): -5, (3, 3, 3): -5, (3, 4, 0): -4.772, (3, 4, 1): -4.785, (3, 4, 2): -4.875, (3, 4, 3): -4.866, (4, 0, 0): 1, (4, 0, 1): 1, (4, 0, 2): 1, (4, 0, 3): 1, (4, 1, 0): -5, (4, 1, 1): -5, (4, 1, 2): -5, (4, 1, 3): -5, (4, 2, 0): -4.073, (4, 2, 1): -4.214, (4, 2, 2): -4.25, (4, 2, 3): -4.106, (4, 3, 0): -4.812, (4, 3, 1): -4.312, (4, 3, 2): -4.417, (4, 3, 3): -4.36, (4, 4, 0): -4.633, (4, 4, 1): -4.596, (4, 4, 2): -4.593, (4, 4, 3): -4.702}\n",
      "0\n"
     ]
    }
   ],
   "source": [
    "ag.Q_Learning(0)"
   ]
  },
  {
   "cell_type": "code",
   "execution_count": null,
   "id": "303de552",
   "metadata": {},
   "outputs": [],
   "source": [
    "#https://github.com/ronanmmurphy/Q-Learning-Algorithm/blob/main/Q-Learning%20Algorithm.py"
   ]
  },
  {
   "cell_type": "code",
   "execution_count": 53,
   "id": "c9334bcd",
   "metadata": {},
   "outputs": [
    {
     "name": "stdout",
     "output_type": "stream",
     "text": [
      "{(0, 0, 0): 0, (0, 0, 1): 0, (0, 0, 2): 0, (0, 0, 3): 0, (0, 1, 0): -5, (0, 1, 1): -5, (0, 1, 2): -5, (0, 1, 3): -5, (0, 2, 0): -4.74, (0, 2, 1): -4.156, (0, 2, 2): -5.499, (0, 2, 3): -5.266, (0, 3, 0): -5.266, (0, 3, 1): -5.499, (0, 3, 2): -4.741, (0, 3, 3): -5.74, (0, 4, 0): -5.74, (0, 4, 1): -5.949, (0, 4, 2): -5.267, (0, 4, 3): -5.74, (1, 0, 0): -5, (1, 0, 1): -5, (1, 0, 2): -5, (1, 0, 3): -5, (1, 1, 0): -5.499, (1, 1, 1): -2.784, (1, 1, 2): -5.499, (1, 1, 3): -4.155, (1, 2, 0): -4.74, (1, 2, 1): -3.506, (1, 2, 2): -3.506, (1, 2, 3): -5.499, (1, 3, 0): -5, (1, 3, 1): -5, (1, 3, 2): -5, (1, 3, 3): -5, (1, 4, 0): -5.556, (1, 4, 1): -5.574, (1, 4, 2): -5.499, (1, 4, 3): -5.702, (2, 0, 0): -5.499, (2, 0, 1): -1.091, (2, 0, 2): -1.981, (2, 0, 3): -2.783, (2, 1, 0): -3.505, (2, 1, 1): -5.499, (2, 1, 2): -1.982, (2, 1, 3): -3.505, (2, 2, 0): -3.742, (2, 2, 1): -4.081, (2, 2, 2): -2.784, (2, 2, 3): -5.328, (2, 3, 0): -5, (2, 3, 1): -5, (2, 3, 2): -5, (2, 3, 3): -5, (2, 4, 0): -5.449, (2, 4, 1): -5.289, (2, 4, 2): -5.344, (2, 4, 3): -5.402, (3, 0, 0): -1.981, (3, 0, 1): -0.1, (3, 0, 2): -1.09, (3, 0, 3): -5.499, (3, 1, 0): -5, (3, 1, 1): -5, (3, 1, 2): -5, (3, 1, 3): -5, (3, 2, 0): -3.503, (3, 2, 1): -3.562, (3, 2, 2): -4.875, (3, 2, 3): -4.812, (3, 3, 0): -5, (3, 3, 1): -5, (3, 3, 2): -5, (3, 3, 3): -5, (3, 4, 0): -5.259, (3, 4, 1): -4.995, (3, 4, 2): -4.875, (3, 4, 3): -4.866, (4, 0, 0): 1, (4, 0, 1): 1, (4, 0, 2): 1, (4, 0, 3): 1, (4, 1, 0): -5, (4, 1, 1): -5, (4, 1, 2): -5, (4, 1, 3): -5, (4, 2, 0): -4.082, (4, 2, 1): -4.312, (4, 2, 2): -4.25, (4, 2, 3): -4.479, (4, 3, 0): -4.812, (4, 3, 1): -4.49, (4, 3, 2): -4.514, (4, 3, 3): -4.558, (4, 4, 0): -4.81, (4, 4, 1): -4.866, (4, 4, 2): -4.71, (4, 4, 3): -4.907}\n"
     ]
    },
    {
     "ename": "AttributeError",
     "evalue": "'NoneType' object has no attribute 'items'",
     "output_type": "error",
     "traceback": [
      "\u001b[1;31m---------------------------------------------------------------------------\u001b[0m",
      "\u001b[1;31mAttributeError\u001b[0m                            Traceback (most recent call last)",
      "\u001b[1;32m~\\AppData\\Local\\Temp\\ipykernel_9944\\1427245863.py\u001b[0m in \u001b[0;36m<module>\u001b[1;34m\u001b[0m\n\u001b[0;32m      3\u001b[0m \u001b[1;33m\u001b[0m\u001b[0m\n\u001b[0;32m      4\u001b[0m \u001b[0mvalue\u001b[0m \u001b[1;33m=\u001b[0m \u001b[0mag\u001b[0m\u001b[1;33m.\u001b[0m\u001b[0mQ_Learning\u001b[0m\u001b[1;33m(\u001b[0m\u001b[1;36m100\u001b[0m\u001b[1;33m)\u001b[0m\u001b[1;33m\u001b[0m\u001b[1;33m\u001b[0m\u001b[0m\n\u001b[1;32m----> 5\u001b[1;33m \u001b[0mvalue\u001b[0m\u001b[1;33m.\u001b[0m\u001b[0mitems\u001b[0m\u001b[1;33m(\u001b[0m\u001b[1;33m)\u001b[0m\u001b[1;33m[\u001b[0m\u001b[1;33m-\u001b[0m\u001b[1;36m1\u001b[0m\u001b[1;33m]\u001b[0m\u001b[1;33m\u001b[0m\u001b[1;33m\u001b[0m\u001b[0m\n\u001b[0m\u001b[0;32m      6\u001b[0m \u001b[1;33m\u001b[0m\u001b[0m\n",
      "\u001b[1;31mAttributeError\u001b[0m: 'NoneType' object has no attribute 'items'"
     ]
    }
   ],
   "source": [
    "episodes = 100\n",
    "\n",
    "\n",
    "value = ag.Q_Learning(100)\n",
    "value.items()[-1]\n",
    "    "
   ]
  },
  {
   "cell_type": "code",
   "execution_count": 74,
   "id": "55328755",
   "metadata": {},
   "outputs": [
    {
     "data": {
      "text/plain": [
       "((0, 4), 0)"
      ]
     },
     "execution_count": 74,
     "metadata": {},
     "output_type": "execute_result"
    }
   ],
   "source": []
  },
  {
   "cell_type": "code",
   "execution_count": null,
   "id": "78159e09",
   "metadata": {},
   "outputs": [],
   "source": []
  }
 ],
 "metadata": {
  "kernelspec": {
   "display_name": "Python 3 (ipykernel)",
   "language": "python",
   "name": "python3"
  },
  "language_info": {
   "codemirror_mode": {
    "name": "ipython",
    "version": 3
   },
   "file_extension": ".py",
   "mimetype": "text/x-python",
   "name": "python",
   "nbconvert_exporter": "python",
   "pygments_lexer": "ipython3",
   "version": "3.9.13"
  }
 },
 "nbformat": 4,
 "nbformat_minor": 5
}
