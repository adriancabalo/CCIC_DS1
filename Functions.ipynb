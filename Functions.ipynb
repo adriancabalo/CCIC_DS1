{
 "cells": [
  {
   "cell_type": "code",
   "execution_count": 36,
   "id": "e13426d3",
   "metadata": {},
   "outputs": [
    {
     "name": "stdout",
     "output_type": "stream",
     "text": [
      "[6, 5, 4, 3, 2, 1]\n",
      "0.00021809999998367857\n"
     ]
    }
   ],
   "source": [
    "from timeit import default_timer as timer\n",
    "start = timer()\n",
    "\n",
    "def sort(array):\n",
    "    n = len(array)\n",
    "    for i in range(n):\n",
    "        alreadySorted = True\n",
    "        for x in range(n - i - 1):\n",
    "            if(array[x] < array[x+1]):\n",
    "                array[x],array[x+1] = array[x+1],array[x]\n",
    "                alreadySorted = False\n",
    "        if alreadySorted:\n",
    "            break\n",
    "    return array\n",
    "\n",
    "\n",
    "\n",
    "print(sort([1,2,3,4,5,6]))\n",
    "\n",
    "end = timer()\n",
    "print(end - start)\n",
    "\n",
    "\n"
   ]
  },
  {
   "cell_type": "code",
   "execution_count": null,
   "id": "e7ee579a",
   "metadata": {},
   "outputs": [],
   "source": [
    "timer = [[1,\"0.000555800000029194 \"],\n",
    "         [2,\" 0.0005819000000428787\"],\n",
    "        [3,\"0.00022169999988363998\"]]"
   ]
  },
  {
   "cell_type": "code",
   "execution_count": null,
   "id": "f0f3c9e9",
   "metadata": {},
   "outputs": [],
   "source": []
  }
 ],
 "metadata": {
  "kernelspec": {
   "display_name": "Python 3 (ipykernel)",
   "language": "python",
   "name": "python3"
  },
  "language_info": {
   "codemirror_mode": {
    "name": "ipython",
    "version": 3
   },
   "file_extension": ".py",
   "mimetype": "text/x-python",
   "name": "python",
   "nbconvert_exporter": "python",
   "pygments_lexer": "ipython3",
   "version": "3.9.12"
  }
 },
 "nbformat": 4,
 "nbformat_minor": 5
}
