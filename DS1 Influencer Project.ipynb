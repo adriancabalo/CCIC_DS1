{
 "cells": [
  {
   "cell_type": "code",
   "execution_count": 2,
   "id": "926b5ee2",
   "metadata": {},
   "outputs": [],
   "source": [
    "import pandas as pd\n",
    "import seaborn as sns\n",
    "\n"
   ]
  },
  {
   "cell_type": "code",
   "execution_count": 3,
   "id": "e5ba46d3",
   "metadata": {
    "scrolled": false
   },
   "outputs": [
    {
     "name": "stdout",
     "output_type": "stream",
     "text": [
      "     Rank           Channel Info  Influence Score Followers Avg. Likes Posts  \\\n",
      "0       1            \\ncristiano               92    485.2m       8.7m  3.4k   \n",
      "1       2            kyliejenner               91    370.7m       8.2m  7.0k   \n",
      "2       3             \\nleomessi               90    363.9m       6.7m   915   \n",
      "3       4          \\nselenagomez               93    348.8m       6.1m  1.9k   \n",
      "4       5              \\ntherock               91    339.4m       1.8m  6.8k   \n",
      "..    ...                    ...              ...       ...        ...   ...   \n",
      "195   196  \\nkhabib_nurmagomedov               63     33.6m     680.6k  4.6k   \n",
      "196   197         \\ndanbilzerian               84     33.6m       2.2m  1.4k   \n",
      "197   198            \\nraisa6690               80     33.6m     227.8k  4.2k   \n",
      "198   199          \\nluansantana               79     33.5m     193.3k   865   \n",
      "199   200           \\nnancyajram               81     33.4m     382.5k  3.8k   \n",
      "\n",
      "     60-Day Eng Rate New Post Avg. Likes Total Likes Country Or Region  \n",
      "0              0.013                6.3m       29.1b             Spain  \n",
      "1              0.014                5.0m       57.4b     United States  \n",
      "2              0.010                3.5m        6.1b               NaN  \n",
      "3              0.005                1.7m       11.4b     United States  \n",
      "4              0.003              932.0k       12.6b     United States  \n",
      "..               ...                 ...         ...               ...  \n",
      "195            0.009              305.7k        3.1b            Russia  \n",
      "196            0.064                2.1m        3.0b            Canada  \n",
      "197            0.003              103.2k      955.9m         Indonesia  \n",
      "198            0.003               82.6k      167.2m            Brazil  \n",
      "199            0.004              128.2k        1.5b            France  \n",
      "\n",
      "[200 rows x 10 columns]\n"
     ]
    }
   ],
   "source": [
    "df = pd.read_csv('Top_Influencers.csv')\n",
    "\n",
    "print(df)"
   ]
  },
  {
   "cell_type": "code",
   "execution_count": 4,
   "id": "e437c766",
   "metadata": {},
   "outputs": [
    {
     "data": {
      "text/html": [
       "<div>\n",
       "<style scoped>\n",
       "    .dataframe tbody tr th:only-of-type {\n",
       "        vertical-align: middle;\n",
       "    }\n",
       "\n",
       "    .dataframe tbody tr th {\n",
       "        vertical-align: top;\n",
       "    }\n",
       "\n",
       "    .dataframe thead th {\n",
       "        text-align: right;\n",
       "    }\n",
       "</style>\n",
       "<table border=\"1\" class=\"dataframe\">\n",
       "  <thead>\n",
       "    <tr style=\"text-align: right;\">\n",
       "      <th></th>\n",
       "      <th>Rank</th>\n",
       "      <th>Channel Info</th>\n",
       "      <th>Influence Score</th>\n",
       "      <th>Followers</th>\n",
       "      <th>Avg. Likes</th>\n",
       "      <th>Posts</th>\n",
       "      <th>60-Day Eng Rate</th>\n",
       "      <th>New Post Avg. Likes</th>\n",
       "      <th>Total Likes</th>\n",
       "      <th>Country Or Region</th>\n",
       "    </tr>\n",
       "  </thead>\n",
       "  <tbody>\n",
       "    <tr>\n",
       "      <th>0</th>\n",
       "      <td>1</td>\n",
       "      <td>\\ncristiano</td>\n",
       "      <td>92</td>\n",
       "      <td>485.2m</td>\n",
       "      <td>8.7m</td>\n",
       "      <td>3.4k</td>\n",
       "      <td>0.013</td>\n",
       "      <td>6.3m</td>\n",
       "      <td>29.1b</td>\n",
       "      <td>Spain</td>\n",
       "    </tr>\n",
       "    <tr>\n",
       "      <th>1</th>\n",
       "      <td>2</td>\n",
       "      <td>kyliejenner</td>\n",
       "      <td>91</td>\n",
       "      <td>370.7m</td>\n",
       "      <td>8.2m</td>\n",
       "      <td>7.0k</td>\n",
       "      <td>0.014</td>\n",
       "      <td>5.0m</td>\n",
       "      <td>57.4b</td>\n",
       "      <td>United States</td>\n",
       "    </tr>\n",
       "    <tr>\n",
       "      <th>2</th>\n",
       "      <td>3</td>\n",
       "      <td>\\nleomessi</td>\n",
       "      <td>90</td>\n",
       "      <td>363.9m</td>\n",
       "      <td>6.7m</td>\n",
       "      <td>915</td>\n",
       "      <td>0.010</td>\n",
       "      <td>3.5m</td>\n",
       "      <td>6.1b</td>\n",
       "      <td>NaN</td>\n",
       "    </tr>\n",
       "    <tr>\n",
       "      <th>3</th>\n",
       "      <td>4</td>\n",
       "      <td>\\nselenagomez</td>\n",
       "      <td>93</td>\n",
       "      <td>348.8m</td>\n",
       "      <td>6.1m</td>\n",
       "      <td>1.9k</td>\n",
       "      <td>0.005</td>\n",
       "      <td>1.7m</td>\n",
       "      <td>11.4b</td>\n",
       "      <td>United States</td>\n",
       "    </tr>\n",
       "    <tr>\n",
       "      <th>4</th>\n",
       "      <td>5</td>\n",
       "      <td>\\ntherock</td>\n",
       "      <td>91</td>\n",
       "      <td>339.4m</td>\n",
       "      <td>1.8m</td>\n",
       "      <td>6.8k</td>\n",
       "      <td>0.003</td>\n",
       "      <td>932.0k</td>\n",
       "      <td>12.6b</td>\n",
       "      <td>United States</td>\n",
       "    </tr>\n",
       "  </tbody>\n",
       "</table>\n",
       "</div>"
      ],
      "text/plain": [
       "   Rank   Channel Info  Influence Score Followers Avg. Likes Posts  \\\n",
       "0     1    \\ncristiano               92    485.2m       8.7m  3.4k   \n",
       "1     2    kyliejenner               91    370.7m       8.2m  7.0k   \n",
       "2     3     \\nleomessi               90    363.9m       6.7m   915   \n",
       "3     4  \\nselenagomez               93    348.8m       6.1m  1.9k   \n",
       "4     5      \\ntherock               91    339.4m       1.8m  6.8k   \n",
       "\n",
       "   60-Day Eng Rate New Post Avg. Likes Total Likes Country Or Region  \n",
       "0            0.013                6.3m       29.1b             Spain  \n",
       "1            0.014                5.0m       57.4b     United States  \n",
       "2            0.010                3.5m        6.1b               NaN  \n",
       "3            0.005                1.7m       11.4b     United States  \n",
       "4            0.003              932.0k       12.6b     United States  "
      ]
     },
     "execution_count": 4,
     "metadata": {},
     "output_type": "execute_result"
    }
   ],
   "source": [
    "df.head()\n",
    "\n",
    "\n"
   ]
  },
  {
   "cell_type": "code",
   "execution_count": 32,
   "id": "23fd575f",
   "metadata": {
    "scrolled": true
   },
   "outputs": [
    {
     "name": "stdout",
     "output_type": "stream",
     "text": [
      "Mean following for all influencers (in millions): \n",
      "784.91 \n",
      "\n",
      "Mode for following (in millions): \n",
      "0    336.0\n",
      "1    338.0\n",
      "2    360.0\n",
      "3    529.0\n",
      "4    551.0\n",
      "5    681.0\n",
      "Name: Followers, dtype: float64 \n",
      "\n",
      "Median for following (in millions): \n",
      "509.5 \n",
      "\n",
      "\n",
      "\n",
      "Mean Influence Score for all influencers: \n",
      "81.85 \n",
      "\n",
      "Mode for Influence Score: \n",
      "0    85\n",
      "Name: Influence Score, dtype: int64 \n",
      "\n",
      "Median for Influence Score: \n",
      "84.0 \n",
      "\n"
     ]
    },
    {
     "name": "stderr",
     "output_type": "stream",
     "text": [
      "C:\\Users\\acabalo\\AppData\\Local\\Temp\\ipykernel_7976\\4127347502.py:6: FutureWarning: The default value of regex will change from True to False in a future version.\n",
      "  q1['Followers'] = q1['Followers'].str.replace(r'\\D', '').astype(float)\n"
     ]
    },
    {
     "data": {
      "text/plain": [
       "<AxesSubplot:xlabel='Followers', ylabel='Influence Score'>"
      ]
     },
     "execution_count": 32,
     "metadata": {},
     "output_type": "execute_result"
    },
    {
     "data": {
      "image/png": "[encoded data removed]",
      "text/plain": [
       "<Figure size 432x288 with 1 Axes>"
      ]
     },
     "metadata": {
      "needs_background": "light"
     },
     "output_type": "display_data"
    }
   ],
   "source": [
    "# number of followers an influencer has and their influence score\n",
    "\n",
    "q1 = df.drop(labels = ['Rank','Channel Info', 'Avg. Likes','Posts','60-Day Eng Rate','New Post Avg. Likes','Total Likes','Country Or Region'],axis=1)\n",
    "\n",
    "#Removes the M stating for milion so we can find the mean meadian and mode\n",
    "q1['Followers'] = q1['Followers'].str.replace(r'\\D', '').astype(float)\n",
    "# or we could do where 'result' is interchangeable    data['result'] = data['result'].map(lambda x: x.lstrip('+-').rstrip('bcmk'))  then we do  q1[Result] = q1[Result].astypr(float)\n",
    "\n",
    "print(\"Mean following for all influencers (in millions): \")\n",
    "print(q1['Followers'].mean(), \"\\n\")\n",
    "print(\"Mode for following (in millions): \")\n",
    "print(q1['Followers'].mode(),\"\\n\")\n",
    "print(\"Median for following (in millions): \")\n",
    "print(q1['Followers'].median(),\"\\n\\n\\n\")\n",
    "\n",
    "\n",
    "print(\"Mean Influence Score for all influencers: \")\n",
    "print(q1['Influence Score'].mean(), \"\\n\")\n",
    "print(\"Mode for Influence Score: \")\n",
    "print(q1['Influence Score'].mode(),\"\\n\")\n",
    "print(\"Median for Influence Score: \")\n",
    "print(q1['Influence Score'].median(),\"\\n\")\n",
    "\n",
    "sns.regplot(x = 'Followers', y = 'Influence Score', data = q1)\n"
   ]
  },
  {
   "cell_type": "code",
   "execution_count": 34,
   "id": "a458448b",
   "metadata": {},
   "outputs": [],
   "source": [
    "#average likes an influencer has on a post and their influence score?\n",
    "\n",
    "q2 = df.drop(labels = ['Rank','Channel Info', 'Followers','Posts','60-Day Eng Rate','New Post Avg. Likes','Total Likes','Country Or Region'],axis=1)\n",
    "\n",
    "#print(q2)\n"
   ]
  },
  {
   "cell_type": "code",
   "execution_count": 16,
   "id": "3ac56425",
   "metadata": {},
   "outputs": [
    {
     "name": "stdout",
     "output_type": "stream",
     "text": [
      "     Influence Score Total Likes\n",
      "0                 92       29.1b\n",
      "1                 91       57.4b\n",
      "2                 90        6.1b\n",
      "3                 93       11.4b\n",
      "4                 91       12.6b\n",
      "..               ...         ...\n",
      "195               63        3.1b\n",
      "196               84        3.0b\n",
      "197               80      955.9m\n",
      "198               79      167.2m\n",
      "199               81        1.5b\n",
      "\n",
      "[200 rows x 2 columns]\n"
     ]
    }
   ],
   "source": [
    "#total number of likes an influencer has and their influence score?\n",
    "\n",
    "q3 = df.drop(labels = ['Rank','Channel Info', 'Followers','Posts','60-Day Eng Rate','New Post Avg. Likes','Avg. Likes','Country Or Region'],axis=1)\n",
    "\n",
    "print(q3)"
   ]
  },
  {
   "cell_type": "code",
   "execution_count": 17,
   "id": "380e3f3b",
   "metadata": {},
   "outputs": [
    {
     "name": "stdout",
     "output_type": "stream",
     "text": [
      "     Influence Score Posts\n",
      "0                 92  3.4k\n",
      "1                 91  7.0k\n",
      "2                 90   915\n",
      "3                 93  1.9k\n",
      "4                 91  6.8k\n",
      "..               ...   ...\n",
      "195               63  4.6k\n",
      "196               84  1.4k\n",
      "197               80  4.2k\n",
      "198               79   865\n",
      "199               81  3.8k\n",
      "\n",
      "[200 rows x 2 columns]\n"
     ]
    }
   ],
   "source": [
    "#number of posts an influencer has made and their influence score?\n",
    "\n",
    "q4 = df.drop(labels = ['Rank','Channel Info', 'Followers','Total Likes','60-Day Eng Rate','New Post Avg. Likes','Avg. Likes','Country Or Region'],axis=1)\n",
    "\n",
    "print(q4)"
   ]
  },
  {
   "cell_type": "code",
   "execution_count": null,
   "id": "d80e3209",
   "metadata": {},
   "outputs": [],
   "source": []
  },
  {
   "cell_type": "code",
   "execution_count": null,
   "id": "27a86cc3",
   "metadata": {},
   "outputs": [],
   "source": []
  }
 ],
 "metadata": {
  "kernelspec": {
   "display_name": "Python 3 (ipykernel)",
   "language": "python",
   "name": "python3"
  },
  "language_info": {
   "codemirror_mode": {
    "name": "ipython",
    "version": 3
   },
   "file_extension": ".py",
   "mimetype": "text/x-python",
   "name": "python",
   "nbconvert_exporter": "python",
   "pygments_lexer": "ipython3",
   "version": "3.9.12"
  }
 },
 "nbformat": 4,
 "nbformat_minor": 5
}
