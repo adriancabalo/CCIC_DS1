{
 "cells": [
  {
   "cell_type": "code",
   "execution_count": 14,
   "id": "2b280b73",
   "metadata": {},
   "outputs": [
    {
     "name": "stdout",
     "output_type": "stream",
     "text": [
      "160.0\n"
     ]
    }
   ],
   "source": [
    "x = 400\n",
    "y = .02\n",
    "xy = x * y\n",
    "savings = xy * 20\n",
    "print(savings)"
   ]
  },
  {
   "cell_type": "code",
   "execution_count": 2,
   "id": "de89e679",
   "metadata": {},
   "outputs": [
    {
     "name": "stdout",
     "output_type": "stream",
     "text": [
      "120.4\n"
     ]
    }
   ],
   "source": [
    "x = 140\n",
    "y = .14\n",
    "xy = x * y\n",
    "money = x - xy\n",
    "print(money)"
   ]
  },
  {
   "cell_type": "code",
   "execution_count": 5,
   "id": "7d5b24f5",
   "metadata": {},
   "outputs": [
    {
     "name": "stdout",
     "output_type": "stream",
     "text": [
      "315.0\n"
     ]
    }
   ],
   "source": [
    "x = 300\n",
    "y = 0.05\n",
    "xy = x * y\n",
    "owe = xy + 300\n",
    "print(owe)"
   ]
  },
  {
   "cell_type": "code",
   "execution_count": 18,
   "id": "c978a29d",
   "metadata": {},
   "outputs": [
    {
     "name": "stdout",
     "output_type": "stream",
     "text": [
      "663.0\n",
      "312.0\n",
      "975.0\n",
      "4.411764705882348\n"
     ]
    }
   ],
   "source": [
    "bankFees = (850 * 0.03) * 26\n",
    "print(bankFees)\n",
    "mexicoFees = (120 * .1 ) * 26 \n",
    "print(mexicoFees)\n",
    "print(bankFees + mexicoFees)\n",
    "totalIncome = (850 * 26)\n",
    "totalFee = (totalIncome - 975)\n",
    "total = (21125 * 100)/22100\n",
    "print(100 - total)\n",
    "\n",
    "\n"
   ]
  },
  {
   "cell_type": "code",
   "execution_count": 20,
   "id": "46894193",
   "metadata": {},
   "outputs": [
    {
     "name": "stdout",
     "output_type": "stream",
     "text": [
      "12.5\n"
     ]
    }
   ],
   "source": [
    "x = 50\n",
    "y = 400\n",
    "xy = (50 * 100)/400\n",
    "print(xy)"
   ]
  },
  {
   "cell_type": "code",
   "execution_count": 21,
   "id": "34f0582a",
   "metadata": {},
   "outputs": [
    {
     "name": "stdout",
     "output_type": "stream",
     "text": [
      "1288.05\n"
     ]
    }
   ],
   "source": [
    "x = 1385\n",
    "y = .07\n",
    "xy = (1385 * .07)\n",
    "total = x - xy\n",
    "print(total)"
   ]
  },
  {
   "cell_type": "code",
   "execution_count": null,
   "id": "131945b0",
   "metadata": {},
   "outputs": [],
   "source": []
  }
 ],
 "metadata": {
  "kernelspec": {
   "display_name": "Python 3 (ipykernel)",
   "language": "python",
   "name": "python3"
  },
  "language_info": {
   "codemirror_mode": {
    "name": "ipython",
    "version": 3
   },
   "file_extension": ".py",
   "mimetype": "text/x-python",
   "name": "python",
   "nbconvert_exporter": "python",
   "pygments_lexer": "ipython3",
   "version": "3.9.12"
  }
 },
 "nbformat": 4,
 "nbformat_minor": 5
}
